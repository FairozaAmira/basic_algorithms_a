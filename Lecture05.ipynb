{
  "nbformat": 4,
  "nbformat_minor": 0,
  "metadata": {
    "kernelspec": {
      "display_name": "Python 3",
      "language": "python",
      "name": "python3"
    },
    "language_info": {
      "codemirror_mode": {
        "name": "ipython",
        "version": 3
      },
      "file_extension": ".py",
      "mimetype": "text/x-python",
      "name": "python",
      "nbconvert_exporter": "python",
      "pygments_lexer": "ipython3",
      "version": "3.7.3"
    },
    "colab": {
      "name": "Lecture05_a.ipynb",
      "provenance": [],
      "collapsed_sections": [],
      "include_colab_link": true
    }
  },
  "cells": [
    {
      "cell_type": "markdown",
      "metadata": {
        "id": "view-in-github",
        "colab_type": "text"
      },
      "source": [
        "<a href=\"https://colab.research.google.com/github/FairozaAmira/basic_algorithms_a/blob/master/Lecture05.ipynb\" target=\"_parent\"><img src=\"https://colab.research.google.com/assets/colab-badge.svg\" alt=\"Open In Colab\"/></a>"
      ]
    },
    {
      "cell_type": "markdown",
      "metadata": {
        "id": "ekGzY111XdP_",
        "colab_type": "text"
      },
      "source": [
        "# 第５回の講義の中で出た課題の答え\n",
        "\n",
        "## 割り当て処理"
      ]
    },
    {
      "cell_type": "markdown",
      "metadata": {
        "id": "eOE9xR_kXdQC",
        "colab_type": "text"
      },
      "source": [
        "1. `a = 2`とすると、`a+2`は？"
      ]
    },
    {
      "cell_type": "code",
      "metadata": {
        "id": "hBZjSTkuXdQD",
        "colab_type": "code",
        "outputId": "8705e959-4752-4d19-dd94-2a892c21c31f",
        "colab": {
          "base_uri": "https://localhost:8080/",
          "height": 35
        }
      },
      "source": [
        "a = 2\n",
        "a += 2\n",
        "print(a)"
      ],
      "execution_count": 0,
      "outputs": [
        {
          "output_type": "stream",
          "text": [
            "4\n"
          ],
          "name": "stdout"
        }
      ]
    },
    {
      "cell_type": "markdown",
      "metadata": {
        "id": "_zKsjIqNXdQH",
        "colab_type": "text"
      },
      "source": [
        "2. `b=5`とすると、$a \\times b$は？"
      ]
    },
    {
      "cell_type": "code",
      "metadata": {
        "id": "CvuNIo3LXdQI",
        "colab_type": "code",
        "outputId": "b81eeffd-c9ca-40fd-ae8e-52b28e4e9b33",
        "colab": {
          "base_uri": "https://localhost:8080/",
          "height": 35
        }
      },
      "source": [
        "b = 5\n",
        "b *= a\n",
        "print (b)"
      ],
      "execution_count": 0,
      "outputs": [
        {
          "output_type": "stream",
          "text": [
            "20\n"
          ],
          "name": "stdout"
        }
      ]
    },
    {
      "cell_type": "markdown",
      "metadata": {
        "id": "9suU5SiQXdQL",
        "colab_type": "text"
      },
      "source": [
        "3. `c=10`とすると、$c^b$は？"
      ]
    },
    {
      "cell_type": "code",
      "metadata": {
        "id": "oEDcM69BXdQM",
        "colab_type": "code",
        "outputId": "d226ac9b-b91f-469d-9f4d-b9ed4ec3a901",
        "colab": {
          "base_uri": "https://localhost:8080/",
          "height": 35
        }
      },
      "source": [
        "c = 10\n",
        "c **= b\n",
        "print(c)"
      ],
      "execution_count": 0,
      "outputs": [
        {
          "output_type": "stream",
          "text": [
            "100000000000000000000\n"
          ],
          "name": "stdout"
        }
      ]
    },
    {
      "cell_type": "markdown",
      "metadata": {
        "id": "ldw-cvGHXdQO",
        "colab_type": "text"
      },
      "source": [
        "## 比較処理"
      ]
    },
    {
      "cell_type": "markdown",
      "metadata": {
        "id": "NVsObGMwXdQP",
        "colab_type": "text"
      },
      "source": [
        "1. 以下からどれが奇数か見せなさい。\n",
        "\n",
        "a) 13\n",
        "b) 72\n",
        "c) 255"
      ]
    },
    {
      "cell_type": "code",
      "metadata": {
        "id": "kwEsm1pYXdQQ",
        "colab_type": "code",
        "outputId": "f09bc6ab-ef8c-4b75-fc19-9217d9732b2a",
        "colab": {
          "base_uri": "https://localhost:8080/",
          "height": 35
        }
      },
      "source": [
        "13 % 2 == 1"
      ],
      "execution_count": 0,
      "outputs": [
        {
          "output_type": "execute_result",
          "data": {
            "text/plain": [
              "True"
            ]
          },
          "metadata": {
            "tags": []
          },
          "execution_count": 4
        }
      ]
    },
    {
      "cell_type": "code",
      "metadata": {
        "id": "OX11jFunXdQU",
        "colab_type": "code",
        "outputId": "757d7eb3-f945-4d00-b1e5-03ca3389f6ee",
        "colab": {
          "base_uri": "https://localhost:8080/",
          "height": 35
        }
      },
      "source": [
        "72 % 2 == 1"
      ],
      "execution_count": 0,
      "outputs": [
        {
          "output_type": "execute_result",
          "data": {
            "text/plain": [
              "False"
            ]
          },
          "metadata": {
            "tags": []
          },
          "execution_count": 5
        }
      ]
    },
    {
      "cell_type": "code",
      "metadata": {
        "id": "M7KaZ6wTXdQX",
        "colab_type": "code",
        "outputId": "cd2e0627-0d8f-4e9d-9a0a-37fbde03eb8c",
        "colab": {
          "base_uri": "https://localhost:8080/",
          "height": 35
        }
      },
      "source": [
        "255 % 2 == 1"
      ],
      "execution_count": 0,
      "outputs": [
        {
          "output_type": "execute_result",
          "data": {
            "text/plain": [
              "True"
            ]
          },
          "metadata": {
            "tags": []
          },
          "execution_count": 6
        }
      ]
    },
    {
      "cell_type": "markdown",
      "metadata": {
        "id": "4YchWXLSXdQZ",
        "colab_type": "text"
      },
      "source": [
        "2. 63は50から100にあるかどうか確認してください。"
      ]
    },
    {
      "cell_type": "code",
      "metadata": {
        "id": "S3mG16muXdQZ",
        "colab_type": "code",
        "outputId": "ce31aaf9-b015-4462-eb7e-0c0d8ce55a38",
        "colab": {
          "base_uri": "https://localhost:8080/",
          "height": 35
        }
      },
      "source": [
        "a = 63\n",
        "50 < a < 100"
      ],
      "execution_count": 0,
      "outputs": [
        {
          "output_type": "execute_result",
          "data": {
            "text/plain": [
              "True"
            ]
          },
          "metadata": {
            "tags": []
          },
          "execution_count": 7
        }
      ]
    },
    {
      "cell_type": "markdown",
      "metadata": {
        "id": "F3_kbtbjXdQc",
        "colab_type": "text"
      },
      "source": [
        "## ブール型演算"
      ]
    },
    {
      "cell_type": "markdown",
      "metadata": {
        "id": "uiyFUJmuXdQc",
        "colab_type": "text"
      },
      "source": [
        "1. `x`は6とすると、`x`は1から7の間にあるかどうか確認してください。但し、`and`演算を使ってください。"
      ]
    },
    {
      "cell_type": "code",
      "metadata": {
        "id": "sHL37k3zXdQd",
        "colab_type": "code",
        "outputId": "3db161c3-5465-485b-84d6-44f3eec0b325",
        "colab": {
          "base_uri": "https://localhost:8080/",
          "height": 35
        }
      },
      "source": [
        "x = 6\n",
        "(x >= 1) and (x <= 7) "
      ],
      "execution_count": 0,
      "outputs": [
        {
          "output_type": "execute_result",
          "data": {
            "text/plain": [
              "True"
            ]
          },
          "metadata": {
            "tags": []
          },
          "execution_count": 8
        }
      ]
    },
    {
      "cell_type": "markdown",
      "metadata": {
        "id": "hKcN0La2XdQf",
        "colab_type": "text"
      },
      "source": [
        "2. 上記の解決方法を参考して、`and`演算子を`or`に変えてください。また、`7`を`5`に変更してください。"
      ]
    },
    {
      "cell_type": "code",
      "metadata": {
        "id": "kZNYqL-AXdQh",
        "colab_type": "code",
        "outputId": "290eeba1-ddce-4c58-9710-0355e960e91e",
        "colab": {
          "base_uri": "https://localhost:8080/",
          "height": 35
        }
      },
      "source": [
        "(x <= 1) or (x >= 5)"
      ],
      "execution_count": 0,
      "outputs": [
        {
          "output_type": "execute_result",
          "data": {
            "text/plain": [
              "True"
            ]
          },
          "metadata": {
            "tags": []
          },
          "execution_count": 9
        }
      ]
    },
    {
      "cell_type": "markdown",
      "metadata": {
        "id": "GKOqEKFfXdQm",
        "colab_type": "text"
      },
      "source": [
        "3. `x < 1`を使って、`not`演算子をその前に入れてください。"
      ]
    },
    {
      "cell_type": "code",
      "metadata": {
        "id": "PgghlyUIXdQn",
        "colab_type": "code",
        "outputId": "4ba36bbd-53c8-4bef-cde2-65f370b1153a",
        "colab": {
          "base_uri": "https://localhost:8080/",
          "height": 35
        }
      },
      "source": [
        "not (x < 1)"
      ],
      "execution_count": 0,
      "outputs": [
        {
          "output_type": "execute_result",
          "data": {
            "text/plain": [
              "True"
            ]
          },
          "metadata": {
            "tags": []
          },
          "execution_count": 10
        }
      ]
    },
    {
      "cell_type": "markdown",
      "metadata": {
        "id": "-zRxBgebXdQp",
        "colab_type": "text"
      },
      "source": [
        "## 恒等関数とメンバー演算"
      ]
    },
    {
      "cell_type": "markdown",
      "metadata": {
        "id": "xf5NUCZoXdQp",
        "colab_type": "text"
      },
      "source": [
        "1. `a= [4,5,6]` , `b=[4,5,6]`とすると、`a==b`？`a is b`? `a is not b`?\n",
        "確認してください。つまり、aはbと等しい？"
      ]
    },
    {
      "cell_type": "code",
      "metadata": {
        "id": "R0-tsBBWXdQq",
        "colab_type": "code",
        "colab": {}
      },
      "source": [
        "a = [4,5,6]\n",
        "b = [4,5,6]"
      ],
      "execution_count": 0,
      "outputs": []
    },
    {
      "cell_type": "code",
      "metadata": {
        "id": "qlz-u5vgXdQs",
        "colab_type": "code",
        "outputId": "1550571a-2353-4d1f-9f7d-284d12a6791c",
        "colab": {
          "base_uri": "https://localhost:8080/",
          "height": 35
        }
      },
      "source": [
        "a == b"
      ],
      "execution_count": 0,
      "outputs": [
        {
          "output_type": "execute_result",
          "data": {
            "text/plain": [
              "True"
            ]
          },
          "metadata": {
            "tags": []
          },
          "execution_count": 12
        }
      ]
    },
    {
      "cell_type": "code",
      "metadata": {
        "id": "490dPDaFXdQu",
        "colab_type": "code",
        "outputId": "82fd579c-62a7-4d6b-9b09-ea29a144cc88",
        "colab": {
          "base_uri": "https://localhost:8080/",
          "height": 35
        }
      },
      "source": [
        "a is b"
      ],
      "execution_count": 0,
      "outputs": [
        {
          "output_type": "execute_result",
          "data": {
            "text/plain": [
              "False"
            ]
          },
          "metadata": {
            "tags": []
          },
          "execution_count": 13
        }
      ]
    },
    {
      "cell_type": "code",
      "metadata": {
        "id": "xwxMMJkxXdQx",
        "colab_type": "code",
        "outputId": "eee757d0-b5ab-4773-8ed5-d18f973ee014",
        "colab": {
          "base_uri": "https://localhost:8080/",
          "height": 35
        }
      },
      "source": [
        "a is not b"
      ],
      "execution_count": 0,
      "outputs": [
        {
          "output_type": "execute_result",
          "data": {
            "text/plain": [
              "True"
            ]
          },
          "metadata": {
            "tags": []
          },
          "execution_count": 14
        }
      ]
    },
    {
      "cell_type": "markdown",
      "metadata": {
        "id": "Y5yjhC9mXdQ1",
        "colab_type": "text"
      },
      "source": [
        "2. 等しいものはどうやって示すか？"
      ]
    },
    {
      "cell_type": "code",
      "metadata": {
        "id": "zZcnLHJ9XdQ2",
        "colab_type": "code",
        "outputId": "dd28d754-a466-4672-efeb-04e1bfa79358",
        "colab": {
          "base_uri": "https://localhost:8080/",
          "height": 35
        }
      },
      "source": [
        "a = [4,5,6]\n",
        "b = a\n",
        "a is b"
      ],
      "execution_count": 0,
      "outputs": [
        {
          "output_type": "execute_result",
          "data": {
            "text/plain": [
              "True"
            ]
          },
          "metadata": {
            "tags": []
          },
          "execution_count": 15
        }
      ]
    },
    {
      "cell_type": "markdown",
      "metadata": {
        "id": "t7y33V6aXdQ4",
        "colab_type": "text"
      },
      "source": [
        "3. 4は`a`の中にあるか？5は`a`の中にあるか？"
      ]
    },
    {
      "cell_type": "code",
      "metadata": {
        "id": "QOXNwqhcXdQ5",
        "colab_type": "code",
        "outputId": "183d9ac4-430a-4e8e-84f2-a72f76005706",
        "colab": {
          "base_uri": "https://localhost:8080/",
          "height": 35
        }
      },
      "source": [
        "4 in a"
      ],
      "execution_count": 0,
      "outputs": [
        {
          "output_type": "execute_result",
          "data": {
            "text/plain": [
              "True"
            ]
          },
          "metadata": {
            "tags": []
          },
          "execution_count": 16
        }
      ]
    },
    {
      "cell_type": "code",
      "metadata": {
        "id": "G9s1K7IAXdQ9",
        "colab_type": "code",
        "outputId": "362d2ffb-f9ae-4665-f67d-88d2b6232c9f",
        "colab": {
          "base_uri": "https://localhost:8080/",
          "height": 35
        }
      },
      "source": [
        "5 not in a"
      ],
      "execution_count": 0,
      "outputs": [
        {
          "output_type": "execute_result",
          "data": {
            "text/plain": [
              "False"
            ]
          },
          "metadata": {
            "tags": []
          },
          "execution_count": 17
        }
      ]
    },
    {
      "cell_type": "markdown",
      "metadata": {
        "id": "yd2oefIxXmgp",
        "colab_type": "text"
      },
      "source": [
        "## 整数の練習問題\n",
        "\n",
        "\n",
        "1. 以下の変数のタイプを示しなさい。\n",
        "\n",
        "\n",
        "a.   `x = 1` <br/>\n",
        "b.   `x = 1.5`"
      ]
    },
    {
      "cell_type": "code",
      "metadata": {
        "id": "y46OLzUfX26Y",
        "colab_type": "code",
        "outputId": "6e8c49d2-f95a-4d38-8fe7-6ed4d61d482e",
        "colab": {
          "base_uri": "https://localhost:8080/",
          "height": 35
        }
      },
      "source": [
        "x=1\n",
        "type(x)"
      ],
      "execution_count": 0,
      "outputs": [
        {
          "output_type": "execute_result",
          "data": {
            "text/plain": [
              "int"
            ]
          },
          "metadata": {
            "tags": []
          },
          "execution_count": 18
        }
      ]
    },
    {
      "cell_type": "code",
      "metadata": {
        "id": "axlvNXOKXzMX",
        "colab_type": "code",
        "outputId": "bfe3b453-9e09-4415-b504-8699ae087c47",
        "colab": {
          "base_uri": "https://localhost:8080/",
          "height": 35
        }
      },
      "source": [
        "x = 1.5\n",
        "type(x)"
      ],
      "execution_count": 0,
      "outputs": [
        {
          "output_type": "execute_result",
          "data": {
            "text/plain": [
              "float"
            ]
          },
          "metadata": {
            "tags": []
          },
          "execution_count": 19
        }
      ]
    },
    {
      "cell_type": "markdown",
      "metadata": {
        "id": "hYAEjU5zX7Ww",
        "colab_type": "text"
      },
      "source": [
        "\n",
        "2. $7 \\div 3$ の答えはなんですか？"
      ]
    },
    {
      "cell_type": "code",
      "metadata": {
        "id": "Cv6iBuEHYME7",
        "colab_type": "code",
        "outputId": "22872153-22ab-4dc0-ef9c-c225ae7fa587",
        "colab": {
          "base_uri": "https://localhost:8080/",
          "height": 35
        }
      },
      "source": [
        "print(7/3)"
      ],
      "execution_count": 0,
      "outputs": [
        {
          "output_type": "stream",
          "text": [
            "2.3333333333333335\n"
          ],
          "name": "stdout"
        }
      ]
    },
    {
      "cell_type": "markdown",
      "metadata": {
        "id": "euTpjzGSYdhr",
        "colab_type": "text"
      },
      "source": [
        "\n",
        "3. $7 \\div 3$ の答えを整数にしてください。"
      ]
    },
    {
      "cell_type": "code",
      "metadata": {
        "id": "4ShrYjxZYNrl",
        "colab_type": "code",
        "outputId": "15d18662-bdb9-4fe7-9785-02566a328567",
        "colab": {
          "base_uri": "https://localhost:8080/",
          "height": 35
        }
      },
      "source": [
        "print (7//3)"
      ],
      "execution_count": 0,
      "outputs": [
        {
          "output_type": "stream",
          "text": [
            "2\n"
          ],
          "name": "stdout"
        }
      ]
    },
    {
      "cell_type": "markdown",
      "metadata": {
        "id": "Iw87_fdSYZUX",
        "colab_type": "text"
      },
      "source": [
        "## 浮動小数点\n",
        "\n",
        "1. 0.000007は $7 \\times 10^{-6}$ と等しいものであるかどうかを示しなさい。"
      ]
    },
    {
      "cell_type": "code",
      "metadata": {
        "id": "pZZUEZMXY4JK",
        "colab_type": "code",
        "outputId": "f7923ff4-0181-426f-fb0d-5a2430cf7636",
        "colab": {
          "base_uri": "https://localhost:8080/",
          "height": 35
        }
      },
      "source": [
        "a = 0.000007\n",
        "b = 7e-6\n",
        "a == b"
      ],
      "execution_count": 0,
      "outputs": [
        {
          "output_type": "execute_result",
          "data": {
            "text/plain": [
              "True"
            ]
          },
          "metadata": {
            "tags": []
          },
          "execution_count": 22
        }
      ]
    },
    {
      "cell_type": "markdown",
      "metadata": {
        "id": "IHkwzoSKY78t",
        "colab_type": "text"
      },
      "source": [
        "2. `25`の整数を浮動小数点に変換しなさい。"
      ]
    },
    {
      "cell_type": "code",
      "metadata": {
        "id": "oryOGnfbY9QK",
        "colab_type": "code",
        "outputId": "23827a3d-e197-494e-8f23-3ee0ed858530",
        "colab": {
          "base_uri": "https://localhost:8080/",
          "height": 35
        }
      },
      "source": [
        "float (25)"
      ],
      "execution_count": 0,
      "outputs": [
        {
          "output_type": "execute_result",
          "data": {
            "text/plain": [
              "25.0"
            ]
          },
          "metadata": {
            "tags": []
          },
          "execution_count": 23
        }
      ]
    },
    {
      "cell_type": "markdown",
      "metadata": {
        "id": "8ke6lnLQZEOx",
        "colab_type": "text"
      },
      "source": [
        "## 複素数\n",
        "\n",
        "\n",
        "1. `(4,5)`を複素数に変換し、`c`の変数に割り当ててください。"
      ]
    },
    {
      "cell_type": "code",
      "metadata": {
        "id": "gi89gEspZI2-",
        "colab_type": "code",
        "outputId": "bc501f0b-38b3-429e-813c-9893245d3068",
        "colab": {
          "base_uri": "https://localhost:8080/",
          "height": 35
        }
      },
      "source": [
        "c = complex(4,5)\n",
        "print(c)"
      ],
      "execution_count": 0,
      "outputs": [
        {
          "output_type": "stream",
          "text": [
            "(4+5j)\n"
          ],
          "name": "stdout"
        }
      ]
    },
    {
      "cell_type": "markdown",
      "metadata": {
        "id": "ipq5uCVgZMJt",
        "colab_type": "text"
      },
      "source": [
        "2. `c`の実数と虚数を探しなさい。"
      ]
    },
    {
      "cell_type": "code",
      "metadata": {
        "id": "NJDvNeDzZNuI",
        "colab_type": "code",
        "outputId": "64566ac3-f5ad-440d-86c4-e6b9c5084696",
        "colab": {
          "base_uri": "https://localhost:8080/",
          "height": 35
        }
      },
      "source": [
        "c.real"
      ],
      "execution_count": 0,
      "outputs": [
        {
          "output_type": "execute_result",
          "data": {
            "text/plain": [
              "4.0"
            ]
          },
          "metadata": {
            "tags": []
          },
          "execution_count": 25
        }
      ]
    },
    {
      "cell_type": "code",
      "metadata": {
        "id": "esuTuwhBZO10",
        "colab_type": "code",
        "outputId": "3f06bc5c-c33a-4bd0-992d-2c83163147d3",
        "colab": {
          "base_uri": "https://localhost:8080/",
          "height": 35
        }
      },
      "source": [
        "c.imag"
      ],
      "execution_count": 0,
      "outputs": [
        {
          "output_type": "execute_result",
          "data": {
            "text/plain": [
              "5.0"
            ]
          },
          "metadata": {
            "tags": []
          },
          "execution_count": 26
        }
      ]
    },
    {
      "cell_type": "markdown",
      "metadata": {
        "id": "F63cay0iZR6V",
        "colab_type": "text"
      },
      "source": [
        "3. `c`の共役を示しなさい。"
      ]
    },
    {
      "cell_type": "code",
      "metadata": {
        "id": "MctwWzJbZVbQ",
        "colab_type": "code",
        "outputId": "036f1cd8-9e02-47b9-f9bc-90dd55c0bf68",
        "colab": {
          "base_uri": "https://localhost:8080/",
          "height": 35
        }
      },
      "source": [
        "c.conjugate()"
      ],
      "execution_count": 0,
      "outputs": [
        {
          "output_type": "execute_result",
          "data": {
            "text/plain": [
              "(4-5j)"
            ]
          },
          "metadata": {
            "tags": []
          },
          "execution_count": 27
        }
      ]
    },
    {
      "cell_type": "markdown",
      "metadata": {
        "id": "bjr2ATq2ZYYT",
        "colab_type": "text"
      },
      "source": [
        "4. `c`のマグニチュードを示しなさい。"
      ]
    },
    {
      "cell_type": "code",
      "metadata": {
        "id": "Z1P7VT7iZbif",
        "colab_type": "code",
        "outputId": "5d3bc6d9-5d27-4342-d34e-6a26ef7b9838",
        "colab": {
          "base_uri": "https://localhost:8080/",
          "height": 35
        }
      },
      "source": [
        "abs(c)"
      ],
      "execution_count": 0,
      "outputs": [
        {
          "output_type": "execute_result",
          "data": {
            "text/plain": [
              "6.4031242374328485"
            ]
          },
          "metadata": {
            "tags": []
          },
          "execution_count": 28
        }
      ]
    }
  ]
}