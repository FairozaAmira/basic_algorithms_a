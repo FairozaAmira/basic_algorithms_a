{
  "nbformat": 4,
  "nbformat_minor": 0,
  "metadata": {
    "colab": {
      "name": "Lesson09_a.ipynb",
      "provenance": [],
      "collapsed_sections": [],
      "include_colab_link": true
    },
    "kernelspec": {
      "name": "python3",
      "display_name": "Python 3"
    }
  },
  "cells": [
    {
      "cell_type": "markdown",
      "metadata": {
        "id": "view-in-github",
        "colab_type": "text"
      },
      "source": [
        "<a href=\"https://colab.research.google.com/github/FairozaAmira/basic_algorithms_a/blob/master/Lesson09.ipynb\" target=\"_parent\"><img src=\"https://colab.research.google.com/assets/colab-badge.svg\" alt=\"Open In Colab\"/></a>"
      ]
    },
    {
      "cell_type": "markdown",
      "metadata": {
        "id": "V_G-OuyKqKrz",
        "colab_type": "text"
      },
      "source": [
        "# 第９回目授業中の練習問題解答\n",
        "\n",
        "## 関数\n",
        "\n",
        "1. `return`と`print`で終わっている二つの関数を書きなさい。両方の関数は二つの数字の加算を定義している。関数呼び出した結果を使って、もう一回その関数を呼び出して、出力結果を表示しなさい。\n",
        "例えば、\n",
        "```\n",
        "a=3, b=7\n",
        "total = a+b = 3+7 = 10,\n",
        "もう一回計算すると\n",
        "c = 3\n",
        "total = 10 + 3 = 13\n",
        "```\n",
        "\n",
        "`print`と`return`の表示結果を比較しなさい。\n"
      ]
    },
    {
      "cell_type": "code",
      "metadata": {
        "id": "ERXJShrUybKk",
        "colab_type": "code",
        "colab": {}
      },
      "source": [
        "def total_numbers_1(a, b):\n",
        "    print(a+b)\n",
        "\n",
        "def total_numbers_2(a,b):\n",
        "    return (a+b)\n"
      ],
      "execution_count": 0,
      "outputs": []
    },
    {
      "cell_type": "code",
      "metadata": {
        "id": "nHkOrCjP1EMm",
        "colab_type": "code",
        "outputId": "bca69dac-d3bc-43cd-eb0b-702857682777",
        "colab": {
          "base_uri": "https://localhost:8080/",
          "height": 362
        }
      },
      "source": [
        "total = total_numbers_1(3,7)\n",
        "print(total)\n",
        "add_again = total_numbers_1(total, 3)\n",
        "print(add_again)"
      ],
      "execution_count": 0,
      "outputs": [
        {
          "output_type": "stream",
          "text": [
            "10\n",
            "None\n"
          ],
          "name": "stdout"
        },
        {
          "output_type": "error",
          "ename": "TypeError",
          "evalue": "ignored",
          "traceback": [
            "\u001b[0;31m---------------------------------------------------------------------------\u001b[0m",
            "\u001b[0;31mTypeError\u001b[0m                                 Traceback (most recent call last)",
            "\u001b[0;32m<ipython-input-2-0bef97c97f0f>\u001b[0m in \u001b[0;36m<module>\u001b[0;34m()\u001b[0m\n\u001b[1;32m      1\u001b[0m \u001b[0mtotal\u001b[0m \u001b[0;34m=\u001b[0m \u001b[0mtotal_numbers_1\u001b[0m\u001b[0;34m(\u001b[0m\u001b[0;36m3\u001b[0m\u001b[0;34m,\u001b[0m\u001b[0;36m7\u001b[0m\u001b[0;34m)\u001b[0m\u001b[0;34m\u001b[0m\u001b[0;34m\u001b[0m\u001b[0m\n\u001b[1;32m      2\u001b[0m \u001b[0mprint\u001b[0m\u001b[0;34m(\u001b[0m\u001b[0mtotal\u001b[0m\u001b[0;34m)\u001b[0m\u001b[0;34m\u001b[0m\u001b[0;34m\u001b[0m\u001b[0m\n\u001b[0;32m----> 3\u001b[0;31m \u001b[0madd_again\u001b[0m \u001b[0;34m=\u001b[0m \u001b[0mtotal_numbers_1\u001b[0m\u001b[0;34m(\u001b[0m\u001b[0mtotal\u001b[0m\u001b[0;34m,\u001b[0m \u001b[0;36m3\u001b[0m\u001b[0;34m)\u001b[0m\u001b[0;34m\u001b[0m\u001b[0;34m\u001b[0m\u001b[0m\n\u001b[0m\u001b[1;32m      4\u001b[0m \u001b[0mprint\u001b[0m\u001b[0;34m(\u001b[0m\u001b[0madd_again\u001b[0m\u001b[0;34m)\u001b[0m\u001b[0;34m\u001b[0m\u001b[0;34m\u001b[0m\u001b[0m\n",
            "\u001b[0;32m<ipython-input-1-9c9bb3d7aebc>\u001b[0m in \u001b[0;36mtotal_numbers_1\u001b[0;34m(a, b)\u001b[0m\n\u001b[1;32m      1\u001b[0m \u001b[0;32mdef\u001b[0m \u001b[0mtotal_numbers_1\u001b[0m\u001b[0;34m(\u001b[0m\u001b[0ma\u001b[0m\u001b[0;34m,\u001b[0m \u001b[0mb\u001b[0m\u001b[0;34m)\u001b[0m\u001b[0;34m:\u001b[0m\u001b[0;34m\u001b[0m\u001b[0;34m\u001b[0m\u001b[0m\n\u001b[0;32m----> 2\u001b[0;31m     \u001b[0mprint\u001b[0m\u001b[0;34m(\u001b[0m\u001b[0ma\u001b[0m\u001b[0;34m+\u001b[0m\u001b[0mb\u001b[0m\u001b[0;34m)\u001b[0m\u001b[0;34m\u001b[0m\u001b[0;34m\u001b[0m\u001b[0m\n\u001b[0m\u001b[1;32m      3\u001b[0m \u001b[0;34m\u001b[0m\u001b[0m\n\u001b[1;32m      4\u001b[0m \u001b[0;32mdef\u001b[0m \u001b[0mtotal_numbers_2\u001b[0m\u001b[0;34m(\u001b[0m\u001b[0ma\u001b[0m\u001b[0;34m,\u001b[0m\u001b[0mb\u001b[0m\u001b[0;34m)\u001b[0m\u001b[0;34m:\u001b[0m\u001b[0;34m\u001b[0m\u001b[0;34m\u001b[0m\u001b[0m\n\u001b[1;32m      5\u001b[0m     \u001b[0;32mreturn\u001b[0m \u001b[0;34m(\u001b[0m\u001b[0ma\u001b[0m\u001b[0;34m+\u001b[0m\u001b[0mb\u001b[0m\u001b[0;34m)\u001b[0m\u001b[0;34m\u001b[0m\u001b[0;34m\u001b[0m\u001b[0m\n",
            "\u001b[0;31mTypeError\u001b[0m: unsupported operand type(s) for +: 'NoneType' and 'int'"
          ]
        }
      ]
    },
    {
      "cell_type": "code",
      "metadata": {
        "id": "Smy2pa4m1KAZ",
        "colab_type": "code",
        "outputId": "23c62c33-5dc2-4f6e-cdfc-eb456e23249d",
        "colab": {
          "base_uri": "https://localhost:8080/",
          "height": 50
        }
      },
      "source": [
        "total = total_numbers_2(3,7)\n",
        "print(total)\n",
        "add_again = total_numbers_2(total, 3)\n",
        "print(add_again)"
      ],
      "execution_count": 0,
      "outputs": [
        {
          "output_type": "stream",
          "text": [
            "10\n",
            "13\n"
          ],
          "name": "stdout"
        }
      ]
    },
    {
      "cell_type": "markdown",
      "metadata": {
        "id": "OUe-gfm31qB-",
        "colab_type": "text"
      },
      "source": [
        "2. `minutes`の変数を整数の値に入れて、何時間になるかを示した関数を作りなさい。\n",
        "関数の出力は\n",
        "\n",
        "```\n",
        "print(how_many_hours(215))\n",
        "\n",
        ">> 3 時間 35分\n",
        "\n",
        "```"
      ]
    },
    {
      "cell_type": "code",
      "metadata": {
        "id": "9oeTKFK62T6z",
        "colab_type": "code",
        "outputId": "f8ce7174-a23b-481b-9bff-ff90f6b99222",
        "colab": {
          "base_uri": "https://localhost:8080/",
          "height": 33
        }
      },
      "source": [
        "def how_many_hours(minutes):\n",
        "    hours = minutes // 60\n",
        "    remainder = minutes % 60\n",
        "    return \"{} 時間 {} 分\".format(hours, remainder)\n",
        "\n",
        "print(how_many_hours(215))"
      ],
      "execution_count": 0,
      "outputs": [
        {
          "output_type": "stream",
          "text": [
            "3 時間 35 分\n"
          ],
          "name": "stdout"
        }
      ]
    },
    {
      "cell_type": "markdown",
      "metadata": {
        "id": "rn6Q-UjR3Lsm",
        "colab_type": "text"
      },
      "source": [
        "## ラムダ関数\n",
        "\n",
        "3. `x`と`y`の掛け算をした関数とラムダ関数を書きなさい。\n",
        "\n",
        "$multiply = x \\times y$"
      ]
    },
    {
      "cell_type": "code",
      "metadata": {
        "id": "3PSN0gSk3fku",
        "colab_type": "code",
        "outputId": "45219746-d893-465c-c10c-a19870e320f6",
        "colab": {
          "base_uri": "https://localhost:8080/",
          "height": 33
        }
      },
      "source": [
        "multiply = lambda x, y: x * y\n",
        "multiply (2,3)"
      ],
      "execution_count": 0,
      "outputs": [
        {
          "output_type": "execute_result",
          "data": {
            "text/plain": [
              "6"
            ]
          },
          "metadata": {
            "tags": []
          },
          "execution_count": 5
        }
      ]
    },
    {
      "cell_type": "code",
      "metadata": {
        "id": "c-rRglM_3jWO",
        "colab_type": "code",
        "outputId": "a9ddb2a1-73d5-4738-f826-3bda473acde6",
        "colab": {
          "base_uri": "https://localhost:8080/",
          "height": 33
        }
      },
      "source": [
        "def multiply(x,y):\n",
        "    return x*y\n",
        "print(multiply(2,3))"
      ],
      "execution_count": 0,
      "outputs": [
        {
          "output_type": "stream",
          "text": [
            "6\n"
          ],
          "name": "stdout"
        }
      ]
    },
    {
      "cell_type": "markdown",
      "metadata": {
        "id": "xZ3fPhYW3k-e",
        "colab_type": "text"
      },
      "source": [
        "4. ラムダ関数を作って、以下の辞書をソートしてください。\n",
        "\n",
        "辞書はひらがなの昇順でソートしなさい。\n",
        "\n",
        "```\n",
        "data = [{'動物': 'うま', '年齢': 3},\n",
        "        {'動物': 'ねこ', '年齢': 1},\n",
        "        {'動物': 'きりん', '年齢': 5}]\n",
        "```\n",
        "\n",
        "`sorted`関数を使って上の辞書をソートできます。"
      ]
    },
    {
      "cell_type": "code",
      "metadata": {
        "id": "rLqKDOZK4y6t",
        "colab_type": "code",
        "outputId": "70c2162e-b6bb-45cd-aa0f-42d84c113721",
        "colab": {
          "base_uri": "https://localhost:8080/",
          "height": 33
        }
      },
      "source": [
        "data = [{'動物': 'うま', '年齢': 3},\n",
        "        {'動物': 'ねこ', '年齢': 1},\n",
        "        {'動物': 'きりん', '年齢': 5}]\n",
        "\n",
        "sorted(data, key=lambda item: item['動物'])"
      ],
      "execution_count": 0,
      "outputs": [
        {
          "output_type": "execute_result",
          "data": {
            "text/plain": [
              "[{'動物': 'うま', '年齢': 3}, {'動物': 'きりん', '年齢': 5}, {'動物': 'ねこ', '年齢': 1}]"
            ]
          },
          "metadata": {
            "tags": []
          },
          "execution_count": 7
        }
      ]
    },
    {
      "cell_type": "markdown",
      "metadata": {
        "id": "WLrAjxXLB6Ki",
        "colab_type": "text"
      },
      "source": [
        "## クラス Class\n",
        "\n",
        "1. `Animal`のクラスを作成し、`__init__()`関数で初期化し、動物の名前と数を設定してください。\n"
      ]
    },
    {
      "cell_type": "code",
      "metadata": {
        "id": "A36C6pIvENWb",
        "colab_type": "code",
        "outputId": "4e65689e-39ba-4229-eb8b-b8742f1f5bd4",
        "colab": {
          "base_uri": "https://localhost:8080/",
          "height": 50
        }
      },
      "source": [
        "class Animal:\n",
        "    def __init__(self, animal_name, amounts):\n",
        "        self.animal_name = animal_name\n",
        "        self.amounts = amounts\n",
        "        \n",
        "a1 = Animal(\"ねこ\", 4)\n",
        "\n",
        "print(a1.animal_name)\n",
        "print(a1.amounts)"
      ],
      "execution_count": 0,
      "outputs": [
        {
          "output_type": "stream",
          "text": [
            "ねこ\n",
            "4\n"
          ],
          "name": "stdout"
        }
      ]
    },
    {
      "cell_type": "markdown",
      "metadata": {
        "id": "A_m0pko8EYKS",
        "colab_type": "text"
      },
      "source": [
        "2. `<動物の数>匹の<動物の名前>,こちらの動物園にいます`\n",
        "と表示した`myfunc`関数を作りなさい。そして、`a1`のオブジェクトに当ててください。"
      ]
    },
    {
      "cell_type": "code",
      "metadata": {
        "id": "P7IagGHeFe7R",
        "colab_type": "code",
        "outputId": "2b3badac-9648-445f-dc79-3ee1f6f5ee54",
        "colab": {
          "base_uri": "https://localhost:8080/",
          "height": 33
        }
      },
      "source": [
        "class Animal:\n",
        "    def __init__(self, animal_name, amounts):\n",
        "        self.animal_name = animal_name\n",
        "        self.amounts = amounts\n",
        "    \n",
        "    def myfunc(self):\n",
        "        return (\"この動物園では、{}が{}匹います。\".format(self.animal_name, self.amounts))\n",
        "        \n",
        "a1 = Animal(\"ねこ\", 4)\n",
        "print(a1.myfunc())"
      ],
      "execution_count": 0,
      "outputs": [
        {
          "output_type": "stream",
          "text": [
            "この動物園では、ねこが4匹います。\n"
          ],
          "name": "stdout"
        }
      ]
    },
    {
      "cell_type": "markdown",
      "metadata": {
        "id": "wtvLt_nyFh8_",
        "colab_type": "text"
      },
      "source": [
        "3. `class`の`__init__`関数の中に、`self`という変数を別の名前に変えて、上の出力結果が同じかどうか確認してください。"
      ]
    },
    {
      "cell_type": "code",
      "metadata": {
        "id": "pVDW7HN2WnfP",
        "colab_type": "code",
        "outputId": "3216d2ec-b16b-4d42-f4f5-415ab4723939",
        "colab": {
          "base_uri": "https://localhost:8080/",
          "height": 33
        }
      },
      "source": [
        "class Animal:\n",
        "    def __init__(anything, animal_name, amounts):\n",
        "        anything.animal_name = animal_name\n",
        "        anything.amounts = amounts\n",
        "    \n",
        "    def myfunc(abc):\n",
        "        return(\"この動物園では、{}が{}匹います。\".format(abc.animal_name, abc.amounts))\n",
        "        \n",
        "a1 = Animal(\"ねこ\", 4)\n",
        "print(a1.myfunc())"
      ],
      "execution_count": 0,
      "outputs": [
        {
          "output_type": "stream",
          "text": [
            "この動物園では、ねこが4匹います。\n"
          ],
          "name": "stdout"
        }
      ]
    },
    {
      "cell_type": "code",
      "metadata": {
        "id": "71fWGuK4ATVM",
        "colab_type": "code",
        "outputId": "731de61e-cb9e-4e95-dfaf-f902eb7b01b5",
        "colab": {
          "base_uri": "https://localhost:8080/",
          "height": 33
        }
      },
      "source": [
        "class Add:\n",
        "  def __init__(self,a,b):\n",
        "    self.a = a\n",
        "    self.b = b\n",
        "  def plus(self):\n",
        "    return self.a+self.b\n",
        "\n",
        "abc = Add(1,2)\n",
        "abc.plus() "
      ],
      "execution_count": 0,
      "outputs": [
        {
          "output_type": "execute_result",
          "data": {
            "text/plain": [
              "3"
            ]
          },
          "metadata": {
            "tags": []
          },
          "execution_count": 11
        }
      ]
    }
  ]
}
