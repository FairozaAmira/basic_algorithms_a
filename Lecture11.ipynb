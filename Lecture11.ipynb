{
  "nbformat": 4,
  "nbformat_minor": 0,
  "metadata": {
    "colab": {
      "name": "Lecture11_a.ipynb",
      "provenance": [],
      "collapsed_sections": [],
      "include_colab_link": true
    },
    "kernelspec": {
      "name": "python3",
      "display_name": "Python 3"
    }
  },
  "cells": [
    {
      "cell_type": "markdown",
      "metadata": {
        "id": "view-in-github",
        "colab_type": "text"
      },
      "source": [
        "<a href=\"https://colab.research.google.com/github/FairozaAmira/basic_algorithms_a/blob/master/Lecture11.ipynb\" target=\"_parent\"><img src=\"https://colab.research.google.com/assets/colab-badge.svg\" alt=\"Open In Colab\"/></a>"
      ]
    },
    {
      "cell_type": "markdown",
      "metadata": {
        "id": "sBCtL5qtpLtd",
        "colab_type": "text"
      },
      "source": [
        "#第１１回目の練習問題の解答例\n",
        "\n",
        "1. `help(\"modules\")`を試してみる。"
      ]
    },
    {
      "cell_type": "code",
      "metadata": {
        "id": "IUa_0-vYooy3",
        "colab_type": "code",
        "outputId": "2236bb64-28f7-4e5b-a3c5-203b46054db7",
        "colab": {
          "base_uri": "https://localhost:8080/",
          "height": 1000
        }
      },
      "source": [
        "help(\"modules\")"
      ],
      "execution_count": 0,
      "outputs": [
        {
          "output_type": "stream",
          "text": [
            "\n",
            "Please wait a moment while I gather a list of all available modules...\n",
            "\n"
          ],
          "name": "stdout"
        },
        {
          "output_type": "stream",
          "text": [
            "/usr/local/lib/python3.6/dist-packages/IPython/kernel/__init__.py:13: ShimWarning: The `IPython.kernel` package has been deprecated since IPython 4.0.You should import from ipykernel or jupyter_client instead.\n",
            "  \"You should import from ipykernel or jupyter_client instead.\", ShimWarning)\n",
            "WARNING: AstropyDeprecationWarning: astropy.utils.compat.futures is now deprecated - use concurrent.futures instead [astropy.utils.compat.futures]\n"
          ],
          "name": "stderr"
        },
        {
          "output_type": "display_data",
          "data": {
            "application/javascript": [
              "window.genUID = function() {\n",
              "    return 'xxxxxxxx-xxxx-4xxx-yxxx-xxxxxxxxxxxx'.replace(/[xy]/g, function(c) {\n",
              "        var r = Math.random()*16|0, v = c == 'x' ? r : (r&0x3|0x8);\n",
              "        return v.toString(16);\n",
              "    });\n",
              "};\n",
              "\n",
              "\n",
              "define('graphWidget', [\"@jupyter-widgets/base\"], function (widget) {\n",
              "\n",
              "    var GraphView = widget.DOMWidgetView.extend({\n",
              "        render: function(){\n",
              "            var that = this;\n",
              "\n",
              "            var graphId = window.genUID();\n",
              "            var loadingId = 'loading-'+graphId;\n",
              "\n",
              "\n",
              "            var _graph_url = that.model.get('_graph_url');\n",
              "\n",
              "            // variable plotlyDomain in the case of enterprise\n",
              "            var url_parts = _graph_url.split('/');\n",
              "            var plotlyDomain = url_parts[0] + '//' + url_parts[2];\n",
              "\n",
              "            if(!('plotlyDomains' in window)){\n",
              "                window.plotlyDomains = {};\n",
              "            }\n",
              "            window.plotlyDomains[graphId] = plotlyDomain;\n",
              "\n",
              "            // Place IFrame in output cell div `$el`\n",
              "            that.$el.css('width', '100%');\n",
              "            that.$graph = $(['<iframe id=\"'+graphId+'\"',\n",
              "                             'src=\"'+_graph_url+'.embed\"',\n",
              "                             'seamless',\n",
              "                             'style=\"border: none;\"',\n",
              "                             'width=\"100%\"',\n",
              "                             'height=\"600\">',\n",
              "                             '</iframe>'].join(' '));\n",
              "            that.$graph.appendTo(that.$el);\n",
              "\n",
              "            that.$loading = $('<div id=\"'+loadingId+'\">Initializing...</div>')\n",
              "                            .appendTo(that.$el);\n",
              "\n",
              "            // for some reason the 'width' is being changed in IPython 3.0.0\n",
              "            // for the containing `div` element. There's a flicker here, but\n",
              "            // I was unable to fix it otherwise.\n",
              "            setTimeout(function ()  {\n",
              "                if (IPYTHON_VERSION === '3') {\n",
              "                    $('#' + graphId)[0].parentElement.style.width = '100%';\n",
              "                }\n",
              "            }, 500);\n",
              "\n",
              "            // initialize communication with the iframe\n",
              "            if(!('pingers' in window)){\n",
              "                window.pingers = {};\n",
              "            }\n",
              "\n",
              "            window.pingers[graphId] = setInterval(function() {\n",
              "                that.graphContentWindow = $('#'+graphId)[0].contentWindow;\n",
              "                that.graphContentWindow.postMessage({task: 'ping'}, plotlyDomain);\n",
              "            }, 200);\n",
              "\n",
              "            // Assign a message listener to the 'message' events\n",
              "            // from iframe's postMessage protocol.\n",
              "            // Filter the messages by iframe src so that the right message\n",
              "            // gets passed to the right widget\n",
              "            if(!('messageListeners' in window)){\n",
              "                 window.messageListeners = {};\n",
              "            }\n",
              "\n",
              "            window.messageListeners[graphId] = function(e) {\n",
              "                if(_graph_url.indexOf(e.origin)>-1) {\n",
              "                    var frame = document.getElementById(graphId);\n",
              "\n",
              "                    if(frame === null){\n",
              "                        // frame doesn't exist in the dom anymore, clean up it's old event listener\n",
              "                        window.removeEventListener('message', window.messageListeners[graphId]);\n",
              "                        clearInterval(window.pingers[graphId]);\n",
              "                    } else if(frame.contentWindow === e.source) {\n",
              "                        // TODO: Stop event propagation, so each frame doesn't listen and filter\n",
              "                        var frameContentWindow = $('#'+graphId)[0].contentWindow;\n",
              "                        var message = e.data;\n",
              "\n",
              "                        if('pong' in message && message.pong) {\n",
              "                            $('#loading-'+graphId).hide();\n",
              "                            clearInterval(window.pingers[graphId]);\n",
              "                            that.send({event: 'pong', graphId: graphId});\n",
              "                        } else if (message.type==='hover' ||\n",
              "                                   message.type==='zoom'  ||\n",
              "                                   message.type==='click' ||\n",
              "                                   message.type==='unhover') {\n",
              "\n",
              "                            // click and hover events contain all of the data in the traces,\n",
              "                            // which can be a very large object and may take a ton of time\n",
              "                            // to pass to the python backend. Strip out the data, and require\n",
              "                            // the user to call get_figure if they need trace information\n",
              "                            if(message.type !== 'zoom') {\n",
              "                                for(var i in message.points) {\n",
              "                                    delete message.points[i].data;\n",
              "                                    delete message.points[i].fullData;\n",
              "                                }\n",
              "                            }\n",
              "                            that.send({event: message.type, message: message, graphId: graphId});\n",
              "                        } else if (message.task === 'getAttributes') {\n",
              "                            that.send({event: 'getAttributes', response: message.response});\n",
              "                        }\n",
              "                    }\n",
              "                }\n",
              "            };\n",
              "\n",
              "            window.removeEventListener('message', window.messageListeners[graphId]);\n",
              "            window.addEventListener('message', window.messageListeners[graphId]);\n",
              "\n",
              "        },\n",
              "\n",
              "        update: function() {\n",
              "            // Listen for messages from the graph widget in python\n",
              "            var jmessage = this.model.get('_message');\n",
              "            var message = JSON.parse(jmessage);\n",
              "\n",
              "            // check for duplicate messages\n",
              "            if(!('messageIds' in window)){\n",
              "                window.messageIds = {};\n",
              "            }\n",
              "\n",
              "            if(!(message.uid in window.messageIds)){\n",
              "                // message hasn't been received yet, do stuff\n",
              "                window.messageIds[message.uid] = true;\n",
              "\n",
              "                if (message.fadeTo) {\n",
              "                    this.fadeTo(message);\n",
              "                } else {\n",
              "                    var plot = $('#' + message.graphId)[0].contentWindow;\n",
              "                    plot.postMessage(message, window.plotlyDomains[message.graphId]);\n",
              "                }\n",
              "            }\n",
              "\n",
              "            return GraphView.__super__.update.apply(this);\n",
              "        },\n",
              "\n",
              "        /**\n",
              "         * Wrapper for jquery's `fadeTo` function.\n",
              "         *\n",
              "         * @param message Contains the id we need to find the element.\n",
              "         */\n",
              "        fadeTo: function (message) {\n",
              "            var plot = $('#' + message.graphId);\n",
              "            plot.fadeTo(message.duration, message.opacity);\n",
              "        }\n",
              "    });\n",
              "\n",
              "    // Register the GraphView with the widget manager.\n",
              "    return {\n",
              "        GraphView: GraphView\n",
              "    }\n",
              "\n",
              "});\n",
              "\n",
              "//@ sourceURL=graphWidget.js\n"
            ],
            "text/plain": [
              "<IPython.core.display.Javascript object>"
            ]
          },
          "metadata": {
            "tags": []
          }
        },
        {
          "output_type": "stream",
          "text": [
            "/usr/local/lib/python3.6/dist-packages/psycopg2/__init__.py:144: UserWarning:\n",
            "\n",
            "The psycopg2 wheel package will be renamed from release 2.8; in order to keep installing from binary please use \"pip install psycopg2-binary\" instead. For details see: <http://initd.org/psycopg/docs/install.html#binary-install-from-pypi>.\n",
            "\n",
            "/usr/local/lib/python3.6/dist-packages/sklearn/externals/six.py:31: DeprecationWarning:\n",
            "\n",
            "The module is deprecated in version 0.21 and will be removed in version 0.23 since we've dropped support for Python 2.7. Please rely on the official version of six (https://pypi.org/project/six/).\n",
            "\n",
            "Using TensorFlow backend.\n"
          ],
          "name": "stderr"
        },
        {
          "output_type": "display_data",
          "data": {
            "text/html": [
              "<p style=\"color: red;\">\n",
              "The default version of TensorFlow in Colab will soon switch to TensorFlow 2.x.<br>\n",
              "We recommend you <a href=\"https://www.tensorflow.org/guide/migrate\" target=\"_blank\">upgrade</a> now \n",
              "or ensure your notebook will continue to use TensorFlow 1.x via the <code>%tensorflow_version 1.x</code> magic:\n",
              "<a href=\"https://colab.research.google.com/notebooks/tensorflow_version.ipynb\" target=\"_blank\">more info</a>.</p>\n"
            ],
            "text/plain": [
              "<IPython.core.display.HTML object>"
            ]
          },
          "metadata": {
            "tags": []
          }
        },
        {
          "output_type": "stream",
          "text": [
            "INFO:summarizer.preprocessing.cleaner:'pattern' package not found; tag filters are not available for English\n"
          ],
          "name": "stderr"
        },
        {
          "output_type": "stream",
          "text": [
            "WARNING:tensorflow:From /usr/local/lib/python3.6/dist-packages/sonnet/python/modules/util.py:63: The name tf.GraphKeys is deprecated. Please use tf.compat.v1.GraphKeys instead.\n",
            "\n"
          ],
          "name": "stdout"
        },
        {
          "output_type": "stream",
          "text": [
            "WARNING:tensorflow:From /usr/local/lib/python3.6/dist-packages/sonnet/python/modules/util.py:63: The name tf.GraphKeys is deprecated. Please use tf.compat.v1.GraphKeys instead.\n",
            "\n"
          ],
          "name": "stderr"
        },
        {
          "output_type": "stream",
          "text": [
            "WARNING:tensorflow:\n",
            "The TensorFlow contrib module will not be included in TensorFlow 2.0.\n",
            "For more information, please see:\n",
            "  * https://github.com/tensorflow/community/blob/master/rfcs/20180907-contrib-sunset.md\n",
            "  * https://github.com/tensorflow/addons\n",
            "  * https://github.com/tensorflow/io (for I/O related ops)\n",
            "If you depend on functionality not listed there, please file an issue.\n",
            "\n"
          ],
          "name": "stdout"
        },
        {
          "output_type": "stream",
          "text": [
            "WARNING:tensorflow:\n",
            "The TensorFlow contrib module will not be included in TensorFlow 2.0.\n",
            "For more information, please see:\n",
            "  * https://github.com/tensorflow/community/blob/master/rfcs/20180907-contrib-sunset.md\n",
            "  * https://github.com/tensorflow/addons\n",
            "  * https://github.com/tensorflow/io (for I/O related ops)\n",
            "If you depend on functionality not listed there, please file an issue.\n",
            "\n",
            "/usr/local/lib/python3.6/dist-packages/sklearn/externals/joblib/__init__.py:15: DeprecationWarning:\n",
            "\n",
            "sklearn.externals.joblib is deprecated in 0.21 and will be removed in 0.23. Please import this functionality directly from joblib, which can be installed with: pip install joblib. If this warning is raised when loading pickled models, you may need to re-serialize those models with scikit-learn 0.21+.\n",
            "\n"
          ],
          "name": "stderr"
        },
        {
          "output_type": "stream",
          "text": [
            "WARNING:tensorflow:From /usr/local/lib/python3.6/dist-packages/kfac/python/ops/utils.py:38: The name tf.assign is deprecated. Please use tf.compat.v1.assign instead.\n",
            "\n"
          ],
          "name": "stdout"
        },
        {
          "output_type": "stream",
          "text": [
            "WARNING:tensorflow:From /usr/local/lib/python3.6/dist-packages/kfac/python/ops/utils.py:38: The name tf.assign is deprecated. Please use tf.compat.v1.assign instead.\n",
            "\n"
          ],
          "name": "stderr"
        },
        {
          "output_type": "stream",
          "text": [
            "WARNING:tensorflow:From /usr/local/lib/python3.6/dist-packages/kfac/python/ops/optimizer.py:48: The name tf.train.GradientDescentOptimizer is deprecated. Please use tf.compat.v1.train.GradientDescentOptimizer instead.\n",
            "\n"
          ],
          "name": "stdout"
        },
        {
          "output_type": "stream",
          "text": [
            "WARNING:tensorflow:From /usr/local/lib/python3.6/dist-packages/kfac/python/ops/optimizer.py:48: The name tf.train.GradientDescentOptimizer is deprecated. Please use tf.compat.v1.train.GradientDescentOptimizer instead.\n",
            "\n"
          ],
          "name": "stderr"
        },
        {
          "output_type": "stream",
          "text": [
            "WARNING:tensorflow:From /usr/local/lib/python3.6/dist-packages/kfac/python/ops/optimizer.py:526: The name tf.train.Optimizer is deprecated. Please use tf.compat.v1.train.Optimizer instead.\n",
            "\n"
          ],
          "name": "stdout"
        },
        {
          "output_type": "stream",
          "text": [
            "WARNING:tensorflow:From /usr/local/lib/python3.6/dist-packages/kfac/python/ops/optimizer.py:526: The name tf.train.Optimizer is deprecated. Please use tf.compat.v1.train.Optimizer instead.\n",
            "\n"
          ],
          "name": "stderr"
        },
        {
          "output_type": "stream",
          "text": [
            "WARNING:tensorflow:From /usr/local/lib/python3.6/dist-packages/magenta/pipelines/statistics.py:131: The name tf.logging.info is deprecated. Please use tf.compat.v1.logging.info instead.\n",
            "\n"
          ],
          "name": "stdout"
        },
        {
          "output_type": "stream",
          "text": [
            "WARNING:tensorflow:From /usr/local/lib/python3.6/dist-packages/magenta/pipelines/statistics.py:131: The name tf.logging.info is deprecated. Please use tf.compat.v1.logging.info instead.\n",
            "\n"
          ],
          "name": "stderr"
        },
        {
          "output_type": "stream",
          "text": [
            "WARNING:tensorflow:From /usr/local/lib/python3.6/dist-packages/magenta/music/note_sequence_io.py:60: The name tf.python_io.TFRecordWriter is deprecated. Please use tf.io.TFRecordWriter instead.\n",
            "\n"
          ],
          "name": "stdout"
        },
        {
          "output_type": "stream",
          "text": [
            "WARNING:tensorflow:From /usr/local/lib/python3.6/dist-packages/magenta/music/note_sequence_io.py:60: The name tf.python_io.TFRecordWriter is deprecated. Please use tf.io.TFRecordWriter instead.\n",
            "\n"
          ],
          "name": "stderr"
        },
        {
          "output_type": "stream",
          "text": [
            "WARNING:tensorflow:Failed to load tensor2tensor\n"
          ],
          "name": "stdout"
        },
        {
          "output_type": "stream",
          "text": [
            "WARNING:tensorflow:Failed to load tensor2tensor\n"
          ],
          "name": "stderr"
        },
        {
          "output_type": "stream",
          "text": [
            "Downloading http://dlib.net/files/shape_predictor_68_face_landmarks.dat.bz2 to /root/mlxtend_data/shape_predictor_68_face_landmarks.dat.bz2\n"
          ],
          "name": "stdout"
        },
        {
          "output_type": "stream",
          "text": [
            "/usr/lib/python3.6/pkgutil.py:92: UserWarning:\n",
            "\n",
            "The DICOM readers are highly experimental, unstable, and only work for Siemens time-series at the moment\n",
            "Please use with caution.  We would be grateful for your help in improving them\n",
            "\n",
            "/usr/local/lib/python3.6/dist-packages/nltk/twitter/__init__.py:20: UserWarning:\n",
            "\n",
            "The twython library has not been installed. Some functionality from the twitter package will not be available.\n",
            "\n",
            "Exception ignored in: <_io.FileIO name='/usr/local/lib/python3.6/dist-packages/theano/gof/c_code/lazylinker_c.c' mode='rb' closefd=True>\n",
            "ResourceWarning: unclosed file <_io.TextIOWrapper name='/usr/local/lib/python3.6/dist-packages/theano/gof/c_code/lazylinker_c.c' mode='r' encoding='UTF-8'>\n",
            "WARNING:pystan:This submodule contains experimental code, please use with caution\n",
            "INFO:absl:Entry Point [tensor2tensor.envs.tic_tac_toe_env:TicTacToeEnv] registered with id [T2TEnv-TicTacToeEnv-v0]\n"
          ],
          "name": "stderr"
        },
        {
          "output_type": "stream",
          "text": [
            "WARNING:tensorflow:From /usr/local/lib/python3.6/dist-packages/tensor2tensor/utils/multistep_optimizer.py:32: The name tf.train.AdamOptimizer is deprecated. Please use tf.compat.v1.train.AdamOptimizer instead.\n",
            "\n"
          ],
          "name": "stdout"
        },
        {
          "output_type": "stream",
          "text": [
            "WARNING:tensorflow:From /usr/local/lib/python3.6/dist-packages/tensor2tensor/utils/multistep_optimizer.py:32: The name tf.train.AdamOptimizer is deprecated. Please use tf.compat.v1.train.AdamOptimizer instead.\n",
            "\n"
          ],
          "name": "stderr"
        },
        {
          "output_type": "stream",
          "text": [
            "WARNING:tensorflow:From /usr/local/lib/python3.6/dist-packages/tensor2tensor/models/research/glow_init_hook.py:25: The name tf.train.SessionRunHook is deprecated. Please use tf.estimator.SessionRunHook instead.\n",
            "\n"
          ],
          "name": "stdout"
        },
        {
          "output_type": "stream",
          "text": [
            "WARNING:tensorflow:From /usr/local/lib/python3.6/dist-packages/tensor2tensor/models/research/glow_init_hook.py:25: The name tf.train.SessionRunHook is deprecated. Please use tf.estimator.SessionRunHook instead.\n",
            "\n"
          ],
          "name": "stderr"
        },
        {
          "output_type": "stream",
          "text": [
            "WARNING:tensorflow:From /usr/local/lib/python3.6/dist-packages/tensor2tensor/models/research/neural_stack.py:51: The name tf.nn.rnn_cell.RNNCell is deprecated. Please use tf.compat.v1.nn.rnn_cell.RNNCell instead.\n",
            "\n"
          ],
          "name": "stdout"
        },
        {
          "output_type": "stream",
          "text": [
            "WARNING:tensorflow:From /usr/local/lib/python3.6/dist-packages/tensor2tensor/models/research/neural_stack.py:51: The name tf.nn.rnn_cell.RNNCell is deprecated. Please use tf.compat.v1.nn.rnn_cell.RNNCell instead.\n",
            "\n"
          ],
          "name": "stderr"
        },
        {
          "output_type": "stream",
          "text": [
            "WARNING:tensorflow:From /usr/local/lib/python3.6/dist-packages/tensor2tensor/utils/trainer_lib.py:111: The name tf.OptimizerOptions is deprecated. Please use tf.compat.v1.OptimizerOptions instead.\n",
            "\n"
          ],
          "name": "stdout"
        },
        {
          "output_type": "stream",
          "text": [
            "WARNING:tensorflow:From /usr/local/lib/python3.6/dist-packages/tensor2tensor/utils/trainer_lib.py:111: The name tf.OptimizerOptions is deprecated. Please use tf.compat.v1.OptimizerOptions instead.\n",
            "\n"
          ],
          "name": "stderr"
        },
        {
          "output_type": "stream",
          "text": [
            "WARNING:tensorflow:From /usr/local/lib/python3.6/dist-packages/tflearn/helpers/summarizer.py:9: The name tf.summary.merge is deprecated. Please use tf.compat.v1.summary.merge instead.\n",
            "\n"
          ],
          "name": "stdout"
        },
        {
          "output_type": "stream",
          "text": [
            "WARNING:tensorflow:From /usr/local/lib/python3.6/dist-packages/tflearn/helpers/summarizer.py:9: The name tf.summary.merge is deprecated. Please use tf.compat.v1.summary.merge instead.\n",
            "\n"
          ],
          "name": "stderr"
        },
        {
          "output_type": "stream",
          "text": [
            "WARNING:tensorflow:From /usr/local/lib/python3.6/dist-packages/tflearn/helpers/trainer.py:25: The name tf.summary.FileWriter is deprecated. Please use tf.compat.v1.summary.FileWriter instead.\n",
            "\n"
          ],
          "name": "stdout"
        },
        {
          "output_type": "stream",
          "text": [
            "WARNING:tensorflow:From /usr/local/lib/python3.6/dist-packages/tflearn/helpers/trainer.py:25: The name tf.summary.FileWriter is deprecated. Please use tf.compat.v1.summary.FileWriter instead.\n",
            "\n"
          ],
          "name": "stderr"
        },
        {
          "output_type": "stream",
          "text": [
            "WARNING:tensorflow:From /usr/local/lib/python3.6/dist-packages/tflearn/config.py:123: The name tf.get_collection is deprecated. Please use tf.compat.v1.get_collection instead.\n",
            "\n"
          ],
          "name": "stdout"
        },
        {
          "output_type": "stream",
          "text": [
            "WARNING:tensorflow:From /usr/local/lib/python3.6/dist-packages/tflearn/config.py:123: The name tf.get_collection is deprecated. Please use tf.compat.v1.get_collection instead.\n",
            "\n"
          ],
          "name": "stderr"
        },
        {
          "output_type": "stream",
          "text": [
            "WARNING:tensorflow:From /usr/local/lib/python3.6/dist-packages/tflearn/config.py:129: The name tf.add_to_collection is deprecated. Please use tf.compat.v1.add_to_collection instead.\n",
            "\n"
          ],
          "name": "stdout"
        },
        {
          "output_type": "stream",
          "text": [
            "WARNING:tensorflow:From /usr/local/lib/python3.6/dist-packages/tflearn/config.py:129: The name tf.add_to_collection is deprecated. Please use tf.compat.v1.add_to_collection instead.\n",
            "\n"
          ],
          "name": "stderr"
        },
        {
          "output_type": "stream",
          "text": [
            "Cython              contextlib2         lib2to3             requests_oauthlib\n",
            "IPython             convertdate         libfuturize         resampy\n",
            "OpenGL              copy                libpasteurize       resource\n",
            "PIL                 copyreg             librosa             retrying\n",
            "ScreenResolution    coverage            lightgbm            rlcompleter\n",
            "__future__          coveralls           linecache           rmagic\n",
            "_ast                crcmod              llvmlite            rpy2\n",
            "_asyncio            crypt               lmdb                rsa\n",
            "_bisect             csv                 locale              rtmidi\n",
            "_blake2             ctypes              logging             runpy\n",
            "_bootlocale         cufflinks           lsb_release         s3fs\n",
            "_bz2                curses              lucid               s3transfer\n",
            "_cffi_backend       cv2                 lunardate           sched\n",
            "_codecs             cvxopt              lxml                scipy\n",
            "_codecs_cn          cvxpy               lzma                scs\n",
            "_codecs_hk          cycler              macpath             seaborn\n",
            "_codecs_iso2022     cymem               macurl2path         secrets\n",
            "_codecs_jp          cython              magenta             select\n",
            "_codecs_kr          cythonmagic         mailbox             selectors\n",
            "_codecs_tw          daft                mailcap             semantic_version\n",
            "_collections        dask                markdown            send2trash\n",
            "_collections_abc    dataclasses         markupsafe          setuptools\n",
            "_compat_pickle      datascience         marshal             setuptools_git\n",
            "_compression        datetime            math                shapely\n",
            "_crypt              dateutil            matplotlib          shelve\n",
            "_csv                dbm                 matplotlib_venn     shlex\n",
            "_ctypes             dbus                mesh_tensorflow     shutil\n",
            "_ctypes_test        decimal             mido                signal\n",
            "_curses             decorator           mimetypes           simplegeneric\n",
            "_curses_panel       defusedxml          mir_eval            site\n",
            "_cvxcore            descartes           missingno           sitecustomize\n",
            "_datetime           difflib             mistune             six\n",
            "_dbm                dill                mizani              skimage\n",
            "_dbus_bindings      dis                 mlxtend             sklearn\n",
            "_dbus_glib_bindings distributed         mmap                sklearn_pandas\n",
            "_decimal            distutils           modulefinder        slugify\n",
            "_dummy_thread       django              more_itertools      smart_open\n",
            "_ecos               dlib                moviepy             smtpd\n",
            "_elementtree        docopt              mpi4py              smtplib\n",
            "_functools          docs                mpmath              sndhdr\n",
            "_hashlib            doctest             msgpack             snowballstemmer\n",
            "_heapq              docutils            multiprocess        socket\n",
            "_imp                dopamine            multiprocessing     socketserver\n",
            "_io                 dot_parser          multitasking        socks\n",
            "_json               dummy_threading     murmurhash          sockshandler\n",
            "_locale             easy_install        music21             softwareproperties\n",
            "_lsprof             easydict            natsort             sonnet\n",
            "_lzma               ecos                nbconvert           sortedcontainers\n",
            "_markupbase         editdistance        nbformat            spacy\n",
            "_md5                ee                  netrc               sphinx\n",
            "_multibytecodec     email               networkx            spwd\n",
            "_multiprocess       en_core_web_sm      nibabel             sql\n",
            "_multiprocessing    encodings           nis                 sqlalchemy\n",
            "_opcode             entrypoints         nisext              sqlite3\n",
            "_operator           enum                nltk                sqlparse\n",
            "_osx_support        errno               nntplib             sre_compile\n",
            "_pickle             et_xmlfile          notebook            sre_constants\n",
            "_plotly_future_     examples            np_utils            sre_parse\n",
            "_plotly_utils       fa2                 ntpath              srsly\n",
            "_posixsubprocess    fancyimpute         nturl2path          ssl\n",
            "_pydecimal          fastai              numba               stable_baselines\n",
            "_pyio               fastcache           numbers             stat\n",
            "_pyrsistent_version fastdtw             numexpr             statistics\n",
            "_pytest             fastprogress        numpy               statsmodels\n",
            "_random             fastrlock           nvidia_smi          storemagic\n",
            "_scs_direct         faulthandler        oauth2client        string\n",
            "_scs_indirect       fbprophet           oauthlib            stringprep\n",
            "_scs_python         fcntl               ogr                 struct\n",
            "_sha1               feather             okgrade             subprocess\n",
            "_sha256             featuretools        olefile             sunau\n",
            "_sha3               filecmp             opcode              symbol\n",
            "_sha512             fileinput           openpyxl            sympy\n",
            "_signal             filelock            operator            sympyprinting\n",
            "_sitebuiltins       fix_yahoo_finance   opt_einsum          symtable\n",
            "_socket             flask               optparse            sys\n",
            "_sqlite3            fnmatch             os                  sysconfig\n",
            "_sre                folium              osgeo               syslog\n",
            "_ssl                formatter           osqp                tables\n",
            "_stat               fractions           osqppurepy          tabnanny\n",
            "_string             fsspec              osr                 tabulate\n",
            "_strptime           ftplib              ossaudiodev         tarfile\n",
            "_struct             functools           packaging           tblib\n",
            "_symtable           future              palettable          telnetlib\n",
            "_sysconfigdata_m_linux_x86_64-linux-gnu gast                pandas              tempfile\n",
            "_testbuffer         gc                  pandas_datareader   tensor2tensor\n",
            "_testcapi           gdal                pandas_gbq          tensorboard\n",
            "_testimportmultiple gdalconst           pandas_profiling    tensorboardcolab\n",
            "_testmultiphase     gdalnumeric         pandocfilters       tensorflow\n",
            "_thread             gdown               parser              tensorflow_core\n",
            "_threading_local    genericpath         parso               tensorflow_datasets\n",
            "_tkinter            gensim              past                tensorflow_estimator\n",
            "_tracemalloc        geographiclib       pasta               tensorflow_gan\n",
            "_warnings           geopy               pathlib             tensorflow_hub\n",
            "_weakref            getopt              patsy               tensorflow_metadata\n",
            "_weakrefset         getpass             pdb                 tensorflow_privacy\n",
            "abc                 gettext             pexpect             tensorflow_probability\n",
            "absl                gevent              pickle              termcolor\n",
            "aifc                gi                  pickleshare         terminado\n",
            "alabaster           gin                 pickletools         termios\n",
            "albumentations      github2pypi         pip                 test\n",
            "altair              glob                pipes               test_png\n",
            "antigravity         glob2               piptools            testpath\n",
            "apiclient           gnm                 pkg_resources       tests\n",
            "apt                 google_auth_httplib2 pkgutil             text_unidecode\n",
            "apt_inst            google_auth_oauthlib plac                textblob\n",
            "apt_pkg             google_drive_downloader plac_core           textgenrnn\n",
            "aptsources          googleapiclient     plac_ext            textwrap\n",
            "argparse            googlesearch        plac_tk             tflearn\n",
            "array               graph_nets          platform            theano\n",
            "asgiref             graphviz            plistlib            thinc\n",
            "ast                 greenlet            plotly              this\n",
            "astor               gridfs              plotlywidget        threading\n",
            "astropy             grp                 plotnine            time\n",
            "asynchat            grpc                pluggy              timeit\n",
            "asyncio             gspread             png                 tkinter\n",
            "asyncore            gspread_dataframe   pngsuite            tlz\n",
            "atari_py            gunicorn            poplib              token\n",
            "atexit              gym                 portpicker          tokenize\n",
            "atomicwrites        gzip                posix               toolz\n",
            "attr                h5py                posixpath           torch\n",
            "audioop             hashlib             pprint              torchsummary\n",
            "audioread           heapdict            prefetch_generator  torchtext\n",
            "autograd            heapq               preshed             torchvision\n",
            "autoreload          hmac                pretty_midi         tornado\n",
            "babel               holidays            prettytable         tqdm\n",
            "backcall            html                profile             trace\n",
            "backports           html5lib            progressbar         traceback\n",
            "base64              http                prometheus_client   tracemalloc\n",
            "bdb                 httpimport          promise             traitlets\n",
            "bin                 httplib2            prompt_toolkit      tty\n",
            "binascii            humanize            pstats              turtle\n",
            "binhex              hyperopt            psutil              tweepy\n",
            "bisect              ideep4py            psycopg2            types\n",
            "bleach              idna                pty                 typing\n",
            "blis                image               ptyprocess          typing_extensions\n",
            "bokeh               imageio             pvectorc            tzlocal\n",
            "boost               imagesize           pwd                 umap\n",
            "boto                imaplib             py                  unicodedata\n",
            "boto3               imblearn            py_compile          unittest\n",
            "botocore            imgaug              pyarrow             uritemplate\n",
            "bottleneck          imghdr              pyasn1              urllib\n",
            "branca              imp                 pyasn1_modules      urllib3\n",
            "bs4                 importlib           pyclbr              uu\n",
            "bson                importlib_metadata  pycocotools         uuid\n",
            "builtins            imutils             pycparser           vega_datasets\n",
            "bz2                 inflect             pydata_google_auth  venv\n",
            "bz2file             inspect             pydoc               vis\n",
            "cProfile            intervaltree        pydoc_data          warnings\n",
            "cachetools          io                  pydot               wasabi\n",
            "caffe2              ipaddress           pydot_ng            wave\n",
            "calendar            ipykernel           pydotplus           wcwidth\n",
            "certifi             ipykernel_launcher  pydrive             weakref\n",
            "cffi                ipython_genutils    pyemd               webbrowser\n",
            "cgi                 ipywidgets          pyexpat             webencodings\n",
            "cgitb               itertools           pyglet              werkzeug\n",
            "chainer             itsdangerous        pygments            wheel\n",
            "chainermn           jax                 pygtkcompat         widgetsnbextension\n",
            "chainerx            jaxlib              pylab               wordcloud\n",
            "chardet             jdcal               pymc3               wrapt\n",
            "chart_studio        jedi                pymeeus             wsgiref\n",
            "chess               jieba               pymongo             xarray\n",
            "chunk               jinja2              pymystem3           xdrlib\n",
            "click               jmespath            pynvml              xgboost\n",
            "client              joblib              pyparsing           xkit\n",
            "cloudpickle         jpeg4py             pyrsistent          xlrd\n",
            "cmake               json                pysndfile           xlwt\n",
            "cmath               jsonschema          pystan              xml\n",
            "cmd                 jupyter             pytest              xmlrpc\n",
            "code                jupyter_client      python_utils        xxlimited\n",
            "codecs              jupyter_console     pytz                xxsubtype\n",
            "codeop              jupyter_core        pywt                yaml\n",
            "colab               kaggle              pyximport           yellowbrick\n",
            "collections         kapre               qtconsole           zict\n",
            "colorlover          keras               queue               zipapp\n",
            "colorsys            keras_applications  quopri              zipfile\n",
            "community           keras_preprocessing random              zipimport\n",
            "compileall          keyword             re                  zipp\n",
            "concurrent          kfac                readline            zlib\n",
            "configparser        kiwisolver          reprlib             zmq\n",
            "contextlib          knnimpute           requests            \n",
            "\n",
            "Enter any module name to get more help.  Or, type \"modules spam\" to search\n",
            "for modules whose name or summary contain the string \"spam\".\n",
            "\n"
          ],
          "name": "stdout"
        }
      ]
    },
    {
      "cell_type": "markdown",
      "metadata": {
        "id": "bPt_JYDSq-CN",
        "colab_type": "text"
      },
      "source": [
        "2. \n",
        "\n",
        "```\n",
        "import math\n",
        "math.cos(math.pi)\n",
        "```\n",
        "を試してみる。\n"
      ]
    },
    {
      "cell_type": "code",
      "metadata": {
        "id": "jSzdo3s9rMMc",
        "colab_type": "code",
        "outputId": "852ce399-84cf-4dbe-916f-f8a1be1d78a2",
        "colab": {
          "base_uri": "https://localhost:8080/",
          "height": 33
        }
      },
      "source": [
        "import math\n",
        "math.cos(math.pi)"
      ],
      "execution_count": 0,
      "outputs": [
        {
          "output_type": "execute_result",
          "data": {
            "text/plain": [
              "-1.0"
            ]
          },
          "metadata": {
            "tags": []
          },
          "execution_count": 2
        }
      ]
    },
    {
      "cell_type": "markdown",
      "metadata": {
        "id": "Oylnx4HVx7F7",
        "colab_type": "text"
      },
      "source": [
        "3. モジュールを`import`する方法\n"
      ]
    },
    {
      "cell_type": "code",
      "metadata": {
        "id": "G-q4hhBvyBtY",
        "colab_type": "code",
        "outputId": "6d8b59c0-0aef-4730-e464-66e94dc008d2",
        "colab": {
          "base_uri": "https://localhost:8080/",
          "height": 33
        }
      },
      "source": [
        "import numpy as np\n",
        "np.cos(np.pi)"
      ],
      "execution_count": 0,
      "outputs": [
        {
          "output_type": "execute_result",
          "data": {
            "text/plain": [
              "-1.0"
            ]
          },
          "metadata": {
            "tags": []
          },
          "execution_count": 3
        }
      ]
    },
    {
      "cell_type": "code",
      "metadata": {
        "id": "KzqNCa8Ry3k_",
        "colab_type": "code",
        "outputId": "77c7c875-f569-456a-edbc-1929e6f10224",
        "colab": {
          "base_uri": "https://localhost:8080/",
          "height": 33
        }
      },
      "source": [
        "from math import cos, pi\n",
        "cos(pi)"
      ],
      "execution_count": 0,
      "outputs": [
        {
          "output_type": "execute_result",
          "data": {
            "text/plain": [
              "-1.0"
            ]
          },
          "metadata": {
            "tags": []
          },
          "execution_count": 4
        }
      ]
    },
    {
      "cell_type": "code",
      "metadata": {
        "id": "wnx4rxYJzSS2",
        "colab_type": "code",
        "outputId": "9dfc1781-090c-4e3d-b1d5-848e8c8cdef9",
        "colab": {
          "base_uri": "https://localhost:8080/",
          "height": 33
        }
      },
      "source": [
        "from math import *\n",
        "sin(pi)**2 + cos(pi)**2"
      ],
      "execution_count": 0,
      "outputs": [
        {
          "output_type": "execute_result",
          "data": {
            "text/plain": [
              "1.0"
            ]
          },
          "metadata": {
            "tags": []
          },
          "execution_count": 5
        }
      ]
    },
    {
      "cell_type": "markdown",
      "metadata": {
        "id": "eL5qZLR6BSfO",
        "colab_type": "text"
      },
      "source": [
        "## 文字列操作\n",
        "\n",
        "1. 以下を試してみて\n",
        "\n",
        "```\n",
        "a = 'kcgi'\n",
        "b = \"kcgi\"\n",
        "a == b\n",
        "```\n",
        "\n"
      ]
    },
    {
      "cell_type": "code",
      "metadata": {
        "id": "L3q9ReVICRlY",
        "colab_type": "code",
        "outputId": "229b6124-4d69-4061-8b7c-fde1ff97dca5",
        "colab": {
          "base_uri": "https://localhost:8080/",
          "height": 33
        }
      },
      "source": [
        "a = 'kcgi'\n",
        "b = \"kcgi\"\n",
        "a == b"
      ],
      "execution_count": 0,
      "outputs": [
        {
          "output_type": "execute_result",
          "data": {
            "text/plain": [
              "True"
            ]
          },
          "metadata": {
            "tags": []
          },
          "execution_count": 6
        }
      ]
    },
    {
      "cell_type": "markdown",
      "metadata": {
        "id": "P4FpJoD-CWrP",
        "colab_type": "text"
      },
      "source": [
        "2. `\"\"\" \"\"\"` 三重引用符の構文を使って、文字列を一列で書きなさい。"
      ]
    },
    {
      "cell_type": "code",
      "metadata": {
        "id": "sfXXGBGSCrpd",
        "colab_type": "code",
        "outputId": "d8247ee5-9fb5-48d4-f27a-188efe7636f8",
        "colab": {
          "base_uri": "https://localhost:8080/",
          "height": 84
        }
      },
      "source": [
        "multi_line =\"\"\"a\n",
        "b\n",
        "c\n",
        "\"\"\"\n",
        "\n",
        "print(multi_line)"
      ],
      "execution_count": 0,
      "outputs": [
        {
          "output_type": "stream",
          "text": [
            "a\n",
            "b\n",
            "c\n",
            "\n"
          ],
          "name": "stdout"
        }
      ]
    },
    {
      "cell_type": "markdown",
      "metadata": {
        "id": "K3DzXlvjC74U",
        "colab_type": "text"
      },
      "source": [
        "3. 下記の文字列を修正しなさい。\n",
        "\n",
        "`the Kyoto College of Graduate studies for informatics`\n",
        "\n",
        "*   `.upper()`を使って、全文字を大文字にしなさい\n",
        "*   `.lower()`を使って、全文字を小文字にしなさい\n",
        "*   `.title()`を使って、各単語の最初の文字を大文字にしなさい。\n",
        "*   `.capitalize()`を使って、文章の最初の文字を大文字にしなさい。\n",
        "*   `.swapcase()`を使って、文字をスワップしなさい。\n",
        "\n"
      ]
    },
    {
      "cell_type": "code",
      "metadata": {
        "id": "iH4IxkiXECEw",
        "colab_type": "code",
        "colab": {}
      },
      "source": [
        "kcgi = \"the Kyoto College of Graduate studies for informatics\""
      ],
      "execution_count": 0,
      "outputs": []
    },
    {
      "cell_type": "code",
      "metadata": {
        "id": "eYGnNngeEOZO",
        "colab_type": "code",
        "outputId": "4385385b-a5aa-42ac-ff66-eab5d6769dff",
        "colab": {
          "base_uri": "https://localhost:8080/",
          "height": 33
        }
      },
      "source": [
        "kcgi.upper()"
      ],
      "execution_count": 0,
      "outputs": [
        {
          "output_type": "execute_result",
          "data": {
            "text/plain": [
              "'THE KYOTO COLLEGE OF GRADUATE STUDIES FOR INFORMATICS'"
            ]
          },
          "metadata": {
            "tags": []
          },
          "execution_count": 10
        }
      ]
    },
    {
      "cell_type": "code",
      "metadata": {
        "id": "tc_FCmuuEShi",
        "colab_type": "code",
        "outputId": "432f174b-3e9e-4644-e7b4-516a7ef6c5dc",
        "colab": {
          "base_uri": "https://localhost:8080/",
          "height": 33
        }
      },
      "source": [
        "kcgi.lower()"
      ],
      "execution_count": 0,
      "outputs": [
        {
          "output_type": "execute_result",
          "data": {
            "text/plain": [
              "'the kyoto college of graduate studies for informatics'"
            ]
          },
          "metadata": {
            "tags": []
          },
          "execution_count": 11
        }
      ]
    },
    {
      "cell_type": "code",
      "metadata": {
        "id": "rxIub0LOEUcH",
        "colab_type": "code",
        "outputId": "fad5c2e7-d255-4035-eeb4-8206e9f14e8b",
        "colab": {
          "base_uri": "https://localhost:8080/",
          "height": 33
        }
      },
      "source": [
        "kcgi.title()"
      ],
      "execution_count": 0,
      "outputs": [
        {
          "output_type": "execute_result",
          "data": {
            "text/plain": [
              "'The Kyoto College Of Graduate Studies For Informatics'"
            ]
          },
          "metadata": {
            "tags": []
          },
          "execution_count": 12
        }
      ]
    },
    {
      "cell_type": "code",
      "metadata": {
        "id": "-bnUe7OxEWe1",
        "colab_type": "code",
        "outputId": "3b7e5dc0-5a40-4ce8-ad69-bc9234fa11d2",
        "colab": {
          "base_uri": "https://localhost:8080/",
          "height": 33
        }
      },
      "source": [
        "kcgi.capitalize()"
      ],
      "execution_count": 0,
      "outputs": [
        {
          "output_type": "execute_result",
          "data": {
            "text/plain": [
              "'The kyoto college of graduate studies for informatics'"
            ]
          },
          "metadata": {
            "tags": []
          },
          "execution_count": 13
        }
      ]
    },
    {
      "cell_type": "code",
      "metadata": {
        "id": "_tP5VoCGEYjX",
        "colab_type": "code",
        "outputId": "e03e9f57-0279-4f1c-9285-41624729dbb9",
        "colab": {
          "base_uri": "https://localhost:8080/",
          "height": 33
        }
      },
      "source": [
        "kcgi.swapcase()"
      ],
      "execution_count": 0,
      "outputs": [
        {
          "output_type": "execute_result",
          "data": {
            "text/plain": [
              "'THE kYOTO cOLLEGE OF gRADUATE STUDIES FOR INFORMATICS'"
            ]
          },
          "metadata": {
            "tags": []
          },
          "execution_count": 14
        }
      ]
    },
    {
      "cell_type": "markdown",
      "metadata": {
        "id": "UEbNJe8QEb4J",
        "colab_type": "text"
      },
      "source": [
        "4. 以下の文字列から`0`を抜き出しなさい。抜き出した後、元に戻りなさい。\n",
        "\n",
        "`num=\"00000456\"`"
      ]
    },
    {
      "cell_type": "code",
      "metadata": {
        "id": "TSsVqE1nEqHI",
        "colab_type": "code",
        "outputId": "8942ddec-21af-444a-a14a-7b2cf814c307",
        "colab": {
          "base_uri": "https://localhost:8080/",
          "height": 33
        }
      },
      "source": [
        "num = \"00000456\"\n",
        "num.strip('0')"
      ],
      "execution_count": 0,
      "outputs": [
        {
          "output_type": "execute_result",
          "data": {
            "text/plain": [
              "'456'"
            ]
          },
          "metadata": {
            "tags": []
          },
          "execution_count": 15
        }
      ]
    },
    {
      "cell_type": "code",
      "metadata": {
        "id": "265jsoTXEvVb",
        "colab_type": "code",
        "outputId": "8e3941f0-121f-43ac-8315-41654c1f1711",
        "colab": {
          "base_uri": "https://localhost:8080/",
          "height": 33
        }
      },
      "source": [
        "num.zfill(5)"
      ],
      "execution_count": 0,
      "outputs": [
        {
          "output_type": "execute_result",
          "data": {
            "text/plain": [
              "'00000456'"
            ]
          },
          "metadata": {
            "tags": []
          },
          "execution_count": 16
        }
      ]
    },
    {
      "cell_type": "markdown",
      "metadata": {
        "id": "IjaK36Celur0",
        "colab_type": "text"
      },
      "source": [
        "5. `strip()`を使って、必要ではないホワイトスペースを取りなさい。文字列は\n",
        "```\n",
        "\"           kyoto computer gakuin          \" \n",
        "```\n",
        "とする。\n",
        "\n"
      ]
    },
    {
      "cell_type": "code",
      "metadata": {
        "id": "GKlU1alEmMSV",
        "colab_type": "code",
        "colab": {}
      },
      "source": [
        "kcg = \"           kyoto computer gakuin           \""
      ],
      "execution_count": 0,
      "outputs": []
    },
    {
      "cell_type": "code",
      "metadata": {
        "id": "NHuOWtFhmSB1",
        "colab_type": "code",
        "outputId": "17b19fd8-bb89-4a34-ff68-3dcf536dcd10",
        "colab": {
          "base_uri": "https://localhost:8080/",
          "height": 35
        }
      },
      "source": [
        "kcg.strip()"
      ],
      "execution_count": 0,
      "outputs": [
        {
          "output_type": "execute_result",
          "data": {
            "text/plain": [
              "'kyoto computer gakuin'"
            ]
          },
          "metadata": {
            "tags": []
          },
          "execution_count": 34
        }
      ]
    },
    {
      "cell_type": "code",
      "metadata": {
        "id": "6G4d2_zDmVQU",
        "colab_type": "code",
        "outputId": "89732d38-5c58-4a5d-8046-d88073601784",
        "colab": {
          "base_uri": "https://localhost:8080/",
          "height": 35
        }
      },
      "source": [
        "kcg.rstrip()"
      ],
      "execution_count": 0,
      "outputs": [
        {
          "output_type": "execute_result",
          "data": {
            "text/plain": [
              "'           kyoto computer gakuin'"
            ]
          },
          "metadata": {
            "tags": []
          },
          "execution_count": 35
        }
      ]
    },
    {
      "cell_type": "code",
      "metadata": {
        "id": "hSbo5kL8mYa5",
        "colab_type": "code",
        "outputId": "4cee4170-9419-4edd-9e7d-b178b100672b",
        "colab": {
          "base_uri": "https://localhost:8080/",
          "height": 35
        }
      },
      "source": [
        "kcg.lstrip()"
      ],
      "execution_count": 0,
      "outputs": [
        {
          "output_type": "execute_result",
          "data": {
            "text/plain": [
              "'kyoto computer gakuin           '"
            ]
          },
          "metadata": {
            "tags": []
          },
          "execution_count": 36
        }
      ]
    },
    {
      "cell_type": "markdown",
      "metadata": {
        "id": "nmHKnyR1EzLo",
        "colab_type": "text"
      },
      "source": [
        "6. `.find()`, `.rfind()`, `.index()` を使って、文字列の中の探したい文字や数字など見つかることができる。また、`.replace()` を使って文字列の中の一部を変更することができる。\n",
        "\n",
        "下記の文字列を使って、a~eまでの問題を解きなさい。\n",
        "`\"the kyoto college of graduate studies for informatics\"`\n",
        "\n",
        "a) `.find()`と`index()`を使って、`kyoto`の文字を探しなさい。<br/>\n",
        "b) `.find`と`.index()`を使って、`university`の文字を探しなさい <br/>\n",
        "c) `.startswith()`を使って、`kyoto`は一番目の文字であるかどうか探しなさい。<br/>\n",
        "d) .`endswith()`を使って、`informatics`は最後の文字であるかどうか探しなさい。<br/>\n",
        "e) `.replace()`を使って、`e`は`--`に変更しなさい。"
      ]
    },
    {
      "cell_type": "code",
      "metadata": {
        "id": "bq1UHxeuZ-iv",
        "colab_type": "code",
        "colab": {}
      },
      "source": [
        "kcgi = \"the kyoto college of graduate studies for informatics\""
      ],
      "execution_count": 0,
      "outputs": []
    },
    {
      "cell_type": "code",
      "metadata": {
        "id": "RdzluA9DaF0z",
        "colab_type": "code",
        "outputId": "8e3f7a53-3128-4e61-b30e-e84e12596767",
        "colab": {
          "base_uri": "https://localhost:8080/",
          "height": 35
        }
      },
      "source": [
        "kcgi.find(\"kyoto\")"
      ],
      "execution_count": 0,
      "outputs": [
        {
          "output_type": "execute_result",
          "data": {
            "text/plain": [
              "4"
            ]
          },
          "metadata": {
            "tags": []
          },
          "execution_count": 18
        }
      ]
    },
    {
      "cell_type": "code",
      "metadata": {
        "id": "Nu4ffbHKaIP8",
        "colab_type": "code",
        "outputId": "7aca0c89-d894-4288-946a-9ac4852461be",
        "colab": {
          "base_uri": "https://localhost:8080/",
          "height": 35
        }
      },
      "source": [
        "kcgi.index(\"kyoto\")"
      ],
      "execution_count": 0,
      "outputs": [
        {
          "output_type": "execute_result",
          "data": {
            "text/plain": [
              "4"
            ]
          },
          "metadata": {
            "tags": []
          },
          "execution_count": 19
        }
      ]
    },
    {
      "cell_type": "code",
      "metadata": {
        "id": "hfdzsv82aKjS",
        "colab_type": "code",
        "outputId": "b5200853-867b-4b68-f5ae-b764ebddc84c",
        "colab": {
          "base_uri": "https://localhost:8080/",
          "height": 35
        }
      },
      "source": [
        "kcgi.find(\"university\")"
      ],
      "execution_count": 0,
      "outputs": [
        {
          "output_type": "execute_result",
          "data": {
            "text/plain": [
              "-1"
            ]
          },
          "metadata": {
            "tags": []
          },
          "execution_count": 20
        }
      ]
    },
    {
      "cell_type": "code",
      "metadata": {
        "id": "eWyQ2yLdaOJz",
        "colab_type": "code",
        "outputId": "47c462f8-e993-4a75-863b-b16a467b0432",
        "colab": {
          "base_uri": "https://localhost:8080/",
          "height": 171
        }
      },
      "source": [
        "kcgi.index(\"university\")"
      ],
      "execution_count": 0,
      "outputs": [
        {
          "output_type": "error",
          "ename": "ValueError",
          "evalue": "ignored",
          "traceback": [
            "\u001b[0;31m---------------------------------------------------------------------------\u001b[0m",
            "\u001b[0;31mValueError\u001b[0m                                Traceback (most recent call last)",
            "\u001b[0;32m<ipython-input-21-73cf2f9e4433>\u001b[0m in \u001b[0;36m<module>\u001b[0;34m()\u001b[0m\n\u001b[0;32m----> 1\u001b[0;31m \u001b[0mkcgi\u001b[0m\u001b[0;34m.\u001b[0m\u001b[0mindex\u001b[0m\u001b[0;34m(\u001b[0m\u001b[0;34m\"university\"\u001b[0m\u001b[0;34m)\u001b[0m\u001b[0;34m\u001b[0m\u001b[0;34m\u001b[0m\u001b[0m\n\u001b[0m",
            "\u001b[0;31mValueError\u001b[0m: substring not found"
          ]
        }
      ]
    },
    {
      "cell_type": "code",
      "metadata": {
        "id": "Sl1QxLKSaQxl",
        "colab_type": "code",
        "outputId": "c11b3a64-ace4-4bda-b847-82f889468175",
        "colab": {
          "base_uri": "https://localhost:8080/",
          "height": 35
        }
      },
      "source": [
        "kcgi.startswith(\"kyoto\")"
      ],
      "execution_count": 0,
      "outputs": [
        {
          "output_type": "execute_result",
          "data": {
            "text/plain": [
              "False"
            ]
          },
          "metadata": {
            "tags": []
          },
          "execution_count": 22
        }
      ]
    },
    {
      "cell_type": "code",
      "metadata": {
        "id": "Lias4fCUaTmz",
        "colab_type": "code",
        "outputId": "74a186d8-8f4f-493f-93da-2e3eed5a16f6",
        "colab": {
          "base_uri": "https://localhost:8080/",
          "height": 35
        }
      },
      "source": [
        "kcgi.endswith(\"informatics\")"
      ],
      "execution_count": 0,
      "outputs": [
        {
          "output_type": "execute_result",
          "data": {
            "text/plain": [
              "True"
            ]
          },
          "metadata": {
            "tags": []
          },
          "execution_count": 23
        }
      ]
    },
    {
      "cell_type": "code",
      "metadata": {
        "id": "g2vaDd0YaVjs",
        "colab_type": "code",
        "outputId": "d7e438e5-80ed-49e1-df85-ad8661fcf2ca",
        "colab": {
          "base_uri": "https://localhost:8080/",
          "height": 35
        }
      },
      "source": [
        "kcgi.replace(\"e\", \"--\")"
      ],
      "execution_count": 0,
      "outputs": [
        {
          "output_type": "execute_result",
          "data": {
            "text/plain": [
              "'th-- kyoto coll--g-- of graduat-- studi--s for informatics'"
            ]
          },
          "metadata": {
            "tags": []
          },
          "execution_count": 24
        }
      ]
    },
    {
      "cell_type": "markdown",
      "metadata": {
        "id": "I0h3iJgRaX80",
        "colab_type": "text"
      },
      "source": [
        "7. 6番目の同じ文字列を使って、`graduate`の文字をカットオッフとして三つの部分を分けてください。この操作は`.partition()`を使ったらできる。次に、`.split()`を使って、一文字ずつ分けてください。"
      ]
    },
    {
      "cell_type": "code",
      "metadata": {
        "id": "K-CBnULibO5W",
        "colab_type": "code",
        "outputId": "6e8bbd4d-9f84-4fb4-f82f-4eb9453634bb",
        "colab": {
          "base_uri": "https://localhost:8080/",
          "height": 35
        }
      },
      "source": [
        "kcgi.partition(\"graduate\")"
      ],
      "execution_count": 0,
      "outputs": [
        {
          "output_type": "execute_result",
          "data": {
            "text/plain": [
              "('the kyoto college of ', 'graduate', ' studies for informatics')"
            ]
          },
          "metadata": {
            "tags": []
          },
          "execution_count": 25
        }
      ]
    },
    {
      "cell_type": "code",
      "metadata": {
        "id": "1EzSpg6JbRUV",
        "colab_type": "code",
        "outputId": "2d28651a-329e-4a2d-e5ec-1289ce4766c4",
        "colab": {
          "base_uri": "https://localhost:8080/",
          "height": 35
        }
      },
      "source": [
        "kcgi.split()"
      ],
      "execution_count": 0,
      "outputs": [
        {
          "output_type": "execute_result",
          "data": {
            "text/plain": [
              "['the', 'kyoto', 'college', 'of', 'graduate', 'studies', 'for', 'informatics']"
            ]
          },
          "metadata": {
            "tags": []
          },
          "execution_count": 26
        }
      ]
    },
    {
      "cell_type": "markdown",
      "metadata": {
        "id": "ATEfPJ-CbTor",
        "colab_type": "text"
      },
      "source": [
        "8. 下記の二つの文字列を`.join()`を使って、合わせなさい。\n",
        "\n",
        "```\n",
        "string1 = \"--\"\n",
        "string2 = [\"a\", \"b\", \"c\"]\n",
        "```\n",
        "\n",
        "\n"
      ]
    },
    {
      "cell_type": "code",
      "metadata": {
        "id": "Vsk1uKbMgW2-",
        "colab_type": "code",
        "outputId": "c19bacc3-a9c8-484b-8b80-7ade773f3397",
        "colab": {
          "base_uri": "https://localhost:8080/",
          "height": 35
        }
      },
      "source": [
        "string1 = \"--\"\n",
        "\n",
        "string2 = [\"a\", \"b\", \"c\"]\n",
        "\n",
        "string1.join(string2)"
      ],
      "execution_count": 0,
      "outputs": [
        {
          "output_type": "execute_result",
          "data": {
            "text/plain": [
              "'a--b--c'"
            ]
          },
          "metadata": {
            "tags": []
          },
          "execution_count": 27
        }
      ]
    },
    {
      "cell_type": "markdown",
      "metadata": {
        "id": "wpmrII7-goHd",
        "colab_type": "text"
      },
      "source": [
        "9. 以下の整数から文字列に変更しなさい。そして、以下の文を書きなさい。\n",
        "\n",
        "```\n",
        "b = 3\n",
        "彼は<b>個オレンジを持っている。\n",
        "```\n",
        "\n",
        "\n"
      ]
    },
    {
      "cell_type": "code",
      "metadata": {
        "id": "iRdsBQKghMfS",
        "colab_type": "code",
        "outputId": "e9dbc827-09f6-4eba-8fb6-ac61c0ca14bb",
        "colab": {
          "base_uri": "https://localhost:8080/",
          "height": 35
        }
      },
      "source": [
        "b = 3\n",
        "str(b)\n",
        "\n",
        "print(\"彼は{}個のオレンジを持っている。\".format(str(b)) )"
      ],
      "execution_count": 0,
      "outputs": [
        {
          "output_type": "stream",
          "text": [
            "彼は3個のオレンジを持っている。\n"
          ],
          "name": "stdout"
        }
      ]
    },
    {
      "cell_type": "markdown",
      "metadata": {
        "id": "F67RewFUhPJU",
        "colab_type": "text"
      },
      "source": [
        "10. インデックスを使用して、文字列に変数を含めることもできる。そして、何桁までの小数点も決められる。例えば、`{0:.3f}`は３桁まで小数点になる。\n",
        "\n",
        "a. 以下のコードを書きなさい。\n",
        "```\n",
        "print(\"\"\"First letter is {0}, second letter is {1}.\"\"\".format('A','B'))\n",
        "```\n",
        "そして、`{0}`は`{first}`、`{1}は`{second}`と変更。<br/>\n",
        "b. `pi`の値を２桁まで丸めなさい。`from math import pi`を使って`pi`の値をもらえる。\n",
        "\n"
      ]
    },
    {
      "cell_type": "code",
      "metadata": {
        "id": "jiK17vTYjDdR",
        "colab_type": "code",
        "outputId": "72a5e596-1933-4996-e44e-69b9bc904c0d",
        "colab": {
          "base_uri": "https://localhost:8080/",
          "height": 35
        }
      },
      "source": [
        "print(\"\"\"First letter is {0}, second letter is {1}.\"\"\".format('A','B'))"
      ],
      "execution_count": 0,
      "outputs": [
        {
          "output_type": "stream",
          "text": [
            "First letter is A, second letter is B.\n"
          ],
          "name": "stdout"
        }
      ]
    },
    {
      "cell_type": "code",
      "metadata": {
        "id": "KJxxtcutjRzU",
        "colab_type": "code",
        "outputId": "8e1975aa-55f6-4fce-8a6b-0b9e694b0cc1",
        "colab": {
          "base_uri": "https://localhost:8080/",
          "height": 35
        }
      },
      "source": [
        "print(\"\"\"First letter is {first}, second letter is {second}.\"\"\".format(first= 'A',second='B'))"
      ],
      "execution_count": 0,
      "outputs": [
        {
          "output_type": "stream",
          "text": [
            "First letter is A, second letter is B.\n"
          ],
          "name": "stdout"
        }
      ]
    },
    {
      "cell_type": "code",
      "metadata": {
        "id": "NuRdMoyJjVvi",
        "colab_type": "code",
        "outputId": "06d6f2d0-5045-447c-8445-c5fc3863df5d",
        "colab": {
          "base_uri": "https://localhost:8080/",
          "height": 35
        }
      },
      "source": [
        "from math import pi\n",
        "print(\"pi = {0: .2f}\".format(pi))"
      ],
      "execution_count": 0,
      "outputs": [
        {
          "output_type": "stream",
          "text": [
            "pi =  3.14\n"
          ],
          "name": "stdout"
        }
      ]
    }
  ]
}