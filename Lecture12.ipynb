{
  "nbformat": 4,
  "nbformat_minor": 0,
  "metadata": {
    "colab": {
      "name": "Lecture12_a.ipynb",
      "provenance": [],
      "collapsed_sections": [],
      "include_colab_link": true
    },
    "kernelspec": {
      "name": "python3",
      "display_name": "Python 3"
    }
  },
  "cells": [
    {
      "cell_type": "markdown",
      "metadata": {
        "id": "view-in-github",
        "colab_type": "text"
      },
      "source": [
        "<a href=\"https://colab.research.google.com/github/FairozaAmira/basic_algorithms_a/blob/master/Lecture12.ipynb\" target=\"_parent\"><img src=\"https://colab.research.google.com/assets/colab-badge.svg\" alt=\"Open In Colab\"/></a>"
      ]
    },
    {
      "cell_type": "markdown",
      "metadata": {
        "id": "6isrJPboEGac",
        "colab_type": "text"
      },
      "source": [
        "解答#第１２回目の講義中の練習問題回答\n",
        "\n",
        "## ビッグオー記法\n",
        "\n",
        "1. 階乗数を計算するアルゴリズムを書きなさい。\n",
        "\n",
        "*   Forループを使う\n",
        "*   If-else条件付き文を使う\n",
        "\n",
        "例：<br/>\n",
        "$4! = 4 \\times 3 \\times \\times 2 \\times 1 = 24 $<br/>\n",
        "計算量を確認しなさい。\n",
        "一番早いアルゴリズムはどれですか？\n",
        "\n",
        "[参考解答](https://https://stackabuse.com/big-o-notation-and-algorithm-analysis-with-python-examples/)\n",
        "\n",
        "\n"
      ]
    },
    {
      "cell_type": "code",
      "metadata": {
        "id": "J6GB9YzID9m8",
        "colab_type": "code",
        "outputId": "8be151ed-6e65-4716-a9fe-d0477de0cfe7",
        "colab": {
          "base_uri": "https://localhost:8080/",
          "height": 104
        }
      },
      "source": [
        "# for ループを使う\n",
        "\n",
        "def fact(n):\n",
        "    product = 1\n",
        "    for i in range(n):\n",
        "        product = product * (i+1)\n",
        "    return product\n",
        "\n",
        "print(fact(4))\n",
        "%timeit fact(4)\n",
        "%timeit fact(50)"
      ],
      "execution_count": 0,
      "outputs": [
        {
          "output_type": "stream",
          "text": [
            "24\n",
            "The slowest run took 8.04 times longer than the fastest. This could mean that an intermediate result is being cached.\n",
            "1000000 loops, best of 3: 478 ns per loop\n",
            "100000 loops, best of 3: 3.49 µs per loop\n"
          ],
          "name": "stdout"
        }
      ]
    },
    {
      "cell_type": "code",
      "metadata": {
        "id": "Et8StT2tcrSf",
        "colab_type": "code",
        "outputId": "e07376e4-9ecf-4589-f8dd-f60a3ccb48ca",
        "colab": {
          "base_uri": "https://localhost:8080/",
          "height": 120
        }
      },
      "source": [
        "#if else 条件付き文使う\n",
        "\n",
        "def fact2 (n):\n",
        "    if n == 0:\n",
        "        return 1\n",
        "    else:\n",
        "        return n * fact2(n-1)\n",
        "\n",
        "print(fact2(4))\n",
        "%timeit fact2(4)\n",
        "%timeit fact2(50)"
      ],
      "execution_count": 0,
      "outputs": [
        {
          "output_type": "stream",
          "text": [
            "24\n",
            "The slowest run took 5.30 times longer than the fastest. This could mean that an intermediate result is being cached.\n",
            "1000000 loops, best of 3: 614 ns per loop\n",
            "The slowest run took 5.29 times longer than the fastest. This could mean that an intermediate result is being cached.\n",
            "100000 loops, best of 3: 8.77 µs per loop\n"
          ],
          "name": "stdout"
        }
      ]
    },
    {
      "cell_type": "markdown",
      "metadata": {
        "id": "KfhS_IIOfnZo",
        "colab_type": "text"
      },
      "source": [
        "## スタック\n",
        "\n",
        "1. `.pop()`と`.append()`を使って、`Stack`クラスを作りましょう。\n",
        "\n",
        "この解答例[1](https://www.sanfoundry.com/python-program-implement-stack/)と[2](https://www.dummies.com/programming/python/how-to-create-stacks-using-lists-in-python/)のリンクに参考した。\n",
        "\n",
        "解け方：\n",
        "1. 空のリストを作り、`Stack`クラスを初期化する。\n",
        "2. `push`, `pop`と`is_empty`の関数を`Stack`のクラスに作る。\n",
        "3. `push`はデータをアイテムの中に加える。\n",
        "4. `pop`は一番目のアイテムを取り出す。\n",
        "5. `is_empty`はリストが空になったら、Trueとreturn.\n",
        "6. `Stack`のインスタンスを作り。ユーザー入力によって、`Stack`を実行させる。"
      ]
    },
    {
      "cell_type": "code",
      "metadata": {
        "id": "LoMm90wrkZoC",
        "colab_type": "code",
        "outputId": "105dd813-0039-46c1-954e-dce58b578ba5",
        "colab": {
          "base_uri": "https://localhost:8080/",
          "height": 619
        }
      },
      "source": [
        "class Stack:\n",
        "    def __init__(self):\n",
        "        self.items = []\n",
        " \n",
        "    def is_empty(self):\n",
        "        return self.items == []\n",
        " \n",
        "    def push(self, data):\n",
        "        self.items.append(data)\n",
        " \n",
        "    def pop(self):\n",
        "        return self.items.pop()\n",
        " \n",
        " \n",
        "s = Stack()\n",
        "while True:\n",
        "    print('push <value>')\n",
        "    print('pop')\n",
        "    print('quit')\n",
        "    do = input('What would you like to do? ').split()\n",
        " \n",
        "    operation = do[0].strip().lower()\n",
        "    if operation == 'push':\n",
        "        s.push(int(do[1]))\n",
        "    elif operation == 'pop':\n",
        "        if s.is_empty():\n",
        "            print('Stack is empty.')\n",
        "        else:\n",
        "            print('Popped value: ', s.pop())\n",
        "    elif operation == 'quit':\n",
        "        break"
      ],
      "execution_count": 0,
      "outputs": [
        {
          "output_type": "stream",
          "text": [
            "push <value>\n",
            "pop\n",
            "quit\n",
            "What would you like to do? push 2\n",
            "push <value>\n",
            "pop\n",
            "quit\n",
            "What would you like to do? push 5\n",
            "push <value>\n",
            "pop\n",
            "quit\n",
            "What would you like to do? push 3\n",
            "push <value>\n",
            "pop\n",
            "quit\n",
            "What would you like to do? pop\n",
            "Popped value:  3\n",
            "push <value>\n",
            "pop\n",
            "quit\n",
            "What would you like to do? pop\n",
            "Popped value:  5\n",
            "push <value>\n",
            "pop\n",
            "quit\n",
            "What would you like to do? pop\n",
            "Popped value:  2\n",
            "push <value>\n",
            "pop\n",
            "quit\n",
            "What would you like to do? pop\n",
            "Stack is empty.\n",
            "push <value>\n",
            "pop\n",
            "quit\n",
            "What would you like to do? quit\n"
          ],
          "name": "stdout"
        }
      ]
    },
    {
      "cell_type": "markdown",
      "metadata": {
        "id": "sO7povpTksnU",
        "colab_type": "text"
      },
      "source": [
        "2. Pythonのビルトイン関数からスタックを作りましょう。スタックはリストのように書き、`append`と`pop`で作れる。\n"
      ]
    },
    {
      "cell_type": "code",
      "metadata": {
        "id": "Mg5CDJuclAmu",
        "colab_type": "code",
        "outputId": "a0a71280-be72-4fb7-9d4d-59b15322d93f",
        "colab": {
          "base_uri": "https://localhost:8080/",
          "height": 84
        }
      },
      "source": [
        "stack = [\"1\", \"2\", \"3\"]\n",
        "stack.append(\"4\")\n",
        "print(stack)\n",
        "print(stack.pop())\n",
        "stack.append(\"5\")\n",
        "print(stack)\n",
        "print(stack.pop())"
      ],
      "execution_count": 0,
      "outputs": [
        {
          "output_type": "stream",
          "text": [
            "['1', '2', '3', '4']\n",
            "4\n",
            "['1', '2', '3', '5']\n",
            "5\n"
          ],
          "name": "stdout"
        }
      ]
    },
    {
      "cell_type": "markdown",
      "metadata": {
        "id": "_J79ihbD52nT",
        "colab_type": "text"
      },
      "source": [
        "## キュー（待ち行列）\n",
        "\n",
        "1. `append` と　`pop`を使って、`Queue`のクラスを作りなさい。\n",
        "\n",
        "*   `Queue`クラスを初期化する\n",
        "*   `append`を使って、`enqueue`の関数を作る\n",
        "*   `pop`を使って、`dequeue`の関数を作る。\n",
        "*   保存したアイテムを確認するために、`peek`関数を作る\n",
        "\n",
        "\n",
        "\n"
      ]
    },
    {
      "cell_type": "code",
      "metadata": {
        "id": "lHiGpd4VFCkJ",
        "colab_type": "code",
        "colab": {}
      },
      "source": [
        "#以下の解答例はUacity Data Structure and Algorithms Python Course で参考し、引用した\n",
        "\n",
        "class Queue():\n",
        "    def __init__(self, head=None):\n",
        "        self.storage = [head]\n",
        "\n",
        "    def enqueue(self, new_element):\n",
        "        self.storage.append(new_element)\n",
        "\n",
        "    def peek(self):\n",
        "        return self.storage[0]\n",
        "\n",
        "    def dequeue(self):\n",
        "        return self.storage.pop(0)\n"
      ],
      "execution_count": 0,
      "outputs": []
    },
    {
      "cell_type": "code",
      "metadata": {
        "id": "h7gVS2beFgwF",
        "colab_type": "code",
        "outputId": "08a61684-5e59-435f-ea33-4d2e90cba202",
        "colab": {
          "base_uri": "https://localhost:8080/",
          "height": 117
        }
      },
      "source": [
        "q = Queue(1)\n",
        "q.enqueue(2)\n",
        "q.enqueue(3)\n",
        "\n",
        "# テスト、値は１\n",
        "print (q.peek())\n",
        "\n",
        "# dequeのテスト、値は１\n",
        "print (q.dequeue())\n",
        "\n",
        "# enqueue\n",
        "q.enqueue(4)\n",
        "print (q.dequeue())\n",
        "print (q.dequeue())\n",
        "print (q.dequeue())\n",
        "q.enqueue(5)\n",
        "print (q.peek())"
      ],
      "execution_count": 0,
      "outputs": [
        {
          "output_type": "stream",
          "text": [
            "1\n",
            "1\n",
            "2\n",
            "3\n",
            "4\n",
            "5\n"
          ],
          "name": "stdout"
        }
      ]
    },
    {
      "cell_type": "markdown",
      "metadata": {
        "id": "7pVPvagtJLpx",
        "colab_type": "text"
      },
      "source": [
        "2. `collections.deque`と`popleft`のライブラリを使って、キューのアルゴリズムを書きなさい。\n",
        "\n",
        "以下の解答例は[ここから](https://www.geeksforgeeks.org/using-list-stack-queues-python/)参考した。"
      ]
    },
    {
      "cell_type": "code",
      "metadata": {
        "id": "mVl1zpIKJk7R",
        "colab_type": "code",
        "outputId": "0efd4e16-f578-4010-9863-b7fc16cad16a",
        "colab": {
          "base_uri": "https://localhost:8080/",
          "height": 117
        }
      },
      "source": [
        "from collections import deque\n",
        "queue = deque ([\"1\", \"2\", \"3\", \"4\"])\n",
        "print(queue)\n",
        "queue.append(\"5\")\n",
        "print(queue)\n",
        "queue.append(\"6\")\n",
        "print(queue)\n",
        "print(queue.popleft())\n",
        "print(queue.popleft())\n",
        "print(queue)"
      ],
      "execution_count": 0,
      "outputs": [
        {
          "output_type": "stream",
          "text": [
            "deque(['1', '2', '3', '4'])\n",
            "deque(['1', '2', '3', '4', '5'])\n",
            "deque(['1', '2', '3', '4', '5', '6'])\n",
            "1\n",
            "2\n",
            "deque(['3', '4', '5', '6'])\n"
          ],
          "name": "stdout"
        }
      ]
    }
  ]
}