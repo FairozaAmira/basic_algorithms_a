{
  "nbformat": 4,
  "nbformat_minor": 0,
  "metadata": {
    "colab": {
      "name": "Lecture08_a.ipynb",
      "provenance": [],
      "collapsed_sections": [],
      "include_colab_link": true
    },
    "kernelspec": {
      "name": "python3",
      "display_name": "Python 3"
    }
  },
  "cells": [
    {
      "cell_type": "markdown",
      "metadata": {
        "id": "view-in-github",
        "colab_type": "text"
      },
      "source": [
        "<a href=\"https://colab.research.google.com/github/FairozaAmira/basic_algorithms_a/blob/master/Lecture08.ipynb\" target=\"_parent\"><img src=\"https://colab.research.google.com/assets/colab-badge.svg\" alt=\"Open In Colab\"/></a>"
      ]
    },
    {
      "cell_type": "markdown",
      "metadata": {
        "id": "BCXsi3NgIvdo",
        "colab_type": "text"
      },
      "source": [
        "# 第８回目の講義中の練習問題回答\n",
        "\n",
        "## `for` ループ\n",
        "\n",
        "1. `for`ループを使って、1 から 5　まで表示しなさい。"
      ]
    },
    {
      "cell_type": "code",
      "metadata": {
        "id": "ODSHRdygIstJ",
        "colab_type": "code",
        "outputId": "805a98ca-ec69-48b2-c7de-9543d3f55d5f",
        "colab": {
          "base_uri": "https://localhost:8080/",
          "height": 100
        }
      },
      "source": [
        "for N in [1, 2, 3, 4, 5]:\n",
        "    print(N)"
      ],
      "execution_count": 0,
      "outputs": [
        {
          "output_type": "stream",
          "text": [
            "1\n",
            "2\n",
            "3\n",
            "4\n",
            "5\n"
          ],
          "name": "stdout"
        }
      ]
    },
    {
      "cell_type": "markdown",
      "metadata": {
        "id": "TjD-HxsyKk84",
        "colab_type": "text"
      },
      "source": [
        "2. １番目で書いたコードを一行で表示するように修正しなさい。"
      ]
    },
    {
      "cell_type": "code",
      "metadata": {
        "id": "nlZmxX08K4_4",
        "colab_type": "code",
        "outputId": "85820ae5-288e-476a-b322-6781ec03c3ea",
        "colab": {
          "base_uri": "https://localhost:8080/",
          "height": 33
        }
      },
      "source": [
        "for N in [1,2,3,4,5]:\n",
        "    print(N, end=' ')"
      ],
      "execution_count": 0,
      "outputs": [
        {
          "output_type": "stream",
          "text": [
            "1 2 3 4 5 "
          ],
          "name": "stdout"
        }
      ]
    },
    {
      "cell_type": "markdown",
      "metadata": {
        "id": "gGkZVYinK8eP",
        "colab_type": "text"
      },
      "source": [
        "3. `range`を使って、1から5まで一行に表示しなさい。"
      ]
    },
    {
      "cell_type": "code",
      "metadata": {
        "id": "ppSTR3UbLFVR",
        "colab_type": "code",
        "outputId": "77585293-e808-471c-9779-38472e20f1d9",
        "colab": {
          "base_uri": "https://localhost:8080/",
          "height": 33
        }
      },
      "source": [
        "for N in range(1,6):\n",
        "  print(N, end=\" \")"
      ],
      "execution_count": 0,
      "outputs": [
        {
          "output_type": "stream",
          "text": [
            "1 2 3 4 5 "
          ],
          "name": "stdout"
        }
      ]
    },
    {
      "cell_type": "markdown",
      "metadata": {
        "id": "_6u_e_8zLOYM",
        "colab_type": "text"
      },
      "source": [
        "`range`は普通０から始まる。`in range(start,end+1,step)`という意味。"
      ]
    },
    {
      "cell_type": "markdown",
      "metadata": {
        "id": "LjLaHmaZLbjz",
        "colab_type": "text"
      },
      "source": [
        "4. 1 から 5 までの一つのリストを作りなさい。"
      ]
    },
    {
      "cell_type": "code",
      "metadata": {
        "id": "XHApM3W5LmN8",
        "colab_type": "code",
        "outputId": "37c157be-6622-424a-ba98-81695ca368f2",
        "colab": {
          "base_uri": "https://localhost:8080/",
          "height": 33
        }
      },
      "source": [
        "list(range(1,6))"
      ],
      "execution_count": 0,
      "outputs": [
        {
          "output_type": "execute_result",
          "data": {
            "text/plain": [
              "[1, 2, 3, 4, 5]"
            ]
          },
          "metadata": {
            "tags": []
          },
          "execution_count": 4
        }
      ]
    },
    {
      "cell_type": "markdown",
      "metadata": {
        "id": "5x38uWcoLuUe",
        "colab_type": "text"
      },
      "source": [
        "5. 3の倍数のNループを作りなさい。但し、Nは30より小さいまたは等しいとする。"
      ]
    },
    {
      "cell_type": "code",
      "metadata": {
        "id": "385reuFlMAOE",
        "colab_type": "code",
        "outputId": "58f32c5e-71f5-4430-e47d-f8da4c43c02c",
        "colab": {
          "base_uri": "https://localhost:8080/",
          "height": 184
        }
      },
      "source": [
        "for N in range(3,31,3):\n",
        "    print(N)"
      ],
      "execution_count": 0,
      "outputs": [
        {
          "output_type": "stream",
          "text": [
            "3\n",
            "6\n",
            "9\n",
            "12\n",
            "15\n",
            "18\n",
            "21\n",
            "24\n",
            "27\n",
            "30\n"
          ],
          "name": "stdout"
        }
      ]
    },
    {
      "cell_type": "markdown",
      "metadata": {
        "id": "o6aMTrSvMDdJ",
        "colab_type": "text"
      },
      "source": [
        "6. 1から5までの合計を計算しなさい。"
      ]
    },
    {
      "cell_type": "code",
      "metadata": {
        "id": "a9GqTNp_MMMS",
        "colab_type": "code",
        "outputId": "11eeb057-1c34-4b86-8250-9dea1658a796",
        "colab": {
          "base_uri": "https://localhost:8080/",
          "height": 33
        }
      },
      "source": [
        "#totalを初期化する\n",
        "total = 0 \n",
        "for N in range(1,6):\n",
        "    total += N  #totalを毎回Nと加算させる\n",
        "print(total)"
      ],
      "execution_count": 0,
      "outputs": [
        {
          "output_type": "stream",
          "text": [
            "15\n"
          ],
          "name": "stdout"
        }
      ]
    },
    {
      "cell_type": "markdown",
      "metadata": {
        "id": "QKlfoScGMW4F",
        "colab_type": "text"
      },
      "source": [
        "7. `places`リストを作り、`for`ループを使って、スペースを”－”と代入して、最初の文字が大文字にした`new_places`リストを作りなさい。\n",
        "\n",
        "`places = [\"kamigyo ku\",\"nakagyo ku\", \"sakyo ku\"]`を<br/>\n",
        "`new_places=['Kamigyo-ku', 'Nakagyo-ku', 'Sakyo-ku']`にしなさい。\n"
      ]
    },
    {
      "cell_type": "code",
      "metadata": {
        "id": "i-s7kMRaPate",
        "colab_type": "code",
        "outputId": "87100e7a-b5c0-4a1c-faeb-2f9dd914fe9c",
        "colab": {
          "base_uri": "https://localhost:8080/",
          "height": 33
        }
      },
      "source": [
        "places = [\"kamigyo ku\",\"nakagyo ku\", \"sakyo ku\"]\n",
        "new_places = []\n",
        "\n",
        "for place in places:\n",
        "    new_places.append(place.capitalize().replace(\" \",\"-\"))\n",
        "print(new_places)"
      ],
      "execution_count": 0,
      "outputs": [
        {
          "output_type": "stream",
          "text": [
            "['Kamigyo-ku', 'Nakagyo-ku', 'Sakyo-ku']\n"
          ],
          "name": "stdout"
        }
      ]
    },
    {
      "cell_type": "code",
      "metadata": {
        "id": "fK-FRbYNPdfq",
        "colab_type": "code",
        "outputId": "0aa69ae8-ab2b-4465-e2ba-84612dd09191",
        "colab": {
          "base_uri": "https://localhost:8080/",
          "height": 33
        }
      },
      "source": [
        "\n",
        "new_places = [\"kamigyo ku\",\"nakagyo ku\", \"sakyo ku\"]\n",
        "\n",
        "for i in range(len(new_places)):\n",
        "    new_places[i] = new_places[i].capitalize().replace(\" \", \"-\")\n",
        "print(new_places)"
      ],
      "execution_count": 0,
      "outputs": [
        {
          "output_type": "stream",
          "text": [
            "['Kamigyo-ku', 'Nakagyo-ku', 'Sakyo-ku']\n"
          ],
          "name": "stdout"
        }
      ]
    },
    {
      "cell_type": "markdown",
      "metadata": {
        "id": "oLDdnhp4PgvF",
        "colab_type": "text"
      },
      "source": [
        "8. かごの中にある果物の数を数えましょう。\n",
        "\n",
        "かごの辞書は下記通り。<br/>\n",
        "`basket_items = {'apples': 4, 'oranges': 19, 'kites': 3, 'sandwiches': 8}`\n",
        "果物のリストは下記通り。<br/>\n",
        "`fruits = ['apples', 'oranges', 'pears', 'peaches', 'grapes', 'bananas']`\n"
      ]
    },
    {
      "cell_type": "code",
      "metadata": {
        "id": "MwEUrD0HQEOX",
        "colab_type": "code",
        "outputId": "a004b606-8ab7-4cec-d3da-8ea9cd8cd0d5",
        "colab": {
          "base_uri": "https://localhost:8080/",
          "height": 33
        }
      },
      "source": [
        "total = 0\n",
        "basket_items = {'apples': 4, 'oranges': 19, 'kites': 3, 'sandwiches': 8}\n",
        "fruits = ['apples', 'oranges', 'pears', 'peaches', 'grapes', 'bananas']\n",
        "\n",
        "for object, calculate in basket_items.items():\n",
        "    if object in fruits:\n",
        "        total += calculate\n",
        "\n",
        "print(\"かごの中には{}個の果物が入っている.\".format(total))"
      ],
      "execution_count": 0,
      "outputs": [
        {
          "output_type": "stream",
          "text": [
            "かごの中には23個の果物が入っている.\n"
          ],
          "name": "stdout"
        }
      ]
    },
    {
      "cell_type": "markdown",
      "metadata": {
        "id": "Hz2QBDAXQUnb",
        "colab_type": "text"
      },
      "source": [
        "9. かごの中には果物ではないものを数えなさい。"
      ]
    },
    {
      "cell_type": "code",
      "metadata": {
        "id": "S-WPOJkMQbM-",
        "colab_type": "code",
        "outputId": "004e704e-7090-4fa9-b347-b5a24b45439f",
        "colab": {
          "base_uri": "https://localhost:8080/",
          "height": 33
        }
      },
      "source": [
        "total = 0\n",
        "for object, calculate in basket_items.items():\n",
        "    if object not in fruits:\n",
        "        total += calculate\n",
        "\n",
        "print(\"かごの中には{}個のものが果物ではない.\".format(total))"
      ],
      "execution_count": 0,
      "outputs": [
        {
          "output_type": "stream",
          "text": [
            "かごの中には11個のものが果物ではない.\n"
          ],
          "name": "stdout"
        }
      ]
    },
    {
      "cell_type": "markdown",
      "metadata": {
        "id": "0dq7mp5wRejT",
        "colab_type": "text"
      },
      "source": [
        "## `while` ループ\n",
        "\n",
        "1. 1から10まで`while`ループを使って、表示しなさい。同じく、`for`ループを使って表示しなさい。比較してみましょう。"
      ]
    },
    {
      "cell_type": "code",
      "metadata": {
        "id": "EeXA6aeBR9MS",
        "colab_type": "code",
        "outputId": "2c709978-71fc-46be-99ea-286df9e4bb2a",
        "colab": {
          "base_uri": "https://localhost:8080/",
          "height": 184
        }
      },
      "source": [
        "i = 1 #初期化\n",
        "while i < 11: #最後の値\n",
        "    print(i)\n",
        "    i += 1 #ステップ"
      ],
      "execution_count": 0,
      "outputs": [
        {
          "output_type": "stream",
          "text": [
            "1\n",
            "2\n",
            "3\n",
            "4\n",
            "5\n",
            "6\n",
            "7\n",
            "8\n",
            "9\n",
            "10\n"
          ],
          "name": "stdout"
        }
      ]
    },
    {
      "cell_type": "code",
      "metadata": {
        "id": "XDSoFkYRSHnX",
        "colab_type": "code",
        "outputId": "404daa6c-cbdc-4a8e-8ff7-ecc6f324af64",
        "colab": {
          "base_uri": "https://localhost:8080/",
          "height": 184
        }
      },
      "source": [
        "for i in range(1,11):\n",
        "    print(i)"
      ],
      "execution_count": 0,
      "outputs": [
        {
          "output_type": "stream",
          "text": [
            "1\n",
            "2\n",
            "3\n",
            "4\n",
            "5\n",
            "6\n",
            "7\n",
            "8\n",
            "9\n",
            "10\n"
          ],
          "name": "stdout"
        }
      ]
    },
    {
      "cell_type": "markdown",
      "metadata": {
        "id": "yImR7WqiSKKJ",
        "colab_type": "text"
      },
      "source": [
        "2. 1から10までの合計を`while`と`for`ループを使って、計算しなさい。"
      ]
    },
    {
      "cell_type": "code",
      "metadata": {
        "id": "0lwr_twQSUn7",
        "colab_type": "code",
        "outputId": "7e63759a-e9b8-4dcf-ed54-b50be9c1c999",
        "colab": {
          "base_uri": "https://localhost:8080/",
          "height": 35
        }
      },
      "source": [
        "i = 1\n",
        "total = 0\n",
        "while i <= 10:\n",
        "    total += i \n",
        "    i += 1\n",
        "    \n",
        "print(total)"
      ],
      "execution_count": 0,
      "outputs": [
        {
          "output_type": "stream",
          "text": [
            "55\n"
          ],
          "name": "stdout"
        }
      ]
    },
    {
      "cell_type": "code",
      "metadata": {
        "id": "2_Up3tcDSYRW",
        "colab_type": "code",
        "outputId": "83c0d2a9-98d7-4867-de4c-91915d6eae86",
        "colab": {
          "base_uri": "https://localhost:8080/",
          "height": 33
        }
      },
      "source": [
        "total = 0\n",
        "for i in range(1,11):\n",
        "    total += i\n",
        "print(total)"
      ],
      "execution_count": 0,
      "outputs": [
        {
          "output_type": "stream",
          "text": [
            "55\n"
          ],
          "name": "stdout"
        }
      ]
    },
    {
      "cell_type": "markdown",
      "metadata": {
        "id": "vJXy3WEpSauq",
        "colab_type": "text"
      },
      "source": [
        "3. 50の一番近い2乗を`while`ループを使って、表示しなさい。答えは`49`。"
      ]
    },
    {
      "cell_type": "code",
      "metadata": {
        "id": "JAUQmz6BS3rp",
        "colab_type": "code",
        "outputId": "82a1b5c3-d5af-4c1d-e649-8ad65598bc2d",
        "colab": {
          "base_uri": "https://localhost:8080/",
          "height": 33
        }
      },
      "source": [
        "limit = 50\n",
        "\n",
        "num = 0\n",
        "while (num+1)**2 < limit:\n",
        "    num += 1\n",
        "nearest_square = num ** 2\n",
        "print(nearest_square)"
      ],
      "execution_count": 0,
      "outputs": [
        {
          "output_type": "stream",
          "text": [
            "49\n"
          ],
          "name": "stdout"
        }
      ]
    },
    {
      "cell_type": "markdown",
      "metadata": {
        "id": "nkW9ALUqTSUB",
        "colab_type": "text"
      },
      "source": [
        "## `break`と`continue`\n",
        "\n",
        "1. 1から20の奇数を`continue`を使って、表示しなさい。"
      ]
    },
    {
      "cell_type": "code",
      "metadata": {
        "id": "okkAhb6ITjRZ",
        "colab_type": "code",
        "outputId": "4b514369-c327-463f-a06d-04f26de1f22b",
        "colab": {
          "base_uri": "https://localhost:8080/",
          "height": 33
        }
      },
      "source": [
        "for n in range(20):\n",
        "    #もし計算のあまりが0の場合、ループをスキップ\n",
        "    if n % 2 == 0:\n",
        "        continue\n",
        "    print(n, end=' ')"
      ],
      "execution_count": 0,
      "outputs": [
        {
          "output_type": "stream",
          "text": [
            "1 3 5 7 9 11 13 15 17 19 "
          ],
          "name": "stdout"
        }
      ]
    },
    {
      "cell_type": "markdown",
      "metadata": {
        "id": "mAI0uxlxTs2V",
        "colab_type": "text"
      },
      "source": [
        "2. `break`を使って、下記の文章を100文字まで表示しなさい。\n",
        "\n",
        "`機械学習では、センサやデータベースなどに由来するサンプルデータを入力して解析を行い、そのデータから有用な規則、ルール、知識表現、判断基準などを抽出し、アルゴリズムを発展させる。そのアルゴリズムは、まずそのデータ（訓練例と呼ぶ）を生成した潜在的機構の特徴（確率分布）を捉え、複雑な関係を識別・定量化する。次に学習・識別したパターンを用いて新たなデータについて予測・決定を行う。データは、観測された変数群のとる関係の具体例と見ることができる`"
      ]
    },
    {
      "cell_type": "code",
      "metadata": {
        "id": "qvBRg27AUHCH",
        "colab_type": "code",
        "outputId": "4cc73d16-1e8d-4e99-bf1e-fdeb3fe55855",
        "colab": {
          "base_uri": "https://localhost:8080/",
          "height": 53
        }
      },
      "source": [
        "paragraph = \"機械学習では、センサやデータベースなどに由来するサンプルデータを入力して解析を行い、そのデータから有用な規則、ルール、知識表現、判断基準などを抽出し、アルゴリズムを発展させる。そのアルゴリズムは、まずそのデータ（訓練例と呼ぶ）を生成した潜在的機構の特徴（確率分布）を捉え、複雑な関係を識別・定量化する。次に学習・識別したパターンを用いて新たなデータについて予測・決定を行う。データは、観測された変数群のとる関係の具体例と見ることができる\"\n",
        "\n",
        "for p in paragraph:\n",
        "    if len(paragraph) >= 100:\n",
        "        sentence = paragraph[:100]\n",
        "        break\n",
        "print(sentence)"
      ],
      "execution_count": 0,
      "outputs": [
        {
          "output_type": "stream",
          "text": [
            "機械学習では、センサやデータベースなどに由来するサンプルデータを入力して解析を行い、そのデータから有用な規則、ルール、知識表現、判断基準などを抽出し、アルゴリズムを発展させる。そのアルゴリズムは、まず\n"
          ],
          "name": "stdout"
        }
      ]
    },
    {
      "cell_type": "markdown",
      "metadata": {
        "id": "Q-TWq9kMUvmg",
        "colab_type": "text"
      },
      "source": [
        "## 生入力スクリプト\n",
        "\n",
        "1. ユーザーを自分の名前を入力させてください。"
      ]
    },
    {
      "cell_type": "code",
      "metadata": {
        "id": "3fMM_APlU-K4",
        "colab_type": "code",
        "outputId": "a283ed4f-1970-4831-96b6-169dcff1d9eb",
        "colab": {
          "base_uri": "https://localhost:8080/",
          "height": 50
        }
      },
      "source": [
        "name = input(\"名前: \")\n",
        "print(name)"
      ],
      "execution_count": 0,
      "outputs": [
        {
          "output_type": "stream",
          "text": [
            "名前: Fairoza\n",
            "Fairoza\n"
          ],
          "name": "stdout"
        }
      ]
    },
    {
      "cell_type": "markdown",
      "metadata": {
        "id": "r2lsLHrpVD9q",
        "colab_type": "text"
      },
      "source": [
        "2．ユーザーに`こんにちは`とあいさつしましょう。"
      ]
    },
    {
      "cell_type": "code",
      "metadata": {
        "id": "Ed2hcKIUVKyk",
        "colab_type": "code",
        "outputId": "1b74c12e-475f-49d2-93c4-826d3b6f012e",
        "colab": {
          "base_uri": "https://localhost:8080/",
          "height": 33
        }
      },
      "source": [
        "print(\"こんにちは {}!\".format(name))"
      ],
      "execution_count": 0,
      "outputs": [
        {
          "output_type": "stream",
          "text": [
            "こんにちは Fairoza!\n"
          ],
          "name": "stdout"
        }
      ]
    },
    {
      "cell_type": "markdown",
      "metadata": {
        "id": "7RoHWT4tVP2h",
        "colab_type": "text"
      },
      "source": [
        "3. ユーザーの年齢を聞きましょう。"
      ]
    },
    {
      "cell_type": "code",
      "metadata": {
        "id": "jjseAqpXVVSN",
        "colab_type": "code",
        "outputId": "c55b9ca4-b6cc-482b-c52d-91b9854b1cc8",
        "colab": {
          "base_uri": "https://localhost:8080/",
          "height": 50
        }
      },
      "source": [
        "age = input(\"年齢: \")\n",
        "print(age)"
      ],
      "execution_count": 0,
      "outputs": [
        {
          "output_type": "stream",
          "text": [
            "年齢: 28\n",
            "28\n"
          ],
          "name": "stdout"
        }
      ]
    },
    {
      "cell_type": "markdown",
      "metadata": {
        "id": "-3OSugxpVdXk",
        "colab_type": "text"
      },
      "source": [
        "4. ユーザーの5年後の年齢を表示しなさい。"
      ]
    },
    {
      "cell_type": "code",
      "metadata": {
        "id": "psxpvkYeVkXH",
        "colab_type": "code",
        "outputId": "61c47cd2-3360-4d75-aae8-63bdd3184950",
        "colab": {
          "base_uri": "https://localhost:8080/",
          "height": 33
        }
      },
      "source": [
        "age = int(age)\n",
        "age_5_years_later = age + 5\n",
        "print(age_5_years_later)"
      ],
      "execution_count": 0,
      "outputs": [
        {
          "output_type": "stream",
          "text": [
            "33\n"
          ],
          "name": "stdout"
        }
      ]
    },
    {
      "cell_type": "markdown",
      "metadata": {
        "id": "DnN2M0PfVoNs",
        "colab_type": "text"
      },
      "source": [
        "5. 下記のように出力しましょう。\n",
        "\n",
        "`こんにちは <name>さん! \n",
        "<name>さんは今<age>歳ですが、5年後は<age_5_years_later>歳になりますよ。`"
      ]
    },
    {
      "cell_type": "code",
      "metadata": {
        "id": "fEVmPOS0V9eR",
        "colab_type": "code",
        "outputId": "c55f5996-d47a-4441-e648-6aceaf9789fd",
        "colab": {
          "base_uri": "https://localhost:8080/",
          "height": 33
        }
      },
      "source": [
        "print(\"こんにちは{}さん! {}さんは今{}歳ですが、5年後は{}歳になりますよ\".format(name, name, age, age_5_years_later))\n"
      ],
      "execution_count": 0,
      "outputs": [
        {
          "output_type": "stream",
          "text": [
            "こんにちはFairozaさん! Fairozaさんは今28歳ですが、5年後は33歳になりますよ\n"
          ],
          "name": "stdout"
        }
      ]
    },
    {
      "cell_type": "markdown",
      "metadata": {
        "id": "6rtloOijXEEu",
        "colab_type": "text"
      },
      "source": [
        "6. もしたくさんのユーザーがいて、`for`ループを使って、どうやって簡単に表示できますか？"
      ]
    },
    {
      "cell_type": "code",
      "metadata": {
        "id": "v_-VlrHaXTfG",
        "colab_type": "code",
        "outputId": "f611bae9-cd56-473b-edb7-1b78469929a0",
        "colab": {
          "base_uri": "https://localhost:8080/",
          "height": 84
        }
      },
      "source": [
        "names = input(\"コマで区切って名前を入力して: \").title().split(\",\")\n",
        "ages = input(\"コマで区切って年齢を入力して: \").split(\",\")\n",
        "message = \"こんにちは{}さん! {}さんは今{}歳ですが、5年後は{}歳になりますよ\"\n",
        "\n",
        "for name, age in zip(names, ages):\n",
        "    print(message.format(name, name, age, int(age)+5))"
      ],
      "execution_count": 0,
      "outputs": [
        {
          "output_type": "stream",
          "text": [
            "コマで区切って名前を入力して: Fairoza, Fairuz\n",
            "コマで区切って年齢を入力して: 28, 21\n",
            "こんにちはFairozaさん! Fairozaさんは今28歳ですが、5年後は33歳になりますよ\n",
            "こんにちは Fairuzさん!  Fairuzさんは今 21歳ですが、5年後は26歳になりますよ\n"
          ],
          "name": "stdout"
        }
      ]
    },
    {
      "cell_type": "markdown",
      "metadata": {
        "id": "OBh4zpKkZHho",
        "colab_type": "text"
      },
      "source": [
        "## エラーと例外\n",
        "\n",
        "1. 変数を設定せずに、表示しようとしたらどうなりますか？"
      ]
    },
    {
      "cell_type": "code",
      "metadata": {
        "id": "1Jk1gjacZR4B",
        "colab_type": "code",
        "outputId": "1f0a8ac6-71eb-4aed-eb7d-323fd5213490",
        "colab": {
          "base_uri": "https://localhost:8080/",
          "height": 161
        }
      },
      "source": [
        "print(x)"
      ],
      "execution_count": 0,
      "outputs": [
        {
          "output_type": "error",
          "ename": "NameError",
          "evalue": "ignored",
          "traceback": [
            "\u001b[0;31m---------------------------------------------------------------------------\u001b[0m",
            "\u001b[0;31mNameError\u001b[0m                                 Traceback (most recent call last)",
            "\u001b[0;32m<ipython-input-24-fc17d851ef81>\u001b[0m in \u001b[0;36m<module>\u001b[0;34m()\u001b[0m\n\u001b[0;32m----> 1\u001b[0;31m \u001b[0mprint\u001b[0m\u001b[0;34m(\u001b[0m\u001b[0mx\u001b[0m\u001b[0;34m)\u001b[0m\u001b[0;34m\u001b[0m\u001b[0;34m\u001b[0m\u001b[0m\n\u001b[0m",
            "\u001b[0;31mNameError\u001b[0m: name 'x' is not defined"
          ]
        }
      ]
    },
    {
      "cell_type": "markdown",
      "metadata": {
        "id": "a4ygLBWPZTqY",
        "colab_type": "text"
      },
      "source": [
        "2. 文字列と整数を算術しようとしたら、どうなりますか？\n"
      ]
    },
    {
      "cell_type": "code",
      "metadata": {
        "id": "f9hYDpDsZe2W",
        "colab_type": "code",
        "outputId": "8991f40b-1b28-4b03-94de-a96f210b5978",
        "colab": {
          "base_uri": "https://localhost:8080/",
          "height": 161
        }
      },
      "source": [
        "1 + 'abc'"
      ],
      "execution_count": 0,
      "outputs": [
        {
          "output_type": "error",
          "ename": "TypeError",
          "evalue": "ignored",
          "traceback": [
            "\u001b[0;31m---------------------------------------------------------------------------\u001b[0m",
            "\u001b[0;31mTypeError\u001b[0m                                 Traceback (most recent call last)",
            "\u001b[0;32m<ipython-input-25-a51a3635a212>\u001b[0m in \u001b[0;36m<module>\u001b[0;34m()\u001b[0m\n\u001b[0;32m----> 1\u001b[0;31m \u001b[0;36m1\u001b[0m \u001b[0;34m+\u001b[0m \u001b[0;34m'abc'\u001b[0m\u001b[0;34m\u001b[0m\u001b[0;34m\u001b[0m\u001b[0m\n\u001b[0m",
            "\u001b[0;31mTypeError\u001b[0m: unsupported operand type(s) for +: 'int' and 'str'"
          ]
        }
      ]
    },
    {
      "cell_type": "markdown",
      "metadata": {
        "id": "Htv4yeciZqeS",
        "colab_type": "text"
      },
      "source": [
        "3. 存在しないリストのインデックスをアクセスしようとしたら、どうなりますか？"
      ]
    },
    {
      "cell_type": "code",
      "metadata": {
        "id": "gikc5c0nZzeb",
        "colab_type": "code",
        "outputId": "af4166fd-b1eb-4e9e-8273-63abe522b4f8",
        "colab": {
          "base_uri": "https://localhost:8080/",
          "height": 178
        }
      },
      "source": [
        "L = [\"a\", \"b\", \"c\"]\n",
        "L[1000]"
      ],
      "execution_count": 0,
      "outputs": [
        {
          "output_type": "error",
          "ename": "IndexError",
          "evalue": "ignored",
          "traceback": [
            "\u001b[0;31m---------------------------------------------------------------------------\u001b[0m",
            "\u001b[0;31mIndexError\u001b[0m                                Traceback (most recent call last)",
            "\u001b[0;32m<ipython-input-26-1215128e92f1>\u001b[0m in \u001b[0;36m<module>\u001b[0;34m()\u001b[0m\n\u001b[1;32m      1\u001b[0m \u001b[0mL\u001b[0m \u001b[0;34m=\u001b[0m \u001b[0;34m[\u001b[0m\u001b[0;34m\"a\"\u001b[0m\u001b[0;34m,\u001b[0m \u001b[0;34m\"b\"\u001b[0m\u001b[0;34m,\u001b[0m \u001b[0;34m\"c\"\u001b[0m\u001b[0;34m]\u001b[0m\u001b[0;34m\u001b[0m\u001b[0;34m\u001b[0m\u001b[0m\n\u001b[0;32m----> 2\u001b[0;31m \u001b[0mL\u001b[0m\u001b[0;34m[\u001b[0m\u001b[0;36m1000\u001b[0m\u001b[0;34m]\u001b[0m\u001b[0;34m\u001b[0m\u001b[0;34m\u001b[0m\u001b[0m\n\u001b[0m",
            "\u001b[0;31mIndexError\u001b[0m: list index out of range"
          ]
        }
      ]
    },
    {
      "cell_type": "code",
      "metadata": {
        "id": "7g7eN9HqZ42T",
        "colab_type": "code",
        "outputId": "46c81502-10d4-41f1-c4da-25e260ecdd79",
        "colab": {
          "base_uri": "https://localhost:8080/",
          "height": 178
        }
      },
      "source": [
        "L = [\"a\", \"b\", \"c\"]\n",
        "L[\"d\"]"
      ],
      "execution_count": 0,
      "outputs": [
        {
          "output_type": "error",
          "ename": "TypeError",
          "evalue": "ignored",
          "traceback": [
            "\u001b[0;31m---------------------------------------------------------------------------\u001b[0m",
            "\u001b[0;31mTypeError\u001b[0m                                 Traceback (most recent call last)",
            "\u001b[0;32m<ipython-input-27-9f4cc10174e8>\u001b[0m in \u001b[0;36m<module>\u001b[0;34m()\u001b[0m\n\u001b[1;32m      1\u001b[0m \u001b[0mL\u001b[0m \u001b[0;34m=\u001b[0m \u001b[0;34m[\u001b[0m\u001b[0;34m\"a\"\u001b[0m\u001b[0;34m,\u001b[0m \u001b[0;34m\"b\"\u001b[0m\u001b[0;34m,\u001b[0m \u001b[0;34m\"c\"\u001b[0m\u001b[0;34m]\u001b[0m\u001b[0;34m\u001b[0m\u001b[0;34m\u001b[0m\u001b[0m\n\u001b[0;32m----> 2\u001b[0;31m \u001b[0mL\u001b[0m\u001b[0;34m[\u001b[0m\u001b[0;34m\"d\"\u001b[0m\u001b[0;34m]\u001b[0m\u001b[0;34m\u001b[0m\u001b[0;34m\u001b[0m\u001b[0m\n\u001b[0m",
            "\u001b[0;31mTypeError\u001b[0m: list indices must be integers or slices, not str"
          ]
        }
      ]
    },
    {
      "cell_type": "markdown",
      "metadata": {
        "id": "xA1ECEdHZ28L",
        "colab_type": "text"
      },
      "source": [
        "4. `try`と`except`の関数を使って、エラーを見つかりましょう。\n",
        "\n",
        "下記の文を実行してみてください。\n",
        "\n",
        "```\n",
        "try:\n",
        "    print(\"this gets executed first\")\n",
        "except:\n",
        "    print(\"this gets executed only if there is an error\")\n",
        "```\n",
        "\n"
      ]
    },
    {
      "cell_type": "code",
      "metadata": {
        "id": "sXcwqd8LaPqJ",
        "colab_type": "code",
        "outputId": "8c2415a7-6349-4f0a-b461-f3948c6cce35",
        "colab": {
          "base_uri": "https://localhost:8080/",
          "height": 33
        }
      },
      "source": [
        "try:\n",
        "    print(\"this gets executed first\")\n",
        "except:\n",
        "    print(\"this gets executed only if there is an error\")"
      ],
      "execution_count": 0,
      "outputs": [
        {
          "output_type": "stream",
          "text": [
            "this gets executed first\n"
          ],
          "name": "stdout"
        }
      ]
    },
    {
      "cell_type": "markdown",
      "metadata": {
        "id": "KQWJXqmkbpCz",
        "colab_type": "text"
      },
      "source": [
        "5. `x=1/0`を`try`のところに足してみたら？"
      ]
    },
    {
      "cell_type": "code",
      "metadata": {
        "id": "clO4CuwTbuJt",
        "colab_type": "code",
        "outputId": "a917b77c-a815-4ecd-b652-2f1cab75c9bb",
        "colab": {
          "base_uri": "https://localhost:8080/",
          "height": 50
        }
      },
      "source": [
        "try:\n",
        "    print(\"let's try something:\")\n",
        "    x = 1 / 0 # ZeroDivisionError\n",
        "except:\n",
        "    print(\"something bad happened!\")"
      ],
      "execution_count": 0,
      "outputs": [
        {
          "output_type": "stream",
          "text": [
            "let's try something:\n",
            "something bad happened!\n"
          ],
          "name": "stdout"
        }
      ]
    },
    {
      "cell_type": "markdown",
      "metadata": {
        "id": "QLXziXiAb0Qp",
        "colab_type": "text"
      },
      "source": [
        "6. 例外を`raise`しましょう。"
      ]
    },
    {
      "cell_type": "code",
      "metadata": {
        "id": "ZDH2yvxMb56P",
        "colab_type": "code",
        "outputId": "7acac87c-fe45-4532-ab92-18828da0a8e2",
        "colab": {
          "base_uri": "https://localhost:8080/",
          "height": 161
        }
      },
      "source": [
        "raise RuntimeError(\"my error message\")"
      ],
      "execution_count": 0,
      "outputs": [
        {
          "output_type": "error",
          "ename": "RuntimeError",
          "evalue": "ignored",
          "traceback": [
            "\u001b[0;31m---------------------------------------------------------------------------\u001b[0m",
            "\u001b[0;31mRuntimeError\u001b[0m                              Traceback (most recent call last)",
            "\u001b[0;32m<ipython-input-31-b1834d213d3b>\u001b[0m in \u001b[0;36m<module>\u001b[0;34m()\u001b[0m\n\u001b[0;32m----> 1\u001b[0;31m \u001b[0;32mraise\u001b[0m \u001b[0mRuntimeError\u001b[0m\u001b[0;34m(\u001b[0m\u001b[0;34m\"my error message\"\u001b[0m\u001b[0;34m)\u001b[0m\u001b[0;34m\u001b[0m\u001b[0;34m\u001b[0m\u001b[0m\n\u001b[0m",
            "\u001b[0;31mRuntimeError\u001b[0m: my error message"
          ]
        }
      ]
    },
    {
      "cell_type": "markdown",
      "metadata": {
        "id": "VbbSLgzSb8ue",
        "colab_type": "text"
      },
      "source": [
        "7. `x=10`とすると、`x`は5以上の場合、例外を`raise`してください。"
      ]
    },
    {
      "cell_type": "code",
      "metadata": {
        "id": "DtuqWftzcI0H",
        "colab_type": "code",
        "outputId": "7968ac01-118d-46fc-de83-2331b9463cdd",
        "colab": {
          "base_uri": "https://localhost:8080/",
          "height": 215
        }
      },
      "source": [
        "x = 10\n",
        "if x > 5:\n",
        "    raise Exception('x should not exceed 5. The value of x was {}'. format(x))"
      ],
      "execution_count": 0,
      "outputs": [
        {
          "output_type": "error",
          "ename": "Exception",
          "evalue": "ignored",
          "traceback": [
            "\u001b[0;31m---------------------------------------------------------------------------\u001b[0m",
            "\u001b[0;31mException\u001b[0m                                 Traceback (most recent call last)",
            "\u001b[0;32m<ipython-input-30-8ee050b9fe82>\u001b[0m in \u001b[0;36m<module>\u001b[0;34m()\u001b[0m\n\u001b[1;32m      1\u001b[0m \u001b[0mx\u001b[0m \u001b[0;34m=\u001b[0m \u001b[0;36m10\u001b[0m\u001b[0;34m\u001b[0m\u001b[0;34m\u001b[0m\u001b[0m\n\u001b[1;32m      2\u001b[0m \u001b[0;32mif\u001b[0m \u001b[0mx\u001b[0m \u001b[0;34m>\u001b[0m \u001b[0;36m5\u001b[0m\u001b[0;34m:\u001b[0m\u001b[0;34m\u001b[0m\u001b[0;34m\u001b[0m\u001b[0m\n\u001b[0;32m----> 3\u001b[0;31m     \u001b[0;32mraise\u001b[0m \u001b[0mException\u001b[0m\u001b[0;34m(\u001b[0m\u001b[0;34m'x should not exceed 5. The value of x was {}'\u001b[0m\u001b[0;34m.\u001b[0m \u001b[0mformat\u001b[0m\u001b[0;34m(\u001b[0m\u001b[0mx\u001b[0m\u001b[0;34m)\u001b[0m\u001b[0;34m)\u001b[0m\u001b[0;34m\u001b[0m\u001b[0;34m\u001b[0m\u001b[0m\n\u001b[0m",
            "\u001b[0;31mException\u001b[0m: x should not exceed 5. The value of x was 10"
          ]
        }
      ]
    },
    {
      "cell_type": "markdown",
      "metadata": {
        "id": "_bJBvSwTcluS",
        "colab_type": "text"
      },
      "source": [
        "8. `try`と`except`の他に、`else`と`finally`は例外を実行させる。`finally`なら、どんなことがあっても、実行させる。\n"
      ]
    },
    {
      "cell_type": "code",
      "metadata": {
        "id": "nTVdOk5udBQC",
        "colab_type": "code",
        "outputId": "ca8467a9-f5c8-4123-f88f-2356be4cb63d",
        "colab": {
          "base_uri": "https://localhost:8080/",
          "height": 67
        }
      },
      "source": [
        "try:\n",
        "    print(\"try something here\")\n",
        "except:\n",
        "    print(\"this happens only if it fails\")\n",
        "else:\n",
        "    print(\"this happens only if it succeeds\")\n",
        "finally:\n",
        "    print(\"this happens no matter what\")"
      ],
      "execution_count": 0,
      "outputs": [
        {
          "output_type": "stream",
          "text": [
            "try something here\n",
            "this happens only if it succeeds\n",
            "this happens no matter what\n"
          ],
          "name": "stdout"
        }
      ]
    }
  ]
}