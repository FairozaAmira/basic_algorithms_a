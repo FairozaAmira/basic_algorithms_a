{
  "nbformat": 4,
  "nbformat_minor": 0,
  "metadata": {
    "kernelspec": {
      "display_name": "Python 3",
      "language": "python",
      "name": "python3"
    },
    "language_info": {
      "codemirror_mode": {
        "name": "ipython",
        "version": 3
      },
      "file_extension": ".py",
      "mimetype": "text/x-python",
      "name": "python",
      "nbconvert_exporter": "python",
      "pygments_lexer": "ipython3",
      "version": "3.7.3"
    },
    "colab": {
      "name": "Lecture04.ipynb",
      "provenance": [],
      "collapsed_sections": [],
      "include_colab_link": true
    }
  },
  "cells": [
    {
      "cell_type": "markdown",
      "metadata": {
        "id": "view-in-github",
        "colab_type": "text"
      },
      "source": [
        "<a href=\"https://colab.research.google.com/github/FairozaAmira/basic_algorithms_a/blob/master/Lecture04.ipynb\" target=\"_parent\"><img src=\"https://colab.research.google.com/assets/colab-badge.svg\" alt=\"Open In Colab\"/></a>"
      ]
    },
    {
      "cell_type": "markdown",
      "metadata": {
        "id": "T6UuzVPzv4p5",
        "colab_type": "text"
      },
      "source": [
        "# 変数\n",
        "\n",
        "**変数を導入する**\n",
        "\n",
        "1. `2`を`x`の変数に導入する"
      ]
    },
    {
      "cell_type": "code",
      "metadata": {
        "id": "S8m3_u7kv4p9",
        "colab_type": "code",
        "outputId": "dc87de83-d6a3-4abb-8061-2020c022c724",
        "colab": {
          "base_uri": "https://localhost:8080/",
          "height": 35
        }
      },
      "source": [
        "x = 2\n",
        "print(x)"
      ],
      "execution_count": 0,
      "outputs": [
        {
          "output_type": "stream",
          "text": [
            "2\n"
          ],
          "name": "stdout"
        }
      ]
    },
    {
      "cell_type": "markdown",
      "metadata": {
        "id": "QjHGCYHxv4qD",
        "colab_type": "text"
      },
      "source": [
        "2. 整数、文字列とリストを変数`x`に導入する"
      ]
    },
    {
      "cell_type": "code",
      "metadata": {
        "id": "CyaD2kgPv4qE",
        "colab_type": "code",
        "outputId": "316f868d-11b7-49d3-843c-35051432818e",
        "colab": {
          "base_uri": "https://localhost:8080/",
          "height": 71
        }
      },
      "source": [
        "x = 1   #ｘは整数\n",
        "print(x)\n",
        "x = \"hello\"  #xは文字列\n",
        "print(x)\n",
        "x = [1, 2, 3] #xは1,2,3のリスト\n",
        "print(x)"
      ],
      "execution_count": 0,
      "outputs": [
        {
          "output_type": "stream",
          "text": [
            "1\n",
            "hello\n",
            "[1, 2, 3]\n"
          ],
          "name": "stdout"
        }
      ]
    },
    {
      "cell_type": "markdown",
      "metadata": {
        "id": "xhc6xgnXv4qG",
        "colab_type": "text"
      },
      "source": [
        "3. `y`を`x`に導入する"
      ]
    },
    {
      "cell_type": "code",
      "metadata": {
        "id": "WNZp8nbDv4qH",
        "colab_type": "code",
        "outputId": "e8f5e396-2277-4fe2-b0f6-3dd92e0a608f",
        "colab": {
          "base_uri": "https://localhost:8080/",
          "height": 35
        }
      },
      "source": [
        "y = x\n",
        "print(y)"
      ],
      "execution_count": 0,
      "outputs": [
        {
          "output_type": "stream",
          "text": [
            "[1, 2, 3]\n"
          ],
          "name": "stdout"
        }
      ]
    },
    {
      "cell_type": "markdown",
      "metadata": {
        "id": "6Q--BLU1v4qK",
        "colab_type": "text"
      },
      "source": [
        "4. `append()`を使って、`x`の変数に`4`を追加する"
      ]
    },
    {
      "cell_type": "code",
      "metadata": {
        "id": "B4Uv0R3wv4qK",
        "colab_type": "code",
        "outputId": "c0859c29-af66-4499-9cdc-9e39ebd66806",
        "colab": {
          "base_uri": "https://localhost:8080/",
          "height": 35
        }
      },
      "source": [
        "x.append(4)\n",
        "print(y)"
      ],
      "execution_count": 0,
      "outputs": [
        {
          "output_type": "stream",
          "text": [
            "[1, 2, 3, 4]\n"
          ],
          "name": "stdout"
        }
      ]
    },
    {
      "cell_type": "markdown",
      "metadata": {
        "id": "PDPcLCEFv4qM",
        "colab_type": "text"
      },
      "source": [
        "5. `x`に他のものに導入し、`y`を出力してみる"
      ]
    },
    {
      "cell_type": "code",
      "metadata": {
        "id": "bamfbFlNv4qN",
        "colab_type": "code",
        "outputId": "0133a578-0ce8-4285-d4ac-6d7221c9af0c",
        "colab": {
          "base_uri": "https://localhost:8080/",
          "height": 35
        }
      },
      "source": [
        "x = \"something else\"\n",
        "print(y)"
      ],
      "execution_count": 0,
      "outputs": [
        {
          "output_type": "stream",
          "text": [
            "[1, 2, 3, 4]\n"
          ],
          "name": "stdout"
        }
      ]
    },
    {
      "cell_type": "markdown",
      "metadata": {
        "id": "6G2AS-7zv4qP",
        "colab_type": "text"
      },
      "source": [
        "6. `4`を`x`に導入し、`type()`を使って、`x`の種類を見せてください。"
      ]
    },
    {
      "cell_type": "code",
      "metadata": {
        "id": "e7IZkEokv4qQ",
        "colab_type": "code",
        "outputId": "80e3f75b-9b61-4e7e-a25c-338d01fe9814",
        "colab": {
          "base_uri": "https://localhost:8080/",
          "height": 35
        }
      },
      "source": [
        "x = 4\n",
        "type(x)"
      ],
      "execution_count": 0,
      "outputs": [
        {
          "output_type": "execute_result",
          "data": {
            "text/plain": [
              "int"
            ]
          },
          "metadata": {
            "tags": []
          },
          "execution_count": 56
        }
      ]
    },
    {
      "cell_type": "markdown",
      "metadata": {
        "id": "-FHoiF54v4qS",
        "colab_type": "text"
      },
      "source": [
        "7. `hello`を`x`に導入し、`type()`を使って、`x`の種類を見せてください。"
      ]
    },
    {
      "cell_type": "code",
      "metadata": {
        "id": "sze7caNdv4qT",
        "colab_type": "code",
        "outputId": "f8f38976-9f14-41b0-fdd7-6cbbf72e41c7",
        "colab": {
          "base_uri": "https://localhost:8080/",
          "height": 35
        }
      },
      "source": [
        "x = \"hello\"\n",
        "type(x)"
      ],
      "execution_count": 0,
      "outputs": [
        {
          "output_type": "execute_result",
          "data": {
            "text/plain": [
              "str"
            ]
          },
          "metadata": {
            "tags": []
          },
          "execution_count": 57
        }
      ]
    },
    {
      "cell_type": "markdown",
      "metadata": {
        "id": "GcO9PBmdv4qV",
        "colab_type": "text"
      },
      "source": [
        "8. `3.14159`を`x`に導入し、`type()`を使って、`x`の種類を見せてください。"
      ]
    },
    {
      "cell_type": "code",
      "metadata": {
        "id": "N7Ap1zSZv4qV",
        "colab_type": "code",
        "outputId": "3e5042c0-de0d-41e6-9f9f-2e708503b345",
        "colab": {
          "base_uri": "https://localhost:8080/",
          "height": 35
        }
      },
      "source": [
        "x = 3.14159\n",
        "type(x)"
      ],
      "execution_count": 0,
      "outputs": [
        {
          "output_type": "execute_result",
          "data": {
            "text/plain": [
              "float"
            ]
          },
          "metadata": {
            "tags": []
          },
          "execution_count": 58
        }
      ]
    },
    {
      "cell_type": "markdown",
      "metadata": {
        "id": "wU4zu934v4qY",
        "colab_type": "text"
      },
      "source": [
        "# 算術演算"
      ]
    },
    {
      "cell_type": "markdown",
      "metadata": {
        "id": "PMvp-yR7v4qa",
        "colab_type": "text"
      },
      "source": [
        "1. $(5+2) \\times (12 \\div 4)$ を計算して、出力してください。"
      ]
    },
    {
      "cell_type": "code",
      "metadata": {
        "id": "DzuVRAnPv4qc",
        "colab_type": "code",
        "outputId": "2cb15012-4409-45ec-f2f8-ed39a9648052",
        "colab": {
          "base_uri": "https://localhost:8080/",
          "height": 35
        }
      },
      "source": [
        "(5 + 2) * (12 / 4)"
      ],
      "execution_count": 0,
      "outputs": [
        {
          "output_type": "execute_result",
          "data": {
            "text/plain": [
              "21.0"
            ]
          },
          "metadata": {
            "tags": []
          },
          "execution_count": 59
        }
      ]
    },
    {
      "cell_type": "markdown",
      "metadata": {
        "id": "mL27jt8Yv4qf",
        "colab_type": "text"
      },
      "source": [
        "2. 以下の出力は何ですか？\n",
        "\n",
        "a. `print (11 /3)` \n",
        "\n",
        "b. `print (11//3)`"
      ]
    },
    {
      "cell_type": "code",
      "metadata": {
        "id": "gPX5px3Gv4qg",
        "colab_type": "code",
        "outputId": "251992f1-743e-4239-91f2-7538ed237724",
        "colab": {
          "base_uri": "https://localhost:8080/",
          "height": 35
        }
      },
      "source": [
        "print(11/3)"
      ],
      "execution_count": 0,
      "outputs": [
        {
          "output_type": "stream",
          "text": [
            "3.6666666666666665\n"
          ],
          "name": "stdout"
        }
      ]
    },
    {
      "cell_type": "code",
      "metadata": {
        "id": "sJpzS4aEv4qj",
        "colab_type": "code",
        "outputId": "f2dbb5ac-e764-49ab-938f-5478f3c3a759",
        "colab": {
          "base_uri": "https://localhost:8080/",
          "height": 35
        }
      },
      "source": [
        "print(11//3)"
      ],
      "execution_count": 0,
      "outputs": [
        {
          "output_type": "stream",
          "text": [
            "3\n"
          ],
          "name": "stdout"
        }
      ]
    },
    {
      "cell_type": "markdown",
      "metadata": {
        "id": "uhBEFlRlv4ql",
        "colab_type": "text"
      },
      "source": [
        "3. $2^5$を計算してください"
      ]
    },
    {
      "cell_type": "code",
      "metadata": {
        "id": "mS0WeWLhv4qm",
        "colab_type": "code",
        "outputId": "5f6c85f0-89b9-43f5-b7d6-27c37bc737bf",
        "colab": {
          "base_uri": "https://localhost:8080/",
          "height": 35
        }
      },
      "source": [
        "2**5"
      ],
      "execution_count": 0,
      "outputs": [
        {
          "output_type": "execute_result",
          "data": {
            "text/plain": [
              "32"
            ]
          },
          "metadata": {
            "tags": []
          },
          "execution_count": 62
        }
      ]
    },
    {
      "cell_type": "markdown",
      "metadata": {
        "id": "9KLzGHrjv4qo",
        "colab_type": "text"
      },
      "source": [
        "# ビット算術"
      ]
    },
    {
      "cell_type": "markdown",
      "metadata": {
        "id": "9EGCtcbpv4qp",
        "colab_type": "text"
      },
      "source": [
        "1. 12の2進数を計算してください。"
      ]
    },
    {
      "cell_type": "code",
      "metadata": {
        "id": "AQabN9Btv4qq",
        "colab_type": "code",
        "outputId": "88f5a5ca-73cd-49e0-fc6f-1ba82f4bfc9c",
        "colab": {
          "base_uri": "https://localhost:8080/",
          "height": 35
        }
      },
      "source": [
        "bin(12)"
      ],
      "execution_count": 0,
      "outputs": [
        {
          "output_type": "execute_result",
          "data": {
            "text/plain": [
              "'0b1100'"
            ]
          },
          "metadata": {
            "tags": []
          },
          "execution_count": 63
        }
      ]
    },
    {
      "cell_type": "markdown",
      "metadata": {
        "id": "HIpAii_Wv4qs",
        "colab_type": "text"
      },
      "source": [
        "2. `4`の2進数を計算してください"
      ]
    },
    {
      "cell_type": "code",
      "metadata": {
        "id": "KiNBkpGSv4qt",
        "colab_type": "code",
        "outputId": "a93940a5-62d2-4d02-8feb-1ef48ba8be8d",
        "colab": {
          "base_uri": "https://localhost:8080/",
          "height": 35
        }
      },
      "source": [
        "bin(4)"
      ],
      "execution_count": 0,
      "outputs": [
        {
          "output_type": "execute_result",
          "data": {
            "text/plain": [
              "'0b100'"
            ]
          },
          "metadata": {
            "tags": []
          },
          "execution_count": 64
        }
      ]
    },
    {
      "cell_type": "markdown",
      "metadata": {
        "id": "pwWe_Toqv4qw",
        "colab_type": "text"
      },
      "source": [
        "3. 12と４のOR演算を計算し、その2進数も計算してください。"
      ]
    },
    {
      "cell_type": "code",
      "metadata": {
        "id": "R8hTCID0v4qx",
        "colab_type": "code",
        "outputId": "a30dec99-19e5-4f9a-beb9-8b6d599020d8",
        "colab": {
          "base_uri": "https://localhost:8080/",
          "height": 35
        }
      },
      "source": [
        "12 | 4"
      ],
      "execution_count": 0,
      "outputs": [
        {
          "output_type": "execute_result",
          "data": {
            "text/plain": [
              "12"
            ]
          },
          "metadata": {
            "tags": []
          },
          "execution_count": 65
        }
      ]
    },
    {
      "cell_type": "code",
      "metadata": {
        "id": "zpjcQULQv4qz",
        "colab_type": "code",
        "outputId": "ce3c2648-5437-44d9-f338-b924f44b35c1",
        "colab": {
          "base_uri": "https://localhost:8080/",
          "height": 35
        }
      },
      "source": [
        "bin (12|4)"
      ],
      "execution_count": 0,
      "outputs": [
        {
          "output_type": "execute_result",
          "data": {
            "text/plain": [
              "'0b1100'"
            ]
          },
          "metadata": {
            "tags": []
          },
          "execution_count": 66
        }
      ]
    },
    {
      "cell_type": "code",
      "metadata": {
        "id": "Xos8AU3bv4q3",
        "colab_type": "code",
        "outputId": "f03c5d26-0bf0-472b-8a4a-6fb5cb2a6c69",
        "colab": {
          "base_uri": "https://localhost:8080/",
          "height": 35
        }
      },
      "source": [
        "bin(1)"
      ],
      "execution_count": 0,
      "outputs": [
        {
          "output_type": "execute_result",
          "data": {
            "text/plain": [
              "'0b1'"
            ]
          },
          "metadata": {
            "tags": []
          },
          "execution_count": 67
        }
      ]
    },
    {
      "cell_type": "markdown",
      "metadata": {
        "id": "hSuHqKbLBlrO",
        "colab_type": "text"
      },
      "source": [
        "4. `a=5`, `b=67`とすると、`a`と`b`のビットAND、ビットOR,ビットXOR,`a<<b`, `a>>b`とビットNOTを計算しなさい。"
      ]
    },
    {
      "cell_type": "code",
      "metadata": {
        "id": "1GrS9UrbCNkG",
        "colab_type": "code",
        "outputId": "533b3f12-0fda-4030-de80-2fb8efe1b2e0",
        "colab": {
          "base_uri": "https://localhost:8080/",
          "height": 35
        }
      },
      "source": [
        "a = 5\n",
        "a_bin = bin(a)\n",
        "print(a)"
      ],
      "execution_count": 0,
      "outputs": [
        {
          "output_type": "stream",
          "text": [
            "5\n"
          ],
          "name": "stdout"
        }
      ]
    },
    {
      "cell_type": "code",
      "metadata": {
        "id": "ZHkVg4lkCTIN",
        "colab_type": "code",
        "outputId": "d247be86-5ae7-48f2-9cc1-eb429acb36df",
        "colab": {
          "base_uri": "https://localhost:8080/",
          "height": 35
        }
      },
      "source": [
        "b = 67\n",
        "b_bin = bin(b)\n",
        "print(b)"
      ],
      "execution_count": 0,
      "outputs": [
        {
          "output_type": "stream",
          "text": [
            "67\n"
          ],
          "name": "stdout"
        }
      ]
    },
    {
      "cell_type": "code",
      "metadata": {
        "id": "n0TaAoGACX04",
        "colab_type": "code",
        "outputId": "9bbff104-6936-4eed-b3cf-386a59725d86",
        "colab": {
          "base_uri": "https://localhost:8080/",
          "height": 35
        }
      },
      "source": [
        "print(a & b)"
      ],
      "execution_count": 0,
      "outputs": [
        {
          "output_type": "stream",
          "text": [
            "1\n"
          ],
          "name": "stdout"
        }
      ]
    },
    {
      "cell_type": "code",
      "metadata": {
        "id": "ym9h1Mb7CfeH",
        "colab_type": "code",
        "outputId": "aa27e241-81ee-4272-99d8-50a561226c00",
        "colab": {
          "base_uri": "https://localhost:8080/",
          "height": 35
        }
      },
      "source": [
        "print (a | b)"
      ],
      "execution_count": 0,
      "outputs": [
        {
          "output_type": "stream",
          "text": [
            "71\n"
          ],
          "name": "stdout"
        }
      ]
    },
    {
      "cell_type": "code",
      "metadata": {
        "id": "FcFioPhECjSc",
        "colab_type": "code",
        "outputId": "b26c0b0a-552d-4d5b-afcf-ab1362e2b59c",
        "colab": {
          "base_uri": "https://localhost:8080/",
          "height": 35
        }
      },
      "source": [
        "print( a << b)\n"
      ],
      "execution_count": 0,
      "outputs": [
        {
          "output_type": "stream",
          "text": [
            "737869762948382064640\n"
          ],
          "name": "stdout"
        }
      ]
    },
    {
      "cell_type": "code",
      "metadata": {
        "id": "_J0_qsTjDQkL",
        "colab_type": "code",
        "outputId": "82c0c3e7-09f5-44cd-a8a0-38727660df7b",
        "colab": {
          "base_uri": "https://localhost:8080/",
          "height": 35
        }
      },
      "source": [
        "print( a >> b)"
      ],
      "execution_count": 0,
      "outputs": [
        {
          "output_type": "stream",
          "text": [
            "0\n"
          ],
          "name": "stdout"
        }
      ]
    },
    {
      "cell_type": "code",
      "metadata": {
        "id": "hU48EK12DVh1",
        "colab_type": "code",
        "outputId": "230705e4-1152-4e2e-c216-5c2520e09c3b",
        "colab": {
          "base_uri": "https://localhost:8080/",
          "height": 35
        }
      },
      "source": [
        "print(~ a)"
      ],
      "execution_count": 0,
      "outputs": [
        {
          "output_type": "stream",
          "text": [
            "-6\n"
          ],
          "name": "stdout"
        }
      ]
    },
    {
      "cell_type": "code",
      "metadata": {
        "id": "CJr-Jvr3D2cy",
        "colab_type": "code",
        "outputId": "ebb55f7f-6757-49a8-d694-f7c456678666",
        "colab": {
          "base_uri": "https://localhost:8080/",
          "height": 35
        }
      },
      "source": [
        "print (~ b)"
      ],
      "execution_count": 0,
      "outputs": [
        {
          "output_type": "stream",
          "text": [
            "-68\n"
          ],
          "name": "stdout"
        }
      ]
    }
  ]
}