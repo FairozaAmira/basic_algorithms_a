{
  "nbformat": 4,
  "nbformat_minor": 0,
  "metadata": {
    "kernelspec": {
      "display_name": "Python 3",
      "language": "python",
      "name": "python3"
    },
    "language_info": {
      "codemirror_mode": {
        "name": "ipython",
        "version": 3
      },
      "file_extension": ".py",
      "mimetype": "text/x-python",
      "name": "python",
      "nbconvert_exporter": "python",
      "pygments_lexer": "ipython3",
      "version": "3.7.3"
    },
    "colab": {
      "name": "Lecture04.ipynb",
      "provenance": [],
      "collapsed_sections": [],
      "include_colab_link": true
    }
  },
  "cells": [
    {
      "cell_type": "markdown",
      "metadata": {
        "id": "view-in-github",
        "colab_type": "text"
      },
      "source": [
        "<a href=\"https://colab.research.google.com/github/FairozaAmira/basic_algorithms_a/blob/master/Lecture04.ipynb\" target=\"_parent\"><img src=\"https://colab.research.google.com/assets/colab-badge.svg\" alt=\"Open In Colab\"/></a>"
      ]
    },
    {
      "cell_type": "markdown",
      "metadata": {
        "id": "T6UuzVPzv4p5",
        "colab_type": "text"
      },
      "source": [
        "# 変数\n",
        "\n",
        "**変数を導入する**\n",
        "\n",
        "1. `2`を`x`の変数に導入する"
      ]
    },
    {
      "cell_type": "code",
      "metadata": {
        "id": "S8m3_u7kv4p9",
        "colab_type": "code",
        "outputId": "704a4026-8dd7-4a80-c7b9-eada75fc65d5",
        "colab": {
          "base_uri": "https://localhost:8080/",
          "height": 33
        }
      },
      "source": [
        "x = 2\n",
        "print(x)"
      ],
      "execution_count": 0,
      "outputs": [
        {
          "output_type": "stream",
          "text": [
            "2\n"
          ],
          "name": "stdout"
        }
      ]
    },
    {
      "cell_type": "markdown",
      "metadata": {
        "id": "QjHGCYHxv4qD",
        "colab_type": "text"
      },
      "source": [
        "2. 整数、文字列とリストを変数`x`に導入する"
      ]
    },
    {
      "cell_type": "code",
      "metadata": {
        "id": "CyaD2kgPv4qE",
        "colab_type": "code",
        "outputId": "c0824dc0-2139-4308-b888-756dfe8466e5",
        "colab": {
          "base_uri": "https://localhost:8080/",
          "height": 67
        }
      },
      "source": [
        "x = 1   #ｘは整数\n",
        "print(x)\n",
        "x = \"hello\"  #xは文字列\n",
        "print(x)\n",
        "x = [1, 2, 3] #xは1,2,3のリスト\n",
        "print(x)"
      ],
      "execution_count": 0,
      "outputs": [
        {
          "output_type": "stream",
          "text": [
            "1\n",
            "hello\n",
            "[1, 2, 3]\n"
          ],
          "name": "stdout"
        }
      ]
    },
    {
      "cell_type": "markdown",
      "metadata": {
        "id": "xhc6xgnXv4qG",
        "colab_type": "text"
      },
      "source": [
        "3. `y`を`x`に導入する"
      ]
    },
    {
      "cell_type": "code",
      "metadata": {
        "id": "WNZp8nbDv4qH",
        "colab_type": "code",
        "outputId": "db14c4bd-64c4-4150-8a2e-be1c80698065",
        "colab": {
          "base_uri": "https://localhost:8080/",
          "height": 33
        }
      },
      "source": [
        "y = x\n",
        "print(y)"
      ],
      "execution_count": 0,
      "outputs": [
        {
          "output_type": "stream",
          "text": [
            "[1, 2, 3]\n"
          ],
          "name": "stdout"
        }
      ]
    },
    {
      "cell_type": "markdown",
      "metadata": {
        "id": "6Q--BLU1v4qK",
        "colab_type": "text"
      },
      "source": [
        "4. `append()`を使って、`x`の変数に`4`を追加する"
      ]
    },
    {
      "cell_type": "code",
      "metadata": {
        "id": "B4Uv0R3wv4qK",
        "colab_type": "code",
        "outputId": "f0be023f-b1d3-47ed-8271-bee345a6376d",
        "colab": {
          "base_uri": "https://localhost:8080/",
          "height": 33
        }
      },
      "source": [
        "x.append(4)\n",
        "print(y)"
      ],
      "execution_count": 0,
      "outputs": [
        {
          "output_type": "stream",
          "text": [
            "[1, 2, 3, 4]\n"
          ],
          "name": "stdout"
        }
      ]
    },
    {
      "cell_type": "markdown",
      "metadata": {
        "id": "PDPcLCEFv4qM",
        "colab_type": "text"
      },
      "source": [
        "5. `x`に他のものに導入し、`y`を出力してみる"
      ]
    },
    {
      "cell_type": "code",
      "metadata": {
        "id": "bamfbFlNv4qN",
        "colab_type": "code",
        "outputId": "c93c3c55-91e9-4adf-fe82-9b6cc5751daa",
        "colab": {
          "base_uri": "https://localhost:8080/",
          "height": 33
        }
      },
      "source": [
        "x = \"something else\"\n",
        "print(y)"
      ],
      "execution_count": 0,
      "outputs": [
        {
          "output_type": "stream",
          "text": [
            "[1, 2, 3, 4]\n"
          ],
          "name": "stdout"
        }
      ]
    },
    {
      "cell_type": "markdown",
      "metadata": {
        "id": "6G2AS-7zv4qP",
        "colab_type": "text"
      },
      "source": [
        "6. `4`を`x`に導入し、`type()`を使って、`x`の種類を見せてください。"
      ]
    },
    {
      "cell_type": "code",
      "metadata": {
        "id": "e7IZkEokv4qQ",
        "colab_type": "code",
        "outputId": "561b6f05-9c4b-47eb-df33-680269722289",
        "colab": {
          "base_uri": "https://localhost:8080/",
          "height": 33
        }
      },
      "source": [
        "x = 4\n",
        "type(x)"
      ],
      "execution_count": 0,
      "outputs": [
        {
          "output_type": "execute_result",
          "data": {
            "text/plain": [
              "int"
            ]
          },
          "metadata": {
            "tags": []
          },
          "execution_count": 6
        }
      ]
    },
    {
      "cell_type": "markdown",
      "metadata": {
        "id": "-FHoiF54v4qS",
        "colab_type": "text"
      },
      "source": [
        "7. `hello`を`x`に導入し、`type()`を使って、`x`の種類を見せてください。"
      ]
    },
    {
      "cell_type": "code",
      "metadata": {
        "id": "sze7caNdv4qT",
        "colab_type": "code",
        "outputId": "4124a159-8e84-4bed-af87-c024482cf470",
        "colab": {
          "base_uri": "https://localhost:8080/",
          "height": 33
        }
      },
      "source": [
        "x = \"hello\"\n",
        "type(x)"
      ],
      "execution_count": 0,
      "outputs": [
        {
          "output_type": "execute_result",
          "data": {
            "text/plain": [
              "str"
            ]
          },
          "metadata": {
            "tags": []
          },
          "execution_count": 7
        }
      ]
    },
    {
      "cell_type": "markdown",
      "metadata": {
        "id": "GcO9PBmdv4qV",
        "colab_type": "text"
      },
      "source": [
        "8. `3.14159`を`x`に導入し、`type()`を使って、`x`の種類を見せてください。"
      ]
    },
    {
      "cell_type": "code",
      "metadata": {
        "id": "N7Ap1zSZv4qV",
        "colab_type": "code",
        "outputId": "3670a7b7-5913-4341-9430-50e8ab9cee1e",
        "colab": {
          "base_uri": "https://localhost:8080/",
          "height": 33
        }
      },
      "source": [
        "x = 3.14159\n",
        "type(x)"
      ],
      "execution_count": 0,
      "outputs": [
        {
          "output_type": "execute_result",
          "data": {
            "text/plain": [
              "float"
            ]
          },
          "metadata": {
            "tags": []
          },
          "execution_count": 8
        }
      ]
    },
    {
      "cell_type": "markdown",
      "metadata": {
        "id": "wU4zu934v4qY",
        "colab_type": "text"
      },
      "source": [
        "# 算術演算"
      ]
    },
    {
      "cell_type": "markdown",
      "metadata": {
        "id": "PMvp-yR7v4qa",
        "colab_type": "text"
      },
      "source": [
        "1. $(5+2) \\times (12 \\div 4)$ を計算して、出力してください。"
      ]
    },
    {
      "cell_type": "code",
      "metadata": {
        "id": "DzuVRAnPv4qc",
        "colab_type": "code",
        "outputId": "301dbcc1-0859-4ebb-bea6-88a6c4ce61ae",
        "colab": {
          "base_uri": "https://localhost:8080/",
          "height": 33
        }
      },
      "source": [
        "(5 + 2) * (12 / 4)"
      ],
      "execution_count": 0,
      "outputs": [
        {
          "output_type": "execute_result",
          "data": {
            "text/plain": [
              "21.0"
            ]
          },
          "metadata": {
            "tags": []
          },
          "execution_count": 9
        }
      ]
    },
    {
      "cell_type": "markdown",
      "metadata": {
        "id": "mL27jt8Yv4qf",
        "colab_type": "text"
      },
      "source": [
        "2. 以下の出力は何ですか？\n",
        "\n",
        "a. `print (11 /3)` \n",
        "\n",
        "b. `print (11//3)`"
      ]
    },
    {
      "cell_type": "code",
      "metadata": {
        "id": "gPX5px3Gv4qg",
        "colab_type": "code",
        "outputId": "e7498c39-c739-483b-df69-63166f56a4db",
        "colab": {
          "base_uri": "https://localhost:8080/",
          "height": 33
        }
      },
      "source": [
        "print(11/3)"
      ],
      "execution_count": 0,
      "outputs": [
        {
          "output_type": "stream",
          "text": [
            "3.6666666666666665\n"
          ],
          "name": "stdout"
        }
      ]
    },
    {
      "cell_type": "code",
      "metadata": {
        "id": "sJpzS4aEv4qj",
        "colab_type": "code",
        "outputId": "d5f4935b-62c5-4383-fde0-e52e7c412b43",
        "colab": {
          "base_uri": "https://localhost:8080/",
          "height": 33
        }
      },
      "source": [
        "print(11//3)"
      ],
      "execution_count": 0,
      "outputs": [
        {
          "output_type": "stream",
          "text": [
            "3\n"
          ],
          "name": "stdout"
        }
      ]
    },
    {
      "cell_type": "markdown",
      "metadata": {
        "id": "uhBEFlRlv4ql",
        "colab_type": "text"
      },
      "source": [
        "3. $2^5$を計算してください"
      ]
    },
    {
      "cell_type": "code",
      "metadata": {
        "id": "mS0WeWLhv4qm",
        "colab_type": "code",
        "outputId": "cc3f68b2-3fa8-4e67-bb1a-8c04fd0096a8",
        "colab": {
          "base_uri": "https://localhost:8080/",
          "height": 33
        }
      },
      "source": [
        "2**5"
      ],
      "execution_count": 0,
      "outputs": [
        {
          "output_type": "execute_result",
          "data": {
            "text/plain": [
              "32"
            ]
          },
          "metadata": {
            "tags": []
          },
          "execution_count": 12
        }
      ]
    },
    {
      "cell_type": "markdown",
      "metadata": {
        "id": "9KLzGHrjv4qo",
        "colab_type": "text"
      },
      "source": [
        "# ビット算術"
      ]
    },
    {
      "cell_type": "markdown",
      "metadata": {
        "id": "9EGCtcbpv4qp",
        "colab_type": "text"
      },
      "source": [
        "1. 12の2進数を計算してください。"
      ]
    },
    {
      "cell_type": "code",
      "metadata": {
        "id": "AQabN9Btv4qq",
        "colab_type": "code",
        "outputId": "85a70cc5-9152-4a1d-c277-417b464a05d8",
        "colab": {
          "base_uri": "https://localhost:8080/",
          "height": 33
        }
      },
      "source": [
        "bin(12)"
      ],
      "execution_count": 0,
      "outputs": [
        {
          "output_type": "execute_result",
          "data": {
            "text/plain": [
              "'0b1100'"
            ]
          },
          "metadata": {
            "tags": []
          },
          "execution_count": 13
        }
      ]
    },
    {
      "cell_type": "markdown",
      "metadata": {
        "id": "HIpAii_Wv4qs",
        "colab_type": "text"
      },
      "source": [
        "2. `4`の2進数を計算してください"
      ]
    },
    {
      "cell_type": "code",
      "metadata": {
        "id": "KiNBkpGSv4qt",
        "colab_type": "code",
        "outputId": "73bfc626-8b75-48db-a2ad-3e49e91e617d",
        "colab": {
          "base_uri": "https://localhost:8080/",
          "height": 33
        }
      },
      "source": [
        "bin(4)"
      ],
      "execution_count": 0,
      "outputs": [
        {
          "output_type": "execute_result",
          "data": {
            "text/plain": [
              "'0b100'"
            ]
          },
          "metadata": {
            "tags": []
          },
          "execution_count": 14
        }
      ]
    },
    {
      "cell_type": "markdown",
      "metadata": {
        "id": "pwWe_Toqv4qw",
        "colab_type": "text"
      },
      "source": [
        "3. 12と４のOR演算を計算し、その2進数も計算してください。"
      ]
    },
    {
      "cell_type": "code",
      "metadata": {
        "id": "R8hTCID0v4qx",
        "colab_type": "code",
        "outputId": "32f04cb0-145f-466a-cb57-4416e75540dc",
        "colab": {
          "base_uri": "https://localhost:8080/",
          "height": 33
        }
      },
      "source": [
        "12 | 4"
      ],
      "execution_count": 0,
      "outputs": [
        {
          "output_type": "execute_result",
          "data": {
            "text/plain": [
              "12"
            ]
          },
          "metadata": {
            "tags": []
          },
          "execution_count": 15
        }
      ]
    },
    {
      "cell_type": "code",
      "metadata": {
        "id": "zpjcQULQv4qz",
        "colab_type": "code",
        "outputId": "e6ae6e22-2ef9-4a9a-b1fe-6a770d49d6ce",
        "colab": {
          "base_uri": "https://localhost:8080/",
          "height": 33
        }
      },
      "source": [
        "bin (12|4)"
      ],
      "execution_count": 0,
      "outputs": [
        {
          "output_type": "execute_result",
          "data": {
            "text/plain": [
              "'0b1100'"
            ]
          },
          "metadata": {
            "tags": []
          },
          "execution_count": 16
        }
      ]
    },
    {
      "cell_type": "code",
      "metadata": {
        "id": "Xos8AU3bv4q3",
        "colab_type": "code",
        "outputId": "a446f822-08db-4fb8-e394-7f09a66f90cd",
        "colab": {
          "base_uri": "https://localhost:8080/",
          "height": 33
        }
      },
      "source": [
        "bin(1)"
      ],
      "execution_count": 0,
      "outputs": [
        {
          "output_type": "execute_result",
          "data": {
            "text/plain": [
              "'0b1'"
            ]
          },
          "metadata": {
            "tags": []
          },
          "execution_count": 17
        }
      ]
    },
    {
      "cell_type": "markdown",
      "metadata": {
        "id": "hSuHqKbLBlrO",
        "colab_type": "text"
      },
      "source": [
        "4. `a=5`, `b=67`とすると、`a`と`b`のビットAND、ビットOR,ビットXOR,`a<<b`, `a>>b`とビットNOTを計算しなさい。"
      ]
    },
    {
      "cell_type": "code",
      "metadata": {
        "id": "1GrS9UrbCNkG",
        "colab_type": "code",
        "outputId": "daab4f12-05a8-4700-f185-627268cd8422",
        "colab": {
          "base_uri": "https://localhost:8080/",
          "height": 33
        }
      },
      "source": [
        "a = bin(5)\n",
        "print(a)"
      ],
      "execution_count": 0,
      "outputs": [
        {
          "output_type": "stream",
          "text": [
            "0b101\n"
          ],
          "name": "stdout"
        }
      ]
    },
    {
      "cell_type": "code",
      "metadata": {
        "id": "ZHkVg4lkCTIN",
        "colab_type": "code",
        "outputId": "cb348940-b892-4078-ff4c-f496bd8c7c5c",
        "colab": {
          "base_uri": "https://localhost:8080/",
          "height": 33
        }
      },
      "source": [
        "b = bin(67)\n",
        "print(b)"
      ],
      "execution_count": 0,
      "outputs": [
        {
          "output_type": "stream",
          "text": [
            "0b1000011\n"
          ],
          "name": "stdout"
        }
      ]
    },
    {
      "cell_type": "code",
      "metadata": {
        "id": "n0TaAoGACX04",
        "colab_type": "code",
        "outputId": "bc22446a-f161-4795-ef19-f9ff9ffa6c27",
        "colab": {
          "base_uri": "https://localhost:8080/",
          "height": 33
        }
      },
      "source": [
        "print(a and b)"
      ],
      "execution_count": 0,
      "outputs": [
        {
          "output_type": "stream",
          "text": [
            "0b1000011\n"
          ],
          "name": "stdout"
        }
      ]
    },
    {
      "cell_type": "code",
      "metadata": {
        "id": "ym9h1Mb7CfeH",
        "colab_type": "code",
        "outputId": "973dbaa5-3627-425a-d5d6-8971196312f9",
        "colab": {
          "base_uri": "https://localhost:8080/",
          "height": 33
        }
      },
      "source": [
        "print (a or b)"
      ],
      "execution_count": 0,
      "outputs": [
        {
          "output_type": "stream",
          "text": [
            "0b101\n"
          ],
          "name": "stdout"
        }
      ]
    },
    {
      "cell_type": "code",
      "metadata": {
        "id": "FcFioPhECjSc",
        "colab_type": "code",
        "outputId": "7f12481b-2fb5-48ed-d29f-66533629994c",
        "colab": {
          "base_uri": "https://localhost:8080/",
          "height": 33
        }
      },
      "source": [
        "print( 0b101 << 0b1000011)\n"
      ],
      "execution_count": 0,
      "outputs": [
        {
          "output_type": "stream",
          "text": [
            "737869762948382064640\n"
          ],
          "name": "stdout"
        }
      ]
    },
    {
      "cell_type": "code",
      "metadata": {
        "id": "_J0_qsTjDQkL",
        "colab_type": "code",
        "outputId": "f1664d9c-46e7-4123-91e0-0260208c7220",
        "colab": {
          "base_uri": "https://localhost:8080/",
          "height": 33
        }
      },
      "source": [
        "print( 0b101 >> 0b1000011)"
      ],
      "execution_count": 0,
      "outputs": [
        {
          "output_type": "stream",
          "text": [
            "0\n"
          ],
          "name": "stdout"
        }
      ]
    },
    {
      "cell_type": "code",
      "metadata": {
        "id": "hU48EK12DVh1",
        "colab_type": "code",
        "outputId": "6f14de5a-75e1-4b69-a698-09cfff9bf66b",
        "colab": {
          "base_uri": "https://localhost:8080/",
          "height": 33
        }
      },
      "source": [
        "print(~0b101)"
      ],
      "execution_count": 0,
      "outputs": [
        {
          "output_type": "stream",
          "text": [
            "-6\n"
          ],
          "name": "stdout"
        }
      ]
    },
    {
      "cell_type": "code",
      "metadata": {
        "id": "CJr-Jvr3D2cy",
        "colab_type": "code",
        "outputId": "0a684170-cd7b-4eb7-896e-2cea5f8e9bdc",
        "colab": {
          "base_uri": "https://localhost:8080/",
          "height": 33
        }
      },
      "source": [
        "print (~ 0b1000011)"
      ],
      "execution_count": 0,
      "outputs": [
        {
          "output_type": "stream",
          "text": [
            "-68\n"
          ],
          "name": "stdout"
        }
      ]
    }
  ]
}