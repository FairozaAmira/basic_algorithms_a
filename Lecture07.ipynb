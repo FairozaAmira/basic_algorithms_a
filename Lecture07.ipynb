{
  "nbformat": 4,
  "nbformat_minor": 0,
  "metadata": {
    "colab": {
      "name": "Lecture07_a.ipynb",
      "provenance": [],
      "collapsed_sections": [],
      "include_colab_link": true
    },
    "kernelspec": {
      "name": "python3",
      "display_name": "Python 3"
    }
  },
  "cells": [
    {
      "cell_type": "markdown",
      "metadata": {
        "id": "view-in-github",
        "colab_type": "text"
      },
      "source": [
        "<a href=\"https://colab.research.google.com/github/FairozaAmira/basic_algorithms_a/blob/master/Lecture07.ipynb\" target=\"_parent\"><img src=\"https://colab.research.google.com/assets/colab-badge.svg\" alt=\"Open In Colab\"/></a>"
      ]
    },
    {
      "cell_type": "markdown",
      "metadata": {
        "id": "9K7vXB1GTx8N",
        "colab_type": "text"
      },
      "source": [
        "#第７回目の講義中の練習問題解答\n",
        "\n",
        "## 集合\n",
        "\n",
        "1. `List_A`の変数を作り、`[1,1,2,5,5,5,8,8,9]`を`List_A`の中に入れてください。`List_B`の変数を作り、`[1,2,2,3,3,3,6,10]`を`List_B`の中に入れてください。"
      ]
    },
    {
      "cell_type": "code",
      "metadata": {
        "id": "uTXr_Rv-Tblv",
        "colab_type": "code",
        "outputId": "60a3ecb8-9e1d-4ef5-aee1-e32101c3ae56",
        "colab": {
          "base_uri": "https://localhost:8080/",
          "height": 50
        }
      },
      "source": [
        "List_A = [1,1,2,5,5,5,8,8,9]\n",
        "print(List_A)\n",
        "List_B = [1,2,2,3,3,3,6,10]\n",
        "print(List_B)"
      ],
      "execution_count": 0,
      "outputs": [
        {
          "output_type": "stream",
          "text": [
            "[1, 1, 2, 5, 5, 5, 8, 8, 9]\n",
            "[1, 2, 2, 3, 3, 3, 6, 10]\n"
          ],
          "name": "stdout"
        }
      ]
    },
    {
      "cell_type": "markdown",
      "metadata": {
        "id": "73zV7A-JWHjo",
        "colab_type": "text"
      },
      "source": [
        "2. `List_A`と`List_B`の集合を作りなさい。"
      ]
    },
    {
      "cell_type": "code",
      "metadata": {
        "id": "KDwQbKrnWPUg",
        "colab_type": "code",
        "outputId": "dcd1698e-3ede-4a53-face-96e3e2b4360f",
        "colab": {
          "base_uri": "https://localhost:8080/",
          "height": 50
        }
      },
      "source": [
        "List_A_set = set(List_A)\n",
        "print(List_A_set)\n",
        "List_B_set = set(List_B)\n",
        "print(List_B_set)"
      ],
      "execution_count": 0,
      "outputs": [
        {
          "output_type": "stream",
          "text": [
            "{1, 2, 5, 8, 9}\n",
            "{1, 2, 3, 6, 10}\n"
          ],
          "name": "stdout"
        }
      ]
    },
    {
      "cell_type": "markdown",
      "metadata": {
        "id": "sNjAgdP1Wcyt",
        "colab_type": "text"
      },
      "source": [
        "3. 集合の連結を探せ。"
      ]
    },
    {
      "cell_type": "code",
      "metadata": {
        "id": "_xzRcFvbWgNk",
        "colab_type": "code",
        "outputId": "7f65e079-a048-4ae2-a968-b6a563820ec0",
        "colab": {
          "base_uri": "https://localhost:8080/",
          "height": 33
        }
      },
      "source": [
        "List_A_set | List_B_set"
      ],
      "execution_count": 0,
      "outputs": [
        {
          "output_type": "execute_result",
          "data": {
            "text/plain": [
              "{1, 2, 3, 5, 6, 8, 9, 10}"
            ]
          },
          "metadata": {
            "tags": []
          },
          "execution_count": 3
        }
      ]
    },
    {
      "cell_type": "code",
      "metadata": {
        "id": "eADXQ7HiWlgT",
        "colab_type": "code",
        "outputId": "ae6abcd6-f965-4585-9c31-ec0e65a9a4b4",
        "colab": {
          "base_uri": "https://localhost:8080/",
          "height": 33
        }
      },
      "source": [
        "List_A_set.union(List_B_set)"
      ],
      "execution_count": 0,
      "outputs": [
        {
          "output_type": "execute_result",
          "data": {
            "text/plain": [
              "{1, 2, 3, 5, 6, 8, 9, 10}"
            ]
          },
          "metadata": {
            "tags": []
          },
          "execution_count": 4
        }
      ]
    },
    {
      "cell_type": "markdown",
      "metadata": {
        "id": "fi1CCwHJWkC8",
        "colab_type": "text"
      },
      "source": [
        "4. 集合の交差を探せ。"
      ]
    },
    {
      "cell_type": "code",
      "metadata": {
        "id": "CouecuaZWtmV",
        "colab_type": "code",
        "outputId": "ff991e6b-558b-4941-ab89-6a53b4c4711b",
        "colab": {
          "base_uri": "https://localhost:8080/",
          "height": 33
        }
      },
      "source": [
        " List_A_set & List_B_set"
      ],
      "execution_count": 0,
      "outputs": [
        {
          "output_type": "execute_result",
          "data": {
            "text/plain": [
              "{1, 2}"
            ]
          },
          "metadata": {
            "tags": []
          },
          "execution_count": 5
        }
      ]
    },
    {
      "cell_type": "code",
      "metadata": {
        "id": "XkWsogYhW2hz",
        "colab_type": "code",
        "outputId": "970144b6-9fcb-4414-fbc1-f1d1b610bda8",
        "colab": {
          "base_uri": "https://localhost:8080/",
          "height": 33
        }
      },
      "source": [
        "List_A_set.intersection(List_B_set)"
      ],
      "execution_count": 0,
      "outputs": [
        {
          "output_type": "execute_result",
          "data": {
            "text/plain": [
              "{1, 2}"
            ]
          },
          "metadata": {
            "tags": []
          },
          "execution_count": 6
        }
      ]
    },
    {
      "cell_type": "markdown",
      "metadata": {
        "id": "plIjuYA9W8fO",
        "colab_type": "text"
      },
      "source": [
        "5. `List_A`にはあるが、`List_B`にはない要素探せ。"
      ]
    },
    {
      "cell_type": "code",
      "metadata": {
        "id": "UK9mSOITXIJ8",
        "colab_type": "code",
        "outputId": "18e9bde9-8240-4fe5-890f-3ae34e8fdec1",
        "colab": {
          "base_uri": "https://localhost:8080/",
          "height": 33
        }
      },
      "source": [
        "List_A_set - List_B_set"
      ],
      "execution_count": 0,
      "outputs": [
        {
          "output_type": "execute_result",
          "data": {
            "text/plain": [
              "{5, 8, 9}"
            ]
          },
          "metadata": {
            "tags": []
          },
          "execution_count": 7
        }
      ]
    },
    {
      "cell_type": "code",
      "metadata": {
        "id": "Wle56fR5XMSh",
        "colab_type": "code",
        "outputId": "27a45097-021d-4642-91fe-616a77c8ecf9",
        "colab": {
          "base_uri": "https://localhost:8080/",
          "height": 33
        }
      },
      "source": [
        "List_A_set.difference(List_B_set)"
      ],
      "execution_count": 0,
      "outputs": [
        {
          "output_type": "execute_result",
          "data": {
            "text/plain": [
              "{5, 8, 9}"
            ]
          },
          "metadata": {
            "tags": []
          },
          "execution_count": 8
        }
      ]
    },
    {
      "cell_type": "markdown",
      "metadata": {
        "id": "U8ce39bcXREv",
        "colab_type": "text"
      },
      "source": [
        "6. `List_A`か`List_B`のどちらかにある要素を探せ。"
      ]
    },
    {
      "cell_type": "code",
      "metadata": {
        "id": "6p3QHYKcXbCo",
        "colab_type": "code",
        "outputId": "65bc823e-452e-42f6-a94d-bfdca8d3e484",
        "colab": {
          "base_uri": "https://localhost:8080/",
          "height": 33
        }
      },
      "source": [
        "List_A_set ^ List_B_set"
      ],
      "execution_count": 0,
      "outputs": [
        {
          "output_type": "execute_result",
          "data": {
            "text/plain": [
              "{3, 5, 6, 8, 9, 10}"
            ]
          },
          "metadata": {
            "tags": []
          },
          "execution_count": 9
        }
      ]
    },
    {
      "cell_type": "code",
      "metadata": {
        "id": "EqYMlTMVXfdp",
        "colab_type": "code",
        "outputId": "4e7be2a3-e5aa-45f3-8354-4036a61da3e6",
        "colab": {
          "base_uri": "https://localhost:8080/",
          "height": 33
        }
      },
      "source": [
        "List_A_set.symmetric_difference(List_B_set)"
      ],
      "execution_count": 0,
      "outputs": [
        {
          "output_type": "execute_result",
          "data": {
            "text/plain": [
              "{3, 5, 6, 8, 9, 10}"
            ]
          },
          "metadata": {
            "tags": []
          },
          "execution_count": 10
        }
      ]
    },
    {
      "cell_type": "markdown",
      "metadata": {
        "id": "-7DvSJutYCJn",
        "colab_type": "text"
      },
      "source": [
        "## 辞書(dict)\n",
        "\n",
        "1. 日本語のひらがなとその数字を1から10まで、ランダムにマップした辞書を作れ。例、`いち: 1`\n"
      ]
    },
    {
      "cell_type": "code",
      "metadata": {
        "id": "JTUXDDM_YdCT",
        "colab_type": "code",
        "outputId": "aa34b1f5-710d-42eb-e9b6-f81550ae3bc7",
        "colab": {
          "base_uri": "https://localhost:8080/",
          "height": 53
        }
      },
      "source": [
        "numbers = {'いち': 1, 'さん': 3, 'しち': 7, 'に': 2, 'よん': 4, 'はち': 8, 'じゅう': 10, 'ご': 5, 'ろく': 6, 'きゅう': 9}\n",
        "print(numbers)"
      ],
      "execution_count": 0,
      "outputs": [
        {
          "output_type": "stream",
          "text": [
            "{'いち': 1, 'さん': 3, 'しち': 7, 'に': 2, 'よん': 4, 'はち': 8, 'じゅう': 10, 'ご': 5, 'ろく': 6, 'きゅう': 9}\n"
          ],
          "name": "stdout"
        }
      ]
    },
    {
      "cell_type": "markdown",
      "metadata": {
        "id": "DCcGJQfQYorw",
        "colab_type": "text"
      },
      "source": [
        "2. `numbers`の第２のキーは何？"
      ]
    },
    {
      "cell_type": "code",
      "metadata": {
        "id": "O3aFcjtzZGwE",
        "colab_type": "code",
        "outputId": "c3fea37c-eccf-40c0-a8f2-82c16df36100",
        "colab": {
          "base_uri": "https://localhost:8080/",
          "height": 181
        }
      },
      "source": [
        "print(numbers[1] in numbers)"
      ],
      "execution_count": 0,
      "outputs": [
        {
          "output_type": "error",
          "ename": "KeyError",
          "evalue": "ignored",
          "traceback": [
            "\u001b[0;31m---------------------------------------------------------------------------\u001b[0m",
            "\u001b[0;31mKeyError\u001b[0m                                  Traceback (most recent call last)",
            "\u001b[0;32m<ipython-input-14-2eb30a7a2de2>\u001b[0m in \u001b[0;36m<module>\u001b[0;34m()\u001b[0m\n\u001b[0;32m----> 1\u001b[0;31m \u001b[0mprint\u001b[0m\u001b[0;34m(\u001b[0m\u001b[0mnumbers\u001b[0m\u001b[0;34m[\u001b[0m\u001b[0;36m1\u001b[0m\u001b[0;34m]\u001b[0m \u001b[0;32min\u001b[0m \u001b[0mnumbers\u001b[0m\u001b[0;34m)\u001b[0m\u001b[0;34m\u001b[0m\u001b[0;34m\u001b[0m\u001b[0m\n\u001b[0m",
            "\u001b[0;31mKeyError\u001b[0m: 1"
          ]
        }
      ]
    },
    {
      "cell_type": "markdown",
      "metadata": {
        "id": "eOmRVJcqZ9GC",
        "colab_type": "text"
      },
      "source": [
        "3. `numbers`の一意のキー長さを探せ。"
      ]
    },
    {
      "cell_type": "code",
      "metadata": {
        "id": "gozBTNsvaFe6",
        "colab_type": "code",
        "outputId": "a9478369-b466-46d1-d0e5-a4f95caf5dd1",
        "colab": {
          "base_uri": "https://localhost:8080/",
          "height": 33
        }
      },
      "source": [
        "num_keys = len(numbers)\n",
        "print(num_keys)"
      ],
      "execution_count": 0,
      "outputs": [
        {
          "output_type": "stream",
          "text": [
            "10\n"
          ],
          "name": "stdout"
        }
      ]
    },
    {
      "cell_type": "markdown",
      "metadata": {
        "id": "l9wropPNaJ_Z",
        "colab_type": "text"
      },
      "source": [
        "4. `十`は`numbers`のキーの中にあるかどうか確認してください。"
      ]
    },
    {
      "cell_type": "code",
      "metadata": {
        "id": "TcWjBtObZGrw",
        "colab_type": "code",
        "outputId": "504da9d1-ed8d-4585-8a9d-eef23a71095d",
        "colab": {
          "base_uri": "https://localhost:8080/",
          "height": 33
        }
      },
      "source": [
        "contains_ten_k = numbers.get('十')\n",
        "print (contains_ten_k)"
      ],
      "execution_count": 0,
      "outputs": [
        {
          "output_type": "stream",
          "text": [
            "None\n"
          ],
          "name": "stdout"
        }
      ]
    },
    {
      "cell_type": "code",
      "metadata": {
        "id": "b1rRDQGdashR",
        "colab_type": "code",
        "outputId": "50494eb0-7821-4ced-d390-e7b7d8ab431a",
        "colab": {
          "base_uri": "https://localhost:8080/",
          "height": 33
        }
      },
      "source": [
        "contains_ten_k = \"十\" in numbers\n",
        "print(contains_ten_k)"
      ],
      "execution_count": 0,
      "outputs": [
        {
          "output_type": "stream",
          "text": [
            "False\n"
          ],
          "name": "stdout"
        }
      ]
    },
    {
      "cell_type": "markdown",
      "metadata": {
        "id": "gZGdEwajaoo7",
        "colab_type": "text"
      },
      "source": [
        "5. `じゅういち：11`を新しいキーに入れてください。"
      ]
    },
    {
      "cell_type": "code",
      "metadata": {
        "id": "QPExQ2T-a-ht",
        "colab_type": "code",
        "outputId": "a2dc27a5-4286-4734-c5f1-b38a69a3522f",
        "colab": {
          "base_uri": "https://localhost:8080/",
          "height": 53
        }
      },
      "source": [
        "numbers['じゅういち'] = 11\n",
        "print(numbers)"
      ],
      "execution_count": 0,
      "outputs": [
        {
          "output_type": "stream",
          "text": [
            "{'いち': 1, 'さん': 3, 'しち': 7, 'に': 2, 'よん': 4, 'はち': 8, 'じゅう': 10, 'ご': 5, 'ろく': 6, 'きゅう': 9, 'じゅういち': 11}\n"
          ],
          "name": "stdout"
        }
      ]
    },
    {
      "cell_type": "markdown",
      "metadata": {
        "id": "EgFxcvwRbElG",
        "colab_type": "text"
      },
      "source": [
        "6. `numbers`のキーをソートしなさい。"
      ]
    },
    {
      "cell_type": "code",
      "metadata": {
        "id": "nPcJJQIqbPXF",
        "colab_type": "code",
        "outputId": "9ac518c5-7426-4465-8db2-826a95fbc56a",
        "colab": {
          "base_uri": "https://localhost:8080/",
          "height": 53
        }
      },
      "source": [
        "sorted_keys = sorted(numbers.keys())\n",
        "print(sorted_keys)"
      ],
      "execution_count": 0,
      "outputs": [
        {
          "output_type": "stream",
          "text": [
            "['いち', 'きゅう', 'ご', 'さん', 'しち', 'じゅう', 'じゅういち', 'に', 'はち', 'よん', 'ろく']\n"
          ],
          "name": "stdout"
        }
      ]
    },
    {
      "cell_type": "markdown",
      "metadata": {
        "id": "r-ewNKnpbWwR",
        "colab_type": "text"
      },
      "source": [
        "7. ソートしたキーから一番目の要素を探せ。"
      ]
    },
    {
      "cell_type": "code",
      "metadata": {
        "id": "-YbTYbp0bcpB",
        "colab_type": "code",
        "outputId": "b4e7b31c-72e2-4a41-f7e4-014c3d2065ad",
        "colab": {
          "base_uri": "https://localhost:8080/",
          "height": 33
        }
      },
      "source": [
        "print(sorted_keys[0])"
      ],
      "execution_count": 0,
      "outputs": [
        {
          "output_type": "stream",
          "text": [
            "いち\n"
          ],
          "name": "stdout"
        }
      ]
    },
    {
      "cell_type": "markdown",
      "metadata": {
        "id": "py5R95kabzYb",
        "colab_type": "text"
      },
      "source": [
        "8. ソートしたキーから最後のキーを探せ。"
      ]
    },
    {
      "cell_type": "code",
      "metadata": {
        "id": "1TdRvGHTb60l",
        "colab_type": "code",
        "outputId": "394693b9-17b6-411a-a004-fb5a4c865338",
        "colab": {
          "base_uri": "https://localhost:8080/",
          "height": 33
        }
      },
      "source": [
        "print(sorted_keys[-1])"
      ],
      "execution_count": 0,
      "outputs": [
        {
          "output_type": "stream",
          "text": [
            "ろく\n"
          ],
          "name": "stdout"
        }
      ]
    },
    {
      "cell_type": "markdown",
      "metadata": {
        "id": "mNl_cYWtb-YS",
        "colab_type": "text"
      },
      "source": [
        "9. 値をソートした新しい`numbers`のリストを作れ。"
      ]
    },
    {
      "cell_type": "code",
      "metadata": {
        "id": "5bTodJN9cKtN",
        "colab_type": "code",
        "outputId": "48904e97-1ac6-4229-a453-5471fc037686",
        "colab": {
          "base_uri": "https://localhost:8080/",
          "height": 33
        }
      },
      "source": [
        "sorted_values = sorted(numbers.values())\n",
        "print(sorted_values)"
      ],
      "execution_count": 0,
      "outputs": [
        {
          "output_type": "stream",
          "text": [
            "[1, 2, 3, 4, 5, 6, 7, 8, 9, 10, 11]\n"
          ],
          "name": "stdout"
        }
      ]
    },
    {
      "cell_type": "markdown",
      "metadata": {
        "id": "QmkPYMmkcZ3r",
        "colab_type": "text"
      },
      "source": [
        "10. ソートした値リストから一番目の要素を探せ。"
      ]
    },
    {
      "cell_type": "code",
      "metadata": {
        "id": "Uqn40GQjchXl",
        "colab_type": "code",
        "outputId": "29179296-2ceb-41d0-9830-fe16911dc044",
        "colab": {
          "base_uri": "https://localhost:8080/",
          "height": 33
        }
      },
      "source": [
        "print(sorted_values[0])"
      ],
      "execution_count": 0,
      "outputs": [
        {
          "output_type": "stream",
          "text": [
            "1\n"
          ],
          "name": "stdout"
        }
      ]
    },
    {
      "cell_type": "markdown",
      "metadata": {
        "id": "XkIqisEvckDH",
        "colab_type": "text"
      },
      "source": [
        "11. `きゅう`の値をアクセスせよ。"
      ]
    },
    {
      "cell_type": "code",
      "metadata": {
        "id": "BH_4KgL8cqGN",
        "colab_type": "code",
        "outputId": "07963c25-b898-4b66-fd78-e1700f84c470",
        "colab": {
          "base_uri": "https://localhost:8080/",
          "height": 33
        }
      },
      "source": [
        "numbers[\"きゅう\"]"
      ],
      "execution_count": 0,
      "outputs": [
        {
          "output_type": "execute_result",
          "data": {
            "text/plain": [
              "9"
            ]
          },
          "metadata": {
            "tags": []
          },
          "execution_count": 26
        }
      ]
    },
    {
      "cell_type": "markdown",
      "metadata": {
        "id": "vyR-KngbdmoO",
        "colab_type": "text"
      },
      "source": [
        "## 条件文\n",
        "\n",
        "1. 下記のフローチャートに基づき、条件文を書きなさい。\n",
        "![条件文](https://github.com/FairozaAmira/AI_course/blob/master/Lesson06/If.png?raw=true)\n"
      ]
    },
    {
      "cell_type": "code",
      "metadata": {
        "id": "mKd3GCPud-BO",
        "colab_type": "code",
        "outputId": "bd554eb2-b5da-41cf-f2ed-f9c3eb353302",
        "colab": {
          "base_uri": "https://localhost:8080/",
          "height": 67
        }
      },
      "source": [
        "print(\"please insert any numbers\")\n",
        "x = input()\n",
        "x = int(x)\n",
        "\n",
        "if x == 0:\n",
        "    print(x, \"is zero\")\n",
        "elif x > 0:\n",
        "    print(x, \"is positive\")\n",
        "elif x < 0:\n",
        "    print(x, \"is negative\")\n",
        "else:\n",
        "    print(x, \"is None\")"
      ],
      "execution_count": 0,
      "outputs": [
        {
          "output_type": "stream",
          "text": [
            "please insert any numbers\n",
            "4\n",
            "4 is positive\n"
          ],
          "name": "stdout"
        }
      ]
    },
    {
      "cell_type": "markdown",
      "metadata": {
        "id": "KkrA9BOnyJc0",
        "colab_type": "text"
      },
      "source": [
        "2. **税込み価格の計算**\n",
        "\n",
        "国によって消費税が違うため、消費税を含んだ売っているものの価格を計算しなさい。\n",
        "\n",
        "Japan - 10% <br/>\n",
        "Malaysia - 6% <br/>\n",
        "UK - 14% <br/>\n",
        "Europe - 20% <br/>\n",
        "USA - 5% \n",
        "\n",
        "二桁丸目した税込みの価格を表示しなさい。但し、売っている物の単価はUSD単位とする。`input()`を使って、ユーザーに入力させること。\n",
        "\n",
        "必要な変数：</br>\n",
        "`raw_price_of_good`</br>\n",
        "`country`\n",
        "\n",
        "\n"
      ]
    },
    {
      "cell_type": "code",
      "metadata": {
        "id": "h97hO4s40tUe",
        "colab_type": "code",
        "outputId": "1177d6c8-fe79-4418-ff9f-01f1161dbc73",
        "colab": {
          "base_uri": "https://localhost:8080/",
          "height": 100
        }
      },
      "source": [
        "print(\"Please put country name (Japan, Malaysia, UK, Europe, USA):\")\n",
        "country = input()\n",
        "print(\"Please put the raw price of each good:\")\n",
        "raw_price_of_good = input()\n",
        "raw_price_of_good = int(raw_price_of_good)\n",
        "\n",
        "if country == 'Japan':\n",
        "    tax_amount = 0.08\n",
        "    total_cost = raw_price_of_good * (1+tax_amount)\n",
        "    total_cost = round(total_cost, 2)\n",
        "    result = \"You need to pay {} because you are from {}\".format(total_cost, country)\n",
        "elif country == 'Malaysia':\n",
        "    tax_amount = 0.06\n",
        "    total_cost = raw_price_of_good * (1+tax_amount)\n",
        "    total_cost = round(total_cost, 2)\n",
        "    result = \"You need to pay {} because you are from {}\".format(total_cost, country)\n",
        "elif country == 'UK':\n",
        "    tax_amount = 0.14\n",
        "    total_cost = raw_price_of_good * (1+tax_amount)\n",
        "    total_cost = round(total_cost, 2)\n",
        "    result = \"You need to pay {} because you are from {}\".format(total_cost, country)\n",
        "elif country == 'USA':\n",
        "    tax_amount = 0.05\n",
        "    total_cost = raw_price_of_good * (1+tax_amount)\n",
        "    total_cost = round(total_cost, 2)\n",
        "    result = \"You need to pay {} because you are from {}\".format(total_cost, country)\n",
        "else:\n",
        "    tax_amount = 0.20\n",
        "    total_cost = raw_price_of_good * (1+tax_amount)\n",
        "    total_cost = round(total_cost, 2)\n",
        "    result = \"You need to pay {} because you are from {}\".format(total_cost, country)\n",
        "\n",
        "print(result)"
      ],
      "execution_count": 0,
      "outputs": [
        {
          "output_type": "stream",
          "text": [
            "Please put country name (Japan, Malaysia, UK, Europe, USA):\n",
            "USA\n",
            "Please put the raw price of each good:\n",
            "5\n",
            "You need to pay 5.25 because you are from USA\n"
          ],
          "name": "stdout"
        }
      ]
    }
  ]
}