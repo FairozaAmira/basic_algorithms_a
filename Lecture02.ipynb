{
  "nbformat": 4,
  "nbformat_minor": 0,
  "metadata": {
    "colab": {
      "name": "Lecture02.ipynb",
      "provenance": [],
      "collapsed_sections": []
    },
    "kernelspec": {
      "name": "python3",
      "display_name": "Python 3"
    }
  },
  "cells": [
    {
      "cell_type": "markdown",
      "metadata": {
        "id": "wWMSpsGAwbel",
        "colab_type": "text"
      },
      "source": [
        "# 初めてのノートブック\n",
        "\n",
        "**コードを書いてみましょう**"
      ]
    },
    {
      "cell_type": "code",
      "metadata": {
        "id": "wnHinBG8wHfs",
        "colab_type": "code",
        "outputId": "5603b4e8-b3ef-4935-d28a-fb9a7eeee8df",
        "colab": {
          "base_uri": "https://localhost:8080/",
          "height": 34
        }
      },
      "source": [
        "#計算する\n",
        "\n",
        "2*(3+4)"
      ],
      "execution_count": 0,
      "outputs": [
        {
          "output_type": "execute_result",
          "data": {
            "text/plain": [
              "14"
            ]
          },
          "metadata": {
            "tags": []
          },
          "execution_count": 1
        }
      ]
    },
    {
      "cell_type": "markdown",
      "metadata": {
        "id": "vxLIX8HJxBbb",
        "colab_type": "text"
      },
      "source": [
        "*出力してみましょう*\n",
        "\n",
        "\n",
        "```\n",
        "First value: 1\n",
        "```\n"
      ]
    },
    {
      "cell_type": "code",
      "metadata": {
        "id": "CuteHDBZxI03",
        "colab_type": "code",
        "outputId": "dd7582e4-af3c-4ed8-fa95-83057c984533",
        "colab": {
          "base_uri": "https://localhost:8080/",
          "height": 35
        }
      },
      "source": [
        "'''\n",
        "値を出力する\n",
        "\n",
        "'''\n",
        "print ('First value: ', 1)"
      ],
      "execution_count": 0,
      "outputs": [
        {
          "output_type": "stream",
          "text": [
            "First value:  1\n"
          ],
          "name": "stdout"
        }
      ]
    },
    {
      "cell_type": "markdown",
      "metadata": {
        "id": "5Q9z2eO5xsd_",
        "colab_type": "text"
      },
      "source": [
        "**`sort`の関数を呼び出す**\n",
        "\n",
        "\n",
        "1.   以下のリストを作る \n",
        "\n",
        "\n",
        "```\n",
        "Numbers = [4,3,2,1]\n",
        "```\n",
        "\n",
        "2.   `sort()` の関数を使って、リストをソートする。\n",
        "\n",
        "3.   `print`を使って、出力する。\n",
        "\n"
      ]
    },
    {
      "cell_type": "code",
      "metadata": {
        "id": "ha5AtBd9xzE4",
        "colab_type": "code",
        "outputId": "28533f50-2fad-447d-9c59-5d69cc391b8c",
        "colab": {
          "base_uri": "https://localhost:8080/",
          "height": 33
        }
      },
      "source": [
        "Numbers = [4,3,2,1]\n",
        "Numbers.sort()\n",
        "print(Numbers)"
      ],
      "execution_count": 0,
      "outputs": [
        {
          "output_type": "stream",
          "text": [
            "[1, 2, 3, 4]\n"
          ],
          "name": "stdout"
        }
      ]
    }
  ]
}