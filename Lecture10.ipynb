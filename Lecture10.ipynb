{
  "nbformat": 4,
  "nbformat_minor": 0,
  "metadata": {
    "colab": {
      "name": "Lecture10_a.ipynb",
      "provenance": [],
      "collapsed_sections": [],
      "include_colab_link": true
    },
    "kernelspec": {
      "name": "python3",
      "display_name": "Python 3"
    }
  },
  "cells": [
    {
      "cell_type": "markdown",
      "metadata": {
        "id": "view-in-github",
        "colab_type": "text"
      },
      "source": [
        "<a href=\"https://colab.research.google.com/github/FairozaAmira/basic_algorithms_a/blob/master/Lecture10.ipynb\" target=\"_parent\"><img src=\"https://colab.research.google.com/assets/colab-badge.svg\" alt=\"Open In Colab\"/></a>"
      ]
    },
    {
      "cell_type": "markdown",
      "metadata": {
        "id": "OWsHpW6e3moP",
        "colab_type": "text"
      },
      "source": [
        "# 第１０回目の授業中練習問題の解答例\n",
        "\n",
        "## イテレータ\n",
        "\n",
        "1. `range`を使って、1から10までを表示されたループを作りなさい。"
      ]
    },
    {
      "cell_type": "code",
      "metadata": {
        "id": "OUAkPnhi3SlE",
        "colab_type": "code",
        "outputId": "89ff5fd8-b042-4bbb-b49d-e7928cb0be69",
        "colab": {
          "base_uri": "https://localhost:8080/",
          "height": 184
        }
      },
      "source": [
        "for i in range (1,11):\n",
        "    print(i)"
      ],
      "execution_count": 0,
      "outputs": [
        {
          "output_type": "stream",
          "text": [
            "1\n",
            "2\n",
            "3\n",
            "4\n",
            "5\n",
            "6\n",
            "7\n",
            "8\n",
            "9\n",
            "10\n"
          ],
          "name": "stdout"
        }
      ]
    },
    {
      "cell_type": "markdown",
      "metadata": {
        "id": "wyrLspqY3_a1",
        "colab_type": "text"
      },
      "source": [
        "2. 下記のリストから一個ずつの数字が表示できるように、ループを作りなさい。\n",
        "\n",
        "`[1,2,3,4,5]`"
      ]
    },
    {
      "cell_type": "code",
      "metadata": {
        "id": "bSJUYOpc5JiS",
        "colab_type": "code",
        "outputId": "300cea38-5ba0-4c98-df09-83a1c4b4f0fc",
        "colab": {
          "base_uri": "https://localhost:8080/",
          "height": 100
        }
      },
      "source": [
        "for number in [1, 2, 3, 4, 5]:\n",
        "    print (number)"
      ],
      "execution_count": 0,
      "outputs": [
        {
          "output_type": "stream",
          "text": [
            "1\n",
            "2\n",
            "3\n",
            "4\n",
            "5\n"
          ],
          "name": "stdout"
        }
      ]
    },
    {
      "cell_type": "markdown",
      "metadata": {
        "id": "utbVnpu-5R-_",
        "colab_type": "text"
      },
      "source": [
        "3. `iter`と`next`関数を使って、２番目のリストの各数字を表示せよ。"
      ]
    },
    {
      "cell_type": "code",
      "metadata": {
        "id": "TKtuhDri5eoy",
        "colab_type": "code",
        "outputId": "854b434e-743e-44b9-8a2f-7a15b95950dd",
        "colab": {
          "base_uri": "https://localhost:8080/",
          "height": 100
        }
      },
      "source": [
        "I = iter([1,2,3,4,5])\n",
        "print(next(I))\n",
        "print(next(I))\n",
        "print(next(I))\n",
        "print(next(I))\n",
        "print(next(I))"
      ],
      "execution_count": 0,
      "outputs": [
        {
          "output_type": "stream",
          "text": [
            "1\n",
            "2\n",
            "3\n",
            "4\n",
            "5\n"
          ],
          "name": "stdout"
        }
      ]
    },
    {
      "cell_type": "markdown",
      "metadata": {
        "id": "e_iSdeay5k8v",
        "colab_type": "text"
      },
      "source": [
        "4. 下記のコマンドを試してみなさい。\n",
        "\n",
        "`range(10)` <br/>\n",
        "`iter(range(10))`"
      ]
    },
    {
      "cell_type": "code",
      "metadata": {
        "id": "gHNxpBzp5v0e",
        "colab_type": "code",
        "outputId": "6688944d-510f-4bf7-a54a-b997861c4a6d",
        "colab": {
          "base_uri": "https://localhost:8080/",
          "height": 33
        }
      },
      "source": [
        "range(10)"
      ],
      "execution_count": 0,
      "outputs": [
        {
          "output_type": "execute_result",
          "data": {
            "text/plain": [
              "range(0, 10)"
            ]
          },
          "metadata": {
            "tags": []
          },
          "execution_count": 4
        }
      ]
    },
    {
      "cell_type": "code",
      "metadata": {
        "id": "41ziCvtP5zd6",
        "colab_type": "code",
        "outputId": "466a9977-c484-4332-bee4-35d39be09341",
        "colab": {
          "base_uri": "https://localhost:8080/",
          "height": 33
        }
      },
      "source": [
        "iter(range(10))"
      ],
      "execution_count": 0,
      "outputs": [
        {
          "output_type": "execute_result",
          "data": {
            "text/plain": [
              "<range_iterator at 0x7f6b30fee7e0>"
            ]
          },
          "metadata": {
            "tags": []
          },
          "execution_count": 5
        }
      ]
    },
    {
      "cell_type": "markdown",
      "metadata": {
        "id": "DZCNQ-Gn6QEt",
        "colab_type": "text"
      },
      "source": [
        "5. `enumerate` 関数を使って、下記のリストをループし、各インデクスと値を表示せよ。\n",
        "\n",
        "`L = [1,2,3,4,5]`"
      ]
    },
    {
      "cell_type": "code",
      "metadata": {
        "id": "ECMwssWG6fYV",
        "colab_type": "code",
        "outputId": "dcd98fa8-447f-4159-bc24-9e36051d1509",
        "colab": {
          "base_uri": "https://localhost:8080/",
          "height": 100
        }
      },
      "source": [
        "L = [1,2,3,4,5]\n",
        "for index, value in enumerate(L):\n",
        "    print(index, value)"
      ],
      "execution_count": 0,
      "outputs": [
        {
          "output_type": "stream",
          "text": [
            "0 1\n",
            "1 2\n",
            "2 3\n",
            "3 4\n",
            "4 5\n"
          ],
          "name": "stdout"
        }
      ]
    },
    {
      "cell_type": "code",
      "metadata": {
        "id": "WKpuIB4r6yaV",
        "colab_type": "code",
        "outputId": "5faac429-8311-49f3-e9aa-14e577970019",
        "colab": {
          "base_uri": "https://localhost:8080/",
          "height": 100
        }
      },
      "source": [
        "for i in range(len(L)):\n",
        "    print(i, L[i])"
      ],
      "execution_count": 0,
      "outputs": [
        {
          "output_type": "stream",
          "text": [
            "0 1\n",
            "1 2\n",
            "2 3\n",
            "3 4\n",
            "4 5\n"
          ],
          "name": "stdout"
        }
      ]
    },
    {
      "cell_type": "markdown",
      "metadata": {
        "id": "tN0xhubi61b1",
        "colab_type": "text"
      },
      "source": [
        "6. 二つのリストがあり、リスト２の各値をリスト１の右側に表示しなさい。\n",
        "\n",
        "`L1 = [1,2,3,4,5]` <br/>\n",
        "`L2 = [6,7,8,9,10]` \n",
        "\n",
        "ヒント：`zip`の関数を使う。"
      ]
    },
    {
      "cell_type": "code",
      "metadata": {
        "id": "18Q_259E7pnJ",
        "colab_type": "code",
        "outputId": "5787e9aa-a843-4543-a9fd-bb3dcc4628da",
        "colab": {
          "base_uri": "https://localhost:8080/",
          "height": 100
        }
      },
      "source": [
        "L1 = [1,2,3,4,5]\n",
        "L2 = [6,7,8,9,10]\n",
        "\n",
        "for val_1, val_2 in zip(L1,L2):\n",
        "    print(val_1,val_2)"
      ],
      "execution_count": 0,
      "outputs": [
        {
          "output_type": "stream",
          "text": [
            "1 6\n",
            "2 7\n",
            "3 8\n",
            "4 9\n",
            "5 10\n"
          ],
          "name": "stdout"
        }
      ]
    },
    {
      "cell_type": "markdown",
      "metadata": {
        "id": "LoQaSyFq7tK_",
        "colab_type": "text"
      },
      "source": [
        "7.`*`を使っても、繰り返せる。\n",
        "例：`*range()`"
      ]
    },
    {
      "cell_type": "code",
      "metadata": {
        "id": "vUMljgex8MjQ",
        "colab_type": "code",
        "outputId": "43d34e56-4a4b-49c3-faf5-fdb71e283c51",
        "colab": {
          "base_uri": "https://localhost:8080/",
          "height": 33
        }
      },
      "source": [
        "print(*range(10))"
      ],
      "execution_count": 0,
      "outputs": [
        {
          "output_type": "stream",
          "text": [
            "0 1 2 3 4 5 6 7 8 9\n"
          ],
          "name": "stdout"
        }
      ]
    },
    {
      "cell_type": "markdown",
      "metadata": {
        "id": "DEb7Rdkx8QSi",
        "colab_type": "text"
      },
      "source": [
        "8. `itertools`関数は数学の関数にも使える。\n",
        "例：\n",
        "```\n",
        "from itertools import permutations\n",
        "p = permutations (3)\n",
        "print(*p)\n",
        "```\n",
        "３の順列を計算し、表示させる。"
      ]
    },
    {
      "cell_type": "code",
      "metadata": {
        "id": "pnsfYg5N8xHb",
        "colab_type": "code",
        "outputId": "dfa68dea-642c-4884-bf56-34323dcf5efb",
        "colab": {
          "base_uri": "https://localhost:8080/",
          "height": 33
        }
      },
      "source": [
        "from itertools import permutations\n",
        "p = permutations(range(3))\n",
        "print(*p)"
      ],
      "execution_count": 0,
      "outputs": [
        {
          "output_type": "stream",
          "text": [
            "(0, 1, 2) (0, 2, 1) (1, 0, 2) (1, 2, 0) (2, 0, 1) (2, 1, 0)\n"
          ],
          "name": "stdout"
        }
      ]
    },
    {
      "cell_type": "markdown",
      "metadata": {
        "id": "ytGq6meT81tJ",
        "colab_type": "text"
      },
      "source": [
        "9. `zip`関数を辞書で使いましょう。下記のリストから辞書を作りなさい。\n",
        "\n",
        "`names = [\"Barney\", \"Robin\", \"Ted\", \"Lily\", \"Marshall\"]` <br/>\n",
        "`age = [16, 20, 24, 18, 30]`"
      ]
    },
    {
      "cell_type": "code",
      "metadata": {
        "id": "AZ-wTUAR9TPU",
        "colab_type": "code",
        "outputId": "a5a996f0-fb69-40ce-dcd5-e93ef39335be",
        "colab": {
          "base_uri": "https://localhost:8080/",
          "height": 33
        }
      },
      "source": [
        "names = [\"Barney\", \"Robin\", \"Ted\", \"Lily\", \"Marshall\"]\n",
        "age = [16, 20, 24, 18, 30]\n",
        "people = dict(zip(names, age))\n",
        "print(people)"
      ],
      "execution_count": 0,
      "outputs": [
        {
          "output_type": "stream",
          "text": [
            "{'Barney': 16, 'Robin': 20, 'Ted': 24, 'Lily': 18, 'Marshall': 30}\n"
          ],
          "name": "stdout"
        }
      ]
    },
    {
      "cell_type": "markdown",
      "metadata": {
        "id": "W-kZDjSO9WF_",
        "colab_type": "text"
      },
      "source": [
        "10. 9番目で作った辞書をタプルを作って、解凍しなさい。"
      ]
    },
    {
      "cell_type": "code",
      "metadata": {
        "id": "pSuj316E9JGR",
        "colab_type": "code",
        "outputId": "c92d7008-709a-49f0-c0fb-11e09520fa85",
        "colab": {
          "base_uri": "https://localhost:8080/",
          "height": 50
        }
      },
      "source": [
        "cast = ((\"Barney\", 16), (\"Robin\", 20), (\"Ted\", 24), (\"Lily\", 18), (\"Marshall\", 30))\n",
        "\n",
        "# define names and heights here\n",
        "names, age = zip(*cast)\n",
        "\n",
        "print(names)\n",
        "print(age)"
      ],
      "execution_count": 0,
      "outputs": [
        {
          "output_type": "stream",
          "text": [
            "('Barney', 'Robin', 'Ted', 'Lily', 'Marshall')\n",
            "(16, 20, 24, 18, 30)\n"
          ],
          "name": "stdout"
        }
      ]
    },
    {
      "cell_type": "markdown",
      "metadata": {
        "id": "K5pKTt21_c9k",
        "colab_type": "text"
      },
      "source": [
        "## リスト内包表記\n",
        "\n",
        "1. ループを使って1から200までの偶数リストを作りなさい。"
      ]
    },
    {
      "cell_type": "code",
      "metadata": {
        "id": "2y8-P4eo5hk-",
        "colab_type": "code",
        "outputId": "a275c611-57e1-4563-8a2e-d959558b5a7d",
        "colab": {
          "base_uri": "https://localhost:8080/",
          "height": 53
        }
      },
      "source": [
        "numbers = []\n",
        "for number in range(1,200):\n",
        "    if number % 2 == 0:\n",
        "        numbers.append(number)\n",
        "print(numbers)"
      ],
      "execution_count": 0,
      "outputs": [
        {
          "output_type": "stream",
          "text": [
            "[2, 4, 6, 8, 10, 12, 14, 16, 18, 20, 22, 24, 26, 28, 30, 32, 34, 36, 38, 40, 42, 44, 46, 48, 50, 52, 54, 56, 58, 60, 62, 64, 66, 68, 70, 72, 74, 76, 78, 80, 82, 84, 86, 88, 90, 92, 94, 96, 98, 100, 102, 104, 106, 108, 110, 112, 114, 116, 118, 120, 122, 124, 126, 128, 130, 132, 134, 136, 138, 140, 142, 144, 146, 148, 150, 152, 154, 156, 158, 160, 162, 164, 166, 168, 170, 172, 174, 176, 178, 180, 182, 184, 186, 188, 190, 192, 194, 196, 198]\n"
          ],
          "name": "stdout"
        }
      ]
    },
    {
      "cell_type": "markdown",
      "metadata": {
        "id": "CFLHsDNL6Eh7",
        "colab_type": "text"
      },
      "source": [
        "2. リスト内包表記を使って、１番目と同じような結果が出るようにコードを書きなさい。"
      ]
    },
    {
      "cell_type": "code",
      "metadata": {
        "id": "lZzQQhNU62za",
        "colab_type": "code",
        "outputId": "b9d82694-922e-4a96-8d0f-e69ed1f227aa",
        "colab": {
          "base_uri": "https://localhost:8080/",
          "height": 53
        }
      },
      "source": [
        "numbers = [number for number in range(1,200) if number % 2 == 0]\n",
        "print(numbers)"
      ],
      "execution_count": 0,
      "outputs": [
        {
          "output_type": "stream",
          "text": [
            "[2, 4, 6, 8, 10, 12, 14, 16, 18, 20, 22, 24, 26, 28, 30, 32, 34, 36, 38, 40, 42, 44, 46, 48, 50, 52, 54, 56, 58, 60, 62, 64, 66, 68, 70, 72, 74, 76, 78, 80, 82, 84, 86, 88, 90, 92, 94, 96, 98, 100, 102, 104, 106, 108, 110, 112, 114, 116, 118, 120, 122, 124, 126, 128, 130, 132, 134, 136, 138, 140, 142, 144, 146, 148, 150, 152, 154, 156, 158, 160, 162, 164, 166, 168, 170, 172, 174, 176, 178, 180, 182, 184, 186, 188, 190, 192, 194, 196, 198]\n"
          ],
          "name": "stdout"
        }
      ]
    },
    {
      "cell_type": "markdown",
      "metadata": {
        "id": "ODZH57F366uY",
        "colab_type": "text"
      },
      "source": [
        "3. 以下の出力が出るように、リスト内包表記を使用して、コードを書きなさい。\n",
        "\n",
        "\n",
        "```\n",
        "[(0,0), (0,1), (1,0), (1,1)]\n",
        "```\n",
        "\n"
      ]
    },
    {
      "cell_type": "code",
      "metadata": {
        "id": "GRyJiqQa7NOT",
        "colab_type": "code",
        "outputId": "79fd8c08-9307-459c-fe86-89cb3df1bafa",
        "colab": {
          "base_uri": "https://localhost:8080/",
          "height": 33
        }
      },
      "source": [
        "L = [(i,j) for i in range(2) for j in range(2)]\n",
        "print(L)"
      ],
      "execution_count": 0,
      "outputs": [
        {
          "output_type": "stream",
          "text": [
            "[(0, 0), (0, 1), (1, 0), (1, 1)]\n"
          ],
          "name": "stdout"
        }
      ]
    },
    {
      "cell_type": "markdown",
      "metadata": {
        "id": "eQhf8FwI7btX",
        "colab_type": "text"
      },
      "source": [
        "4. リスト内包表記を使って、$n^2$の結果を表示しなさい。<br/>\n",
        "$n=1,...,10$とし、<br/>\n",
        "$n = n^2$"
      ]
    },
    {
      "cell_type": "code",
      "metadata": {
        "id": "onpCJfI673uf",
        "colab_type": "code",
        "outputId": "9219cf90-5686-440d-fdde-eeaa21fcc400",
        "colab": {
          "base_uri": "https://localhost:8080/",
          "height": 33
        }
      },
      "source": [
        "squares = [n ** 2 for n in range(11)]\n",
        "print(squares)"
      ],
      "execution_count": 0,
      "outputs": [
        {
          "output_type": "stream",
          "text": [
            "[0, 1, 4, 9, 16, 25, 36, 49, 64, 81, 100]\n"
          ],
          "name": "stdout"
        }
      ]
    },
    {
      "cell_type": "markdown",
      "metadata": {
        "id": "QZ-yD2Sk8c3M",
        "colab_type": "text"
      },
      "source": [
        "5. 下記の辞書に基づいて、リスト内包表記を使って、６０以上のスコアを持っている人のリストを作りなさい。\n",
        "\n",
        "\n",
        "```\n",
        "scores = {\n",
        "            \"Tanaka\": 20,\n",
        "            \"Kimura\": 60,\n",
        "            \"Li\": 89,\n",
        "            \"Kim\": 78,\n",
        "            \"Albert\": 73\n",
        "            }\n",
        "```\n",
        "\n"
      ]
    },
    {
      "cell_type": "code",
      "metadata": {
        "id": "gIeUUGKq9CPM",
        "colab_type": "code",
        "outputId": "9e78177d-efc7-449d-8709-fc3ecb5ef5cf",
        "colab": {
          "base_uri": "https://localhost:8080/",
          "height": 33
        }
      },
      "source": [
        "scores = {\n",
        "             \"Tanaka\": 20,\n",
        "             \"Kimura\": 60,\n",
        "             \"Li\": 89,\n",
        "             \"Kim\": 78,\n",
        "             \"Beth Smith\": 98\n",
        "          }\n",
        "\n",
        "passed = [name for name, score in scores.items() if score >= 60]\n",
        "print(passed)"
      ],
      "execution_count": 0,
      "outputs": [
        {
          "output_type": "stream",
          "text": [
            "['Kimura', 'Li', 'Kim', 'Beth Smith']\n"
          ],
          "name": "stdout"
        }
      ]
    },
    {
      "cell_type": "markdown",
      "metadata": {
        "id": "rWBi8yoO-Qz5",
        "colab_type": "text"
      },
      "source": [
        "## ジェネレータ\n",
        "\n",
        "1. リスト内包表記とジェネレータを使用して、以下のリストを作りなさい。\n",
        "以下のリストは、1から40までの４倍数となる。\n",
        "\n",
        "```\n",
        "[4, 8, 12, 16, 20, 24, 28, 32, 36, 40]\n",
        "```\n",
        "\n"
      ]
    },
    {
      "cell_type": "code",
      "metadata": {
        "id": "KZzXwy6I-3gI",
        "colab_type": "code",
        "outputId": "d7127443-a2c3-487b-d22c-658676731d04",
        "colab": {
          "base_uri": "https://localhost:8080/",
          "height": 33
        }
      },
      "source": [
        "numbers = [n * 4 for n in range(1,11)]\n",
        "print(numbers)"
      ],
      "execution_count": 0,
      "outputs": [
        {
          "output_type": "stream",
          "text": [
            "[4, 8, 12, 16, 20, 24, 28, 32, 36, 40]\n"
          ],
          "name": "stdout"
        }
      ]
    },
    {
      "cell_type": "code",
      "metadata": {
        "id": "3hJ1-iHQ_Dmz",
        "colab_type": "code",
        "outputId": "e1571d52-0fb6-4c32-f1c9-f79c804bac04",
        "colab": {
          "base_uri": "https://localhost:8080/",
          "height": 50
        }
      },
      "source": [
        "numbers = (n * 4 for n in range(1,11))\n",
        "print(numbers)\n",
        "print (list(numbers))"
      ],
      "execution_count": 0,
      "outputs": [
        {
          "output_type": "stream",
          "text": [
            "<generator object <genexpr> at 0x7f6b30ff0fc0>\n",
            "[4, 8, 12, 16, 20, 24, 28, 32, 36, 40]\n"
          ],
          "name": "stdout"
        }
      ]
    },
    {
      "cell_type": "markdown",
      "metadata": {
        "id": "yu287sKO_HNZ",
        "colab_type": "text"
      },
      "source": [
        "2. ジェネレータを使って、１から２０のループを１０の後にいったん止めて、またループを続ける。\n",
        "出力結果は下記のようである。\n",
        "\n",
        "\n",
        "```\n",
        "1 2 3 4 5 6 7 8 9 10\n",
        "いったん止める\n",
        "11 12 13 14 15 16 17 18 19 20\n",
        "```\n",
        "\n"
      ]
    },
    {
      "cell_type": "code",
      "metadata": {
        "id": "nM6_HWC1_qrv",
        "colab_type": "code",
        "outputId": "a543ddd7-181f-4bee-8489-85e88e004f8d",
        "colab": {
          "base_uri": "https://localhost:8080/",
          "height": 67
        }
      },
      "source": [
        "G = (n for n in range(1,21))\n",
        "for n in G:\n",
        "    print (n, end=' ')\n",
        "    if n >= 10:\n",
        "        break\n",
        "\n",
        "print(\"\\nいったん止める\")\n",
        "\n",
        "for n in G:\n",
        "    print(n, end=' ')"
      ],
      "execution_count": 0,
      "outputs": [
        {
          "output_type": "stream",
          "text": [
            "1 2 3 4 5 6 7 8 9 10 \n",
            "いったん止める\n",
            "11 12 13 14 15 16 17 18 19 20 "
          ],
          "name": "stdout"
        }
      ]
    },
    {
      "cell_type": "markdown",
      "metadata": {
        "id": "YHbW2AYE_xDh",
        "colab_type": "text"
      },
      "source": [
        "3. `yield`を使って、最初に書いたジェネレータ表記の二つ目のジェネレータ関数を書きなさい。\n",
        "出力結果は以下となります。\n",
        "\n",
        "\n",
        "```\n",
        "[4, 8, 12, 16, 20, 24, 28, 32, 36, 40]\n",
        "[4, 8, 12, 16, 20, 24, 28, 32, 36, 40]\n",
        "```\n",
        "リスト内包表記を使って、コードを書き、上のジェネレータ関数と比較しなさい。\n"
      ]
    },
    {
      "cell_type": "code",
      "metadata": {
        "id": "fTTDQRDvBFGl",
        "colab_type": "code",
        "outputId": "dd159ad7-4a15-48fe-a293-4f41e67e279a",
        "colab": {
          "base_uri": "https://localhost:8080/",
          "height": 50
        }
      },
      "source": [
        "numbers_1 = (n * 4 for n in range(1,11))\n",
        "\n",
        "def gen():\n",
        "    for n in range(1,11):\n",
        "        yield n * 4\n",
        "\n",
        "numbers_2 = gen()\n",
        "\n",
        "a = list(numbers_1)\n",
        "b = list(numbers_2)\n",
        "\n",
        "print(a)\n",
        "print(b)"
      ],
      "execution_count": 0,
      "outputs": [
        {
          "output_type": "stream",
          "text": [
            "[4, 8, 12, 16, 20, 24, 28, 32, 36, 40]\n",
            "[4, 8, 12, 16, 20, 24, 28, 32, 36, 40]\n"
          ],
          "name": "stdout"
        }
      ]
    },
    {
      "cell_type": "code",
      "metadata": {
        "id": "uEMsTy_iBpTg",
        "colab_type": "code",
        "outputId": "3aaa7e1e-ca1f-4ff0-fa9f-c94f652f12a8",
        "colab": {
          "base_uri": "https://localhost:8080/",
          "height": 50
        }
      },
      "source": [
        "L1 = [n * 4 for n in range(1,11)]\n",
        "\n",
        "L2 = []\n",
        "for n in range(1,11):\n",
        "    L2.append(n * 4)\n",
        "\n",
        "print(L1)\n",
        "print(L2)"
      ],
      "execution_count": 0,
      "outputs": [
        {
          "output_type": "stream",
          "text": [
            "[4, 8, 12, 16, 20, 24, 28, 32, 36, 40]\n",
            "[4, 8, 12, 16, 20, 24, 28, 32, 36, 40]\n"
          ],
          "name": "stdout"
        }
      ]
    },
    {
      "cell_type": "markdown",
      "metadata": {
        "id": "X142Wo7RCtHM",
        "colab_type": "text"
      },
      "source": [
        "4. 100までの素数リストをジェネレータ関数を作りなさい。素数とは、1 より大きい自然数で、正の約数が 1 と自分自身のみであるもののことである。そして、`if`と`for`ループを使って１００までの素数を表示しなさい。"
      ]
    },
    {
      "cell_type": "code",
      "metadata": {
        "id": "dh8DFh-aDJBh",
        "colab_type": "code",
        "outputId": "52fba208-92a2-4a50-b603-5c368e25e0b4",
        "colab": {
          "base_uri": "https://localhost:8080/",
          "height": 53
        }
      },
      "source": [
        "def gen_primes(N):\n",
        "    primes = set()\n",
        "    for n in range(2, N):\n",
        "        if all(n % p > 0 for p in primes):\n",
        "            primes.add(n)\n",
        "            yield n\n",
        "\n",
        "print(list(gen_primes(100)))"
      ],
      "execution_count": 0,
      "outputs": [
        {
          "output_type": "stream",
          "text": [
            "[2, 3, 5, 7, 11, 13, 17, 19, 23, 29, 31, 37, 41, 43, 47, 53, 59, 61, 67, 71, 73, 79, 83, 89, 97]\n"
          ],
          "name": "stdout"
        }
      ]
    },
    {
      "cell_type": "code",
      "metadata": {
        "id": "hWbWd0HuDXRG",
        "colab_type": "code",
        "outputId": "2edbab6c-da08-403b-9b10-49d6e6747917",
        "colab": {
          "base_uri": "https://localhost:8080/",
          "height": 53
        }
      },
      "source": [
        "primes = []\n",
        "for possiblePrime in range(2, 101):    \n",
        "    # Assume number is prime until shown it is not. \n",
        "    isPrime = True\n",
        "    for num in range(2, possiblePrime):\n",
        "        if possiblePrime % num == 0:\n",
        "            isPrime = False      \n",
        "    if isPrime:\n",
        "        primes.append(possiblePrime)\n",
        "print(primes)"
      ],
      "execution_count": 0,
      "outputs": [
        {
          "output_type": "stream",
          "text": [
            "[2, 3, 5, 7, 11, 13, 17, 19, 23, 29, 31, 37, 41, 43, 47, 53, 59, 61, 67, 71, 73, 79, 83, 89, 97]\n"
          ],
          "name": "stdout"
        }
      ]
    }
  ]
}