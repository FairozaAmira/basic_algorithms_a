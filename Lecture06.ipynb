{
  "nbformat": 4,
  "nbformat_minor": 0,
  "metadata": {
    "colab": {
      "name": "Lecture06_a.ipynb",
      "provenance": [],
      "collapsed_sections": [],
      "include_colab_link": true
    },
    "kernelspec": {
      "name": "python3",
      "display_name": "Python 3"
    }
  },
  "cells": [
    {
      "cell_type": "markdown",
      "metadata": {
        "id": "view-in-github",
        "colab_type": "text"
      },
      "source": [
        "<a href=\"https://colab.research.google.com/github/FairozaAmira/basic_algorithms_a/blob/master/Lecture06.ipynb\" target=\"_parent\"><img src=\"https://colab.research.google.com/assets/colab-badge.svg\" alt=\"Open In Colab\"/></a>"
      ]
    },
    {
      "cell_type": "markdown",
      "metadata": {
        "id": "KhFvnNZuZFbM",
        "colab_type": "text"
      },
      "source": [
        "# 第６回目の講義中の練習問題の解答\n",
        "\n",
        "\n"
      ]
    },
    {
      "cell_type": "markdown",
      "metadata": {
        "id": "beQ42IdHgH4t",
        "colab_type": "text"
      },
      "source": [
        "## 文字列操作\n",
        "\n",
        "**Q1**\n",
        "\n",
        "文章（文字列）を作って、`text`の変数に割り当ててください。\n",
        "\n",
        "但し、これからの操作は英文にする。"
      ]
    },
    {
      "cell_type": "code",
      "metadata": {
        "id": "r5XXnQSigfug",
        "colab_type": "code",
        "colab": {}
      },
      "source": [
        "text = \"I love Japan\""
      ],
      "execution_count": 0,
      "outputs": []
    },
    {
      "cell_type": "markdown",
      "metadata": {
        "id": "kzJtJeKCgiR_",
        "colab_type": "text"
      },
      "source": [
        "**Q2**\n",
        "\n",
        "`text`の長さを探しなさい。"
      ]
    },
    {
      "cell_type": "code",
      "metadata": {
        "id": "dil6rCoigsCe",
        "colab_type": "code",
        "outputId": "99c903b3-cc24-4958-d797-bbeecb8f82be",
        "colab": {
          "base_uri": "https://localhost:8080/",
          "height": 33
        }
      },
      "source": [
        "len(text)"
      ],
      "execution_count": 0,
      "outputs": [
        {
          "output_type": "execute_result",
          "data": {
            "text/plain": [
              "12"
            ]
          },
          "metadata": {
            "tags": []
          },
          "execution_count": 2
        }
      ]
    },
    {
      "cell_type": "markdown",
      "metadata": {
        "id": "Fz8vqz1-gtq3",
        "colab_type": "text"
      },
      "source": [
        "**Q3**\n",
        "\n",
        "`text`の文字をすべて大文字に変換しなさい。"
      ]
    },
    {
      "cell_type": "code",
      "metadata": {
        "id": "O8R4Fq8Sg1kp",
        "colab_type": "code",
        "outputId": "063a0ad6-a4ba-4653-975b-4319dd697dd8",
        "colab": {
          "base_uri": "https://localhost:8080/",
          "height": 33
        }
      },
      "source": [
        "text.upper()"
      ],
      "execution_count": 0,
      "outputs": [
        {
          "output_type": "execute_result",
          "data": {
            "text/plain": [
              "'I LOVE JAPAN'"
            ]
          },
          "metadata": {
            "tags": []
          },
          "execution_count": 3
        }
      ]
    },
    {
      "cell_type": "markdown",
      "metadata": {
        "id": "hcUMBLNqg30c",
        "colab_type": "text"
      },
      "source": [
        "**Q4**\n",
        "\n",
        "`text`の最初の文字は大文字にしてください。"
      ]
    },
    {
      "cell_type": "code",
      "metadata": {
        "id": "yhcCYUrAhQJV",
        "colab_type": "code",
        "outputId": "aaa08999-d59a-463e-fa80-68daffddd064",
        "colab": {
          "base_uri": "https://localhost:8080/",
          "height": 33
        }
      },
      "source": [
        "text.capitalize()"
      ],
      "execution_count": 0,
      "outputs": [
        {
          "output_type": "execute_result",
          "data": {
            "text/plain": [
              "'I love japan'"
            ]
          },
          "metadata": {
            "tags": []
          },
          "execution_count": 4
        }
      ]
    },
    {
      "cell_type": "markdown",
      "metadata": {
        "id": "gjQyk9ZHhS2q",
        "colab_type": "text"
      },
      "source": [
        "**Q5**\n",
        "\n",
        "別の文章を作って、`text02`の変数に割り当ててください。そして、`text`を`text02`に加えてください。"
      ]
    },
    {
      "cell_type": "code",
      "metadata": {
        "id": "66And3quh8gu",
        "colab_type": "code",
        "outputId": "0a981548-2aaf-43c0-d206-37e6f386b83b",
        "colab": {
          "base_uri": "https://localhost:8080/",
          "height": 33
        }
      },
      "source": [
        "text02 = \"so much\"\n",
        "text + text02"
      ],
      "execution_count": 0,
      "outputs": [
        {
          "output_type": "execute_result",
          "data": {
            "text/plain": [
              "'I love Japanso much'"
            ]
          },
          "metadata": {
            "tags": []
          },
          "execution_count": 5
        }
      ]
    },
    {
      "cell_type": "markdown",
      "metadata": {
        "id": "Y3TcAfZviEJB",
        "colab_type": "text"
      },
      "source": [
        "スペースを入れて、足してください。"
      ]
    },
    {
      "cell_type": "code",
      "metadata": {
        "id": "6BxRn363iH_g",
        "colab_type": "code",
        "outputId": "df8a61a1-e37d-4dd5-f693-35e981de9db8",
        "colab": {
          "base_uri": "https://localhost:8080/",
          "height": 33
        }
      },
      "source": [
        "text + \" \" + text02"
      ],
      "execution_count": 0,
      "outputs": [
        {
          "output_type": "execute_result",
          "data": {
            "text/plain": [
              "'I love Japan so much'"
            ]
          },
          "metadata": {
            "tags": []
          },
          "execution_count": 6
        }
      ]
    },
    {
      "cell_type": "markdown",
      "metadata": {
        "id": "atxAVynViM1Y",
        "colab_type": "text"
      },
      "source": [
        "**Q6**\n",
        "\n",
        "`text`は５に掛けてください。"
      ]
    },
    {
      "cell_type": "code",
      "metadata": {
        "id": "U9-5lkG_iScX",
        "colab_type": "code",
        "outputId": "db02b676-a13d-4031-f289-8fbe893fd311",
        "colab": {
          "base_uri": "https://localhost:8080/",
          "height": 33
        }
      },
      "source": [
        "text * 5"
      ],
      "execution_count": 0,
      "outputs": [
        {
          "output_type": "execute_result",
          "data": {
            "text/plain": [
              "'I love JapanI love JapanI love JapanI love JapanI love Japan'"
            ]
          },
          "metadata": {
            "tags": []
          },
          "execution_count": 7
        }
      ]
    },
    {
      "cell_type": "markdown",
      "metadata": {
        "id": "NDGidshHiRzX",
        "colab_type": "text"
      },
      "source": [
        "**Q6**\n",
        "\n",
        "`text[0]` と `text[2]`にアクセスしてください。"
      ]
    },
    {
      "cell_type": "code",
      "metadata": {
        "id": "-Z-S0F6jimS5",
        "colab_type": "code",
        "outputId": "0e6f7c62-1b9f-4144-e5d0-90fd885c3682",
        "colab": {
          "base_uri": "https://localhost:8080/",
          "height": 33
        }
      },
      "source": [
        "text[0]"
      ],
      "execution_count": 0,
      "outputs": [
        {
          "output_type": "execute_result",
          "data": {
            "text/plain": [
              "'I'"
            ]
          },
          "metadata": {
            "tags": []
          },
          "execution_count": 8
        }
      ]
    },
    {
      "cell_type": "code",
      "metadata": {
        "id": "rL1hArQ1ipEi",
        "colab_type": "code",
        "outputId": "c2ecf67b-6b13-4d47-c28c-e6b2ca454aba",
        "colab": {
          "base_uri": "https://localhost:8080/",
          "height": 33
        }
      },
      "source": [
        "text[2]"
      ],
      "execution_count": 0,
      "outputs": [
        {
          "output_type": "execute_result",
          "data": {
            "text/plain": [
              "'l'"
            ]
          },
          "metadata": {
            "tags": []
          },
          "execution_count": 9
        }
      ]
    },
    {
      "cell_type": "markdown",
      "metadata": {
        "id": "h2lMtMOFiqrP",
        "colab_type": "text"
      },
      "source": [
        "**Q7**\n",
        "\n",
        "日本語の文章を作り、`text03`に割り当ててください。"
      ]
    },
    {
      "cell_type": "code",
      "metadata": {
        "id": "_Ts02V6kix_t",
        "colab_type": "code",
        "outputId": "6b2168c9-106f-4ba7-8c70-6ea0f1e65b7c",
        "colab": {
          "base_uri": "https://localhost:8080/",
          "height": 33
        }
      },
      "source": [
        "text03 = \"日本が好き\"\n",
        "print(text03)"
      ],
      "execution_count": 0,
      "outputs": [
        {
          "output_type": "stream",
          "text": [
            "日本が好き\n"
          ],
          "name": "stdout"
        }
      ]
    },
    {
      "cell_type": "markdown",
      "metadata": {
        "id": "E2Sp_26vaNwS",
        "colab_type": "text"
      },
      "source": [
        "## NoneType\n",
        "\n"
      ]
    },
    {
      "cell_type": "code",
      "metadata": {
        "id": "Wm277dSJaR8K",
        "colab_type": "code",
        "outputId": "d95a7286-5a5c-4e80-cfa6-563706b5eb12",
        "colab": {
          "base_uri": "https://localhost:8080/",
          "height": 33
        }
      },
      "source": [
        "type(None)"
      ],
      "execution_count": 0,
      "outputs": [
        {
          "output_type": "execute_result",
          "data": {
            "text/plain": [
              "NoneType"
            ]
          },
          "metadata": {
            "tags": []
          },
          "execution_count": 11
        }
      ]
    },
    {
      "cell_type": "code",
      "metadata": {
        "id": "NK9o84F2ahHq",
        "colab_type": "code",
        "outputId": "c85a8b87-8b6c-4200-e24d-7e0cf0f3b535",
        "colab": {
          "base_uri": "https://localhost:8080/",
          "height": 50
        }
      },
      "source": [
        "value =print('abc')\n",
        "print(value)"
      ],
      "execution_count": 0,
      "outputs": [
        {
          "output_type": "stream",
          "text": [
            "abc\n",
            "None\n"
          ],
          "name": "stdout"
        }
      ]
    },
    {
      "cell_type": "code",
      "metadata": {
        "id": "DGRRZwQXbXff",
        "colab_type": "code",
        "outputId": "1bf310ab-e988-43c9-d031-88907831aa57",
        "colab": {
          "base_uri": "https://localhost:8080/",
          "height": 33
        }
      },
      "source": [
        "x = (4 < 5)\n",
        "print(x)"
      ],
      "execution_count": 0,
      "outputs": [
        {
          "output_type": "stream",
          "text": [
            "True\n"
          ],
          "name": "stdout"
        }
      ]
    },
    {
      "cell_type": "code",
      "metadata": {
        "id": "eI7bAwNSbaH1",
        "colab_type": "code",
        "outputId": "c4bb166d-116d-4c46-e855-e24c9efefb4a",
        "colab": {
          "base_uri": "https://localhost:8080/",
          "height": 33
        }
      },
      "source": [
        "type(x)"
      ],
      "execution_count": 0,
      "outputs": [
        {
          "output_type": "execute_result",
          "data": {
            "text/plain": [
              "bool"
            ]
          },
          "metadata": {
            "tags": []
          },
          "execution_count": 14
        }
      ]
    },
    {
      "cell_type": "markdown",
      "metadata": {
        "id": "FacUzZY6jUba",
        "colab_type": "text"
      },
      "source": [
        "## リスト\n",
        "\n",
        "1. リストを作成し、`L`の変数に割り当ててください。リストの中には`4,6,8,9`に入れてください。"
      ]
    },
    {
      "cell_type": "code",
      "metadata": {
        "id": "HFgcg6W9bbKS",
        "colab_type": "code",
        "colab": {}
      },
      "source": [
        "L = [4,6,8,9]"
      ],
      "execution_count": 0,
      "outputs": []
    },
    {
      "cell_type": "markdown",
      "metadata": {
        "id": "lURPITCrjmJF",
        "colab_type": "text"
      },
      "source": [
        "2. リストの長さを探しなさい。"
      ]
    },
    {
      "cell_type": "code",
      "metadata": {
        "id": "9tjd2BkDjjre",
        "colab_type": "code",
        "outputId": "01524bc7-5e05-4c2e-fad8-12f9f9cb5073",
        "colab": {
          "base_uri": "https://localhost:8080/",
          "height": 33
        }
      },
      "source": [
        "print(len(L))"
      ],
      "execution_count": 0,
      "outputs": [
        {
          "output_type": "stream",
          "text": [
            "4\n"
          ],
          "name": "stdout"
        }
      ]
    },
    {
      "cell_type": "markdown",
      "metadata": {
        "id": "YFry26eljrO_",
        "colab_type": "text"
      },
      "source": [
        "3. `11`をリストの中に足してください。"
      ]
    },
    {
      "cell_type": "code",
      "metadata": {
        "id": "ENoX08YUjwGf",
        "colab_type": "code",
        "colab": {}
      },
      "source": [
        "L.append(11)"
      ],
      "execution_count": 0,
      "outputs": []
    },
    {
      "cell_type": "markdown",
      "metadata": {
        "id": "OXX-Iy8vjySC",
        "colab_type": "text"
      },
      "source": [
        "4. `[13, 17, 20]`をLのリストに連結せよ。"
      ]
    },
    {
      "cell_type": "code",
      "metadata": {
        "id": "DYLJ2bK9j-m-",
        "colab_type": "code",
        "colab": {}
      },
      "source": [
        "L += [13, 17, 20]"
      ],
      "execution_count": 0,
      "outputs": []
    },
    {
      "cell_type": "markdown",
      "metadata": {
        "id": "zoBL0yt7kBe1",
        "colab_type": "text"
      },
      "source": [
        "5. リストを昇順にソートしてください。"
      ]
    },
    {
      "cell_type": "code",
      "metadata": {
        "id": "LFRvi5djkG3u",
        "colab_type": "code",
        "outputId": "602b70d8-1590-4365-efc7-16d7c269a775",
        "colab": {
          "base_uri": "https://localhost:8080/",
          "height": 33
        }
      },
      "source": [
        "L.sort\n",
        "L"
      ],
      "execution_count": 0,
      "outputs": [
        {
          "output_type": "execute_result",
          "data": {
            "text/plain": [
              "[4, 6, 8, 9, 11, 13, 17, 20]"
            ]
          },
          "metadata": {
            "tags": []
          },
          "execution_count": 19
        }
      ]
    },
    {
      "cell_type": "markdown",
      "metadata": {
        "id": "ytM4Vngakdfp",
        "colab_type": "text"
      },
      "source": [
        "6. リストの中には整数以外の値を含んでも可能\n",
        "ですか？"
      ]
    },
    {
      "cell_type": "code",
      "metadata": {
        "id": "a0Lg7WQUkm3O",
        "colab_type": "code",
        "outputId": "35f21800-4e14-4cd3-a669-79a9bbea77f4",
        "colab": {
          "base_uri": "https://localhost:8080/",
          "height": 33
        }
      },
      "source": [
        "L = [1, \"two\", 3.24, [0,3,5]]\n",
        "L"
      ],
      "execution_count": 0,
      "outputs": [
        {
          "output_type": "execute_result",
          "data": {
            "text/plain": [
              "[1, 'two', 3.24, [0, 3, 5]]"
            ]
          },
          "metadata": {
            "tags": []
          },
          "execution_count": 20
        }
      ]
    },
    {
      "cell_type": "markdown",
      "metadata": {
        "id": "z-rZgxbQltK4",
        "colab_type": "text"
      },
      "source": [
        "## リストのインデクスとスライス\n",
        "\n",
        "1. `L=[4,6,8,9,11]`のリストから、`L`の一番目の値（インデックス）を示しなさい。"
      ]
    },
    {
      "cell_type": "code",
      "metadata": {
        "id": "eW6Ydiq6l-ya",
        "colab_type": "code",
        "outputId": "582d357b-0b5f-45da-877d-52241bf370d7",
        "colab": {
          "base_uri": "https://localhost:8080/",
          "height": 33
        }
      },
      "source": [
        "L = [4,6,8,9,11]\n",
        "L[0]"
      ],
      "execution_count": 0,
      "outputs": [
        {
          "output_type": "execute_result",
          "data": {
            "text/plain": [
              "4"
            ]
          },
          "metadata": {
            "tags": []
          },
          "execution_count": 21
        }
      ]
    },
    {
      "cell_type": "markdown",
      "metadata": {
        "id": "9v5wXwpzmDJ_",
        "colab_type": "text"
      },
      "source": [
        "2. `L`の４番目の値（インデックス）を探しなさい。"
      ]
    },
    {
      "cell_type": "code",
      "metadata": {
        "id": "KSUZ6QL3mJ0c",
        "colab_type": "code",
        "outputId": "8bcd8a97-c0c3-4774-a89b-c19d9ab38e49",
        "colab": {
          "base_uri": "https://localhost:8080/",
          "height": 33
        }
      },
      "source": [
        "L[3]"
      ],
      "execution_count": 0,
      "outputs": [
        {
          "output_type": "execute_result",
          "data": {
            "text/plain": [
              "9"
            ]
          },
          "metadata": {
            "tags": []
          },
          "execution_count": 22
        }
      ]
    },
    {
      "cell_type": "markdown",
      "metadata": {
        "id": "hh5iiJXCmLzt",
        "colab_type": "text"
      },
      "source": [
        "3. `L`の最後の値（インデックス）を示しなさい。"
      ]
    },
    {
      "cell_type": "code",
      "metadata": {
        "id": "9rpgvJ4XmQ8F",
        "colab_type": "code",
        "outputId": "9fdd9fe6-fe50-4e11-b067-24d0ec0be3b8",
        "colab": {
          "base_uri": "https://localhost:8080/",
          "height": 33
        }
      },
      "source": [
        "L[-1]"
      ],
      "execution_count": 0,
      "outputs": [
        {
          "output_type": "execute_result",
          "data": {
            "text/plain": [
              "11"
            ]
          },
          "metadata": {
            "tags": []
          },
          "execution_count": 23
        }
      ]
    },
    {
      "cell_type": "code",
      "metadata": {
        "id": "duKScoVBmVSJ",
        "colab_type": "code",
        "outputId": "7b07c05d-bc7c-4b1f-f381-7434163d866b",
        "colab": {
          "base_uri": "https://localhost:8080/",
          "height": 33
        }
      },
      "source": [
        "L[4]"
      ],
      "execution_count": 0,
      "outputs": [
        {
          "output_type": "execute_result",
          "data": {
            "text/plain": [
              "11"
            ]
          },
          "metadata": {
            "tags": []
          },
          "execution_count": 24
        }
      ]
    },
    {
      "cell_type": "markdown",
      "metadata": {
        "id": "nzxi7bBxmTiA",
        "colab_type": "text"
      },
      "source": [
        "4. `L`の最初の３つの値を探しなさい。"
      ]
    },
    {
      "cell_type": "code",
      "metadata": {
        "id": "lT9Yl9MPmb9g",
        "colab_type": "code",
        "outputId": "b726b43d-c04c-45b0-e4fa-dc58b7e7ca24",
        "colab": {
          "base_uri": "https://localhost:8080/",
          "height": 33
        }
      },
      "source": [
        "L[:3]"
      ],
      "execution_count": 0,
      "outputs": [
        {
          "output_type": "execute_result",
          "data": {
            "text/plain": [
              "[4, 6, 8]"
            ]
          },
          "metadata": {
            "tags": []
          },
          "execution_count": 25
        }
      ]
    },
    {
      "cell_type": "markdown",
      "metadata": {
        "id": "gzjRn6CLmdzn",
        "colab_type": "text"
      },
      "source": [
        "5. `L`の最後の二つの値を探しなさい。"
      ]
    },
    {
      "cell_type": "code",
      "metadata": {
        "id": "tFW5PdoRmpv7",
        "colab_type": "code",
        "outputId": "f9e6fd11-8c9c-4231-9e95-0927ffbb5954",
        "colab": {
          "base_uri": "https://localhost:8080/",
          "height": 33
        }
      },
      "source": [
        "L[-2:]"
      ],
      "execution_count": 0,
      "outputs": [
        {
          "output_type": "execute_result",
          "data": {
            "text/plain": [
              "[9, 11]"
            ]
          },
          "metadata": {
            "tags": []
          },
          "execution_count": 26
        }
      ]
    },
    {
      "cell_type": "markdown",
      "metadata": {
        "id": "LuZpukE0muws",
        "colab_type": "text"
      },
      "source": [
        "6. 昇順にソートし、一つの値を飛ばした`L`を示しなさい。"
      ]
    },
    {
      "cell_type": "code",
      "metadata": {
        "id": "lLJYiQqUm55G",
        "colab_type": "code",
        "outputId": "0ea6f5c6-3217-4c40-b130-d17dc5d5e578",
        "colab": {
          "base_uri": "https://localhost:8080/",
          "height": 33
        }
      },
      "source": [
        "L[::2]"
      ],
      "execution_count": 0,
      "outputs": [
        {
          "output_type": "execute_result",
          "data": {
            "text/plain": [
              "[4, 8, 11]"
            ]
          },
          "metadata": {
            "tags": []
          },
          "execution_count": 27
        }
      ]
    },
    {
      "cell_type": "code",
      "metadata": {
        "id": "MkXoj62mnB9N",
        "colab_type": "code",
        "outputId": "7114c5f7-2743-4d3e-9742-51a3ae2ae9b7",
        "colab": {
          "base_uri": "https://localhost:8080/",
          "height": 33
        }
      },
      "source": [
        "L[0:len(L):2]"
      ],
      "execution_count": 0,
      "outputs": [
        {
          "output_type": "execute_result",
          "data": {
            "text/plain": [
              "[4, 8, 11]"
            ]
          },
          "metadata": {
            "tags": []
          },
          "execution_count": 28
        }
      ]
    },
    {
      "cell_type": "markdown",
      "metadata": {
        "id": "aOoo40DVnAFM",
        "colab_type": "text"
      },
      "source": [
        "7. 降順にソートし、一つの値を飛ばした`L`を示しなさい。"
      ]
    },
    {
      "cell_type": "code",
      "metadata": {
        "id": "12YSYQM6nT7u",
        "colab_type": "code",
        "outputId": "60839b7a-ceef-432a-f038-685c336692b5",
        "colab": {
          "base_uri": "https://localhost:8080/",
          "height": 33
        }
      },
      "source": [
        "L[::-2]"
      ],
      "execution_count": 0,
      "outputs": [
        {
          "output_type": "execute_result",
          "data": {
            "text/plain": [
              "[11, 8, 4]"
            ]
          },
          "metadata": {
            "tags": []
          },
          "execution_count": 29
        }
      ]
    },
    {
      "cell_type": "markdown",
      "metadata": {
        "id": "UxjCqVc6oMAb",
        "colab_type": "text"
      },
      "source": [
        "8. `L[0]`を`50`に代入しなさい。"
      ]
    },
    {
      "cell_type": "code",
      "metadata": {
        "id": "k2JE03FLoSwN",
        "colab_type": "code",
        "outputId": "abeddb31-7ccc-417d-ae84-5e58fa03e155",
        "colab": {
          "base_uri": "https://localhost:8080/",
          "height": 33
        }
      },
      "source": [
        "L[0] = 50\n",
        "L"
      ],
      "execution_count": 0,
      "outputs": [
        {
          "output_type": "execute_result",
          "data": {
            "text/plain": [
              "[50, 6, 8, 9, 11]"
            ]
          },
          "metadata": {
            "tags": []
          },
          "execution_count": 30
        }
      ]
    },
    {
      "cell_type": "markdown",
      "metadata": {
        "id": "l_KcdA-hobPi",
        "colab_type": "text"
      },
      "source": [
        "9. `L`を昇順にソートしてください。"
      ]
    },
    {
      "cell_type": "code",
      "metadata": {
        "id": "DWsJQKO0ofJK",
        "colab_type": "code",
        "outputId": "fb885bb1-dfe3-49ee-e4bb-af3d479384fe",
        "colab": {
          "base_uri": "https://localhost:8080/",
          "height": 33
        }
      },
      "source": [
        "L.sort()\n",
        "L"
      ],
      "execution_count": 0,
      "outputs": [
        {
          "output_type": "execute_result",
          "data": {
            "text/plain": [
              "[6, 8, 9, 11, 50]"
            ]
          },
          "metadata": {
            "tags": []
          },
          "execution_count": 31
        }
      ]
    },
    {
      "cell_type": "markdown",
      "metadata": {
        "id": "c0ekLFHZEd-Q",
        "colab_type": "text"
      },
      "source": [
        "## タプル\n",
        "\n",
        "1. `4,9,10`を`T`変数に割り当てて、タプルを作りなさい。"
      ]
    },
    {
      "cell_type": "code",
      "metadata": {
        "id": "y5DO9AHtEpTh",
        "colab_type": "code",
        "outputId": "5c76528a-c1b0-49b8-c1bb-adf82150cb1c",
        "colab": {
          "base_uri": "https://localhost:8080/",
          "height": 33
        }
      },
      "source": [
        "T = (4,9,10)\n",
        "print(T)"
      ],
      "execution_count": 0,
      "outputs": [
        {
          "output_type": "stream",
          "text": [
            "(4, 9, 10)\n"
          ],
          "name": "stdout"
        }
      ]
    },
    {
      "cell_type": "code",
      "metadata": {
        "id": "7W4cXQHQE-f2",
        "colab_type": "code",
        "outputId": "7cfe2d1d-c1e5-4f3a-ec8f-4c2d28b72c1c",
        "colab": {
          "base_uri": "https://localhost:8080/",
          "height": 33
        }
      },
      "source": [
        "T = 4,9, 10\n",
        "print(T)"
      ],
      "execution_count": 0,
      "outputs": [
        {
          "output_type": "stream",
          "text": [
            "(4, 9, 10)\n"
          ],
          "name": "stdout"
        }
      ]
    },
    {
      "cell_type": "markdown",
      "metadata": {
        "id": "mUPDQM77E9Du",
        "colab_type": "text"
      },
      "source": [
        "2. `T`の長さを探しなさい。"
      ]
    },
    {
      "cell_type": "code",
      "metadata": {
        "id": "k9fOe75BFEi5",
        "colab_type": "code",
        "outputId": "075846a5-2af9-4609-f41f-dc09b2203c63",
        "colab": {
          "base_uri": "https://localhost:8080/",
          "height": 33
        }
      },
      "source": [
        "len(T)"
      ],
      "execution_count": 0,
      "outputs": [
        {
          "output_type": "execute_result",
          "data": {
            "text/plain": [
              "3"
            ]
          },
          "metadata": {
            "tags": []
          },
          "execution_count": 34
        }
      ]
    },
    {
      "cell_type": "markdown",
      "metadata": {
        "id": "iQ6b2ChhFGsA",
        "colab_type": "text"
      },
      "source": [
        "3. `T`の最初の値を探しなさい。"
      ]
    },
    {
      "cell_type": "code",
      "metadata": {
        "id": "0BxXllJ5FN2f",
        "colab_type": "code",
        "outputId": "f1eff84d-1cca-47f1-aa83-ea64c40d18c2",
        "colab": {
          "base_uri": "https://localhost:8080/",
          "height": 33
        }
      },
      "source": [
        "T[0]"
      ],
      "execution_count": 0,
      "outputs": [
        {
          "output_type": "execute_result",
          "data": {
            "text/plain": [
              "4"
            ]
          },
          "metadata": {
            "tags": []
          },
          "execution_count": 35
        }
      ]
    },
    {
      "cell_type": "markdown",
      "metadata": {
        "id": "_aMoFLBdFPfD",
        "colab_type": "text"
      },
      "source": [
        "4. タプルの値を変えられますか？可能なら、`T[1]`を`5`に変えなさい。"
      ]
    },
    {
      "cell_type": "code",
      "metadata": {
        "id": "wd-vIK_jFa_P",
        "colab_type": "code",
        "outputId": "272e9e84-1feb-4fc0-e3ea-a4f695bc5888",
        "colab": {
          "base_uri": "https://localhost:8080/",
          "height": 181
        }
      },
      "source": [
        "T[1] = 5"
      ],
      "execution_count": 0,
      "outputs": [
        {
          "output_type": "error",
          "ename": "TypeError",
          "evalue": "ignored",
          "traceback": [
            "\u001b[0;31m---------------------------------------------------------------------------\u001b[0m",
            "\u001b[0;31mTypeError\u001b[0m                                 Traceback (most recent call last)",
            "\u001b[0;32m<ipython-input-36-b6e9f985eb5d>\u001b[0m in \u001b[0;36m<module>\u001b[0;34m()\u001b[0m\n\u001b[0;32m----> 1\u001b[0;31m \u001b[0mT\u001b[0m\u001b[0;34m[\u001b[0m\u001b[0;36m1\u001b[0m\u001b[0;34m]\u001b[0m \u001b[0;34m=\u001b[0m \u001b[0;36m5\u001b[0m\u001b[0;34m\u001b[0m\u001b[0;34m\u001b[0m\u001b[0m\n\u001b[0m",
            "\u001b[0;31mTypeError\u001b[0m: 'tuple' object does not support item assignment"
          ]
        }
      ]
    },
    {
      "cell_type": "markdown",
      "metadata": {
        "id": "BXiE-pPGFfni",
        "colab_type": "text"
      },
      "source": [
        "5. タプルの中に別の要素を足すことが可能ですか？可能なら、`12`を要素のタプルの中に入れてください。"
      ]
    },
    {
      "cell_type": "code",
      "metadata": {
        "id": "IdtSH8SOFxAi",
        "colab_type": "code",
        "outputId": "cff01b88-0283-4e6b-d0df-e3d0d12e829a",
        "colab": {
          "base_uri": "https://localhost:8080/",
          "height": 181
        }
      },
      "source": [
        "T.append(12)"
      ],
      "execution_count": 0,
      "outputs": [
        {
          "output_type": "error",
          "ename": "AttributeError",
          "evalue": "ignored",
          "traceback": [
            "\u001b[0;31m---------------------------------------------------------------------------\u001b[0m",
            "\u001b[0;31mAttributeError\u001b[0m                            Traceback (most recent call last)",
            "\u001b[0;32m<ipython-input-37-e9e4bc125115>\u001b[0m in \u001b[0;36m<module>\u001b[0;34m()\u001b[0m\n\u001b[0;32m----> 1\u001b[0;31m \u001b[0mT\u001b[0m\u001b[0;34m.\u001b[0m\u001b[0mappend\u001b[0m\u001b[0;34m(\u001b[0m\u001b[0;36m12\u001b[0m\u001b[0;34m)\u001b[0m\u001b[0;34m\u001b[0m\u001b[0;34m\u001b[0m\u001b[0m\n\u001b[0m",
            "\u001b[0;31mAttributeError\u001b[0m: 'tuple' object has no attribute 'append'"
          ]
        }
      ]
    },
    {
      "cell_type": "code",
      "metadata": {
        "id": "NWDemabqF0gA",
        "colab_type": "code",
        "outputId": "6074cd5b-57c1-4d69-a30a-4390262a974c",
        "colab": {
          "base_uri": "https://localhost:8080/",
          "height": 33
        }
      },
      "source": [
        "T2 = (12, )\n",
        "T += T2\n",
        "print (T)"
      ],
      "execution_count": 0,
      "outputs": [
        {
          "output_type": "stream",
          "text": [
            "(4, 9, 10, 12)\n"
          ],
          "name": "stdout"
        }
      ]
    }
  ]
}